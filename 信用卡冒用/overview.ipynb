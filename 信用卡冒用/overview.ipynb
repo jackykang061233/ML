{
 "cells": [
  {
   "cell_type": "code",
   "execution_count": 1,
   "metadata": {},
   "outputs": [],
   "source": [
    "import pandas as pd\n",
    "import numpy as np\n",
    "import seaborn as sns\n",
    "import matplotlib.pyplot as plt\n"
   ]
  },
  {
   "cell_type": "code",
   "execution_count": 4,
   "metadata": {},
   "outputs": [
    {
     "data": {
      "text/html": [
       "<div>\n",
       "<style scoped>\n",
       "    .dataframe tbody tr th:only-of-type {\n",
       "        vertical-align: middle;\n",
       "    }\n",
       "\n",
       "    .dataframe tbody tr th {\n",
       "        vertical-align: top;\n",
       "    }\n",
       "\n",
       "    .dataframe thead th {\n",
       "        text-align: right;\n",
       "    }\n",
       "</style>\n",
       "<table border=\"1\" class=\"dataframe\">\n",
       "  <thead>\n",
       "    <tr style=\"text-align: right;\">\n",
       "      <th></th>\n",
       "      <th>txkey</th>\n",
       "      <th>locdt</th>\n",
       "      <th>loctm</th>\n",
       "      <th>chid</th>\n",
       "      <th>cano</th>\n",
       "      <th>contp</th>\n",
       "      <th>etymd</th>\n",
       "      <th>mchno</th>\n",
       "      <th>acqic</th>\n",
       "      <th>mcc</th>\n",
       "      <th>...</th>\n",
       "      <th>stocn</th>\n",
       "      <th>scity</th>\n",
       "      <th>stscd</th>\n",
       "      <th>ovrlt</th>\n",
       "      <th>flbmk</th>\n",
       "      <th>hcefg</th>\n",
       "      <th>csmcu</th>\n",
       "      <th>csmam</th>\n",
       "      <th>flg_3dsmk</th>\n",
       "      <th>label</th>\n",
       "    </tr>\n",
       "  </thead>\n",
       "  <tbody>\n",
       "    <tr>\n",
       "      <th>0</th>\n",
       "      <td>1c09727c939eb69ead2a4ce4072b8aa18992a64f01fcb4...</td>\n",
       "      <td>46</td>\n",
       "      <td>101812</td>\n",
       "      <td>84d2dc85d4da6a7fa284a11a4290d7e9a969163dcb4d82...</td>\n",
       "      <td>3dd5bf1e29e5e0baa789ce692fe5dbd34ff05173acf351...</td>\n",
       "      <td>5</td>\n",
       "      <td>1.0</td>\n",
       "      <td>cad752c5d05d2bdcc30d64fa4e68404c2d1f7be5d14d52...</td>\n",
       "      <td>8f6b3ff512a001e0d1988c6cd888ef8c74112fb71117e5...</td>\n",
       "      <td>375.0</td>\n",
       "      <td>...</td>\n",
       "      <td>0.0</td>\n",
       "      <td>15759.0</td>\n",
       "      <td>NaN</td>\n",
       "      <td>0</td>\n",
       "      <td>0</td>\n",
       "      <td>6.0</td>\n",
       "      <td>70.0</td>\n",
       "      <td>1529</td>\n",
       "      <td>0</td>\n",
       "      <td>0</td>\n",
       "    </tr>\n",
       "    <tr>\n",
       "      <th>1</th>\n",
       "      <td>2043f245a93bc6328dac964d6dbc89f13a0346062c194d...</td>\n",
       "      <td>17</td>\n",
       "      <td>85509</td>\n",
       "      <td>9a8cf5d0afd729cb7876f6b3172152c7c9c6fabd40515c...</td>\n",
       "      <td>8cb13f9b38c7bbc02d210e580dcbbcbb6c95bf18bc3320...</td>\n",
       "      <td>5</td>\n",
       "      <td>8.0</td>\n",
       "      <td>4356c6642ef6e837543b577c7ee3ffa92b4b8fcfb57254...</td>\n",
       "      <td>379166ff4a62dac343b4b734188aa618716cc496e48b65...</td>\n",
       "      <td>282.0</td>\n",
       "      <td>...</td>\n",
       "      <td>0.0</td>\n",
       "      <td>15759.0</td>\n",
       "      <td>NaN</td>\n",
       "      <td>0</td>\n",
       "      <td>0</td>\n",
       "      <td>8.0</td>\n",
       "      <td>70.0</td>\n",
       "      <td>101</td>\n",
       "      <td>0</td>\n",
       "      <td>0</td>\n",
       "    </tr>\n",
       "    <tr>\n",
       "      <th>2</th>\n",
       "      <td>e4853710290a8409279f3279f8032ae670824bd19aa173...</td>\n",
       "      <td>44</td>\n",
       "      <td>212641</td>\n",
       "      <td>dcc1389a5765d6f53152cf85970fbe78a83fd3d1c299b0...</td>\n",
       "      <td>1ec32868e5e1d5ff8df56737c2a91326cbfe3364382de6...</td>\n",
       "      <td>5</td>\n",
       "      <td>4.0</td>\n",
       "      <td>5b7eff061f8896aac4339ea35c25f8bb956a43bc486460...</td>\n",
       "      <td>8f6b3ff512a001e0d1988c6cd888ef8c74112fb71117e5...</td>\n",
       "      <td>288.0</td>\n",
       "      <td>...</td>\n",
       "      <td>0.0</td>\n",
       "      <td>15759.0</td>\n",
       "      <td>NaN</td>\n",
       "      <td>0</td>\n",
       "      <td>0</td>\n",
       "      <td>6.0</td>\n",
       "      <td>70.0</td>\n",
       "      <td>116</td>\n",
       "      <td>0</td>\n",
       "      <td>0</td>\n",
       "    </tr>\n",
       "    <tr>\n",
       "      <th>3</th>\n",
       "      <td>74d811b1dbc28b22b73ba2c79bb6033791d913b6d27a25...</td>\n",
       "      <td>42</td>\n",
       "      <td>102702</td>\n",
       "      <td>577f2329d1eccd59ba0abaf6113bb78dcd575badcbc57f...</td>\n",
       "      <td>4359dca1ac6a835eceb2bc0dd6b0b710f030c3499126e9...</td>\n",
       "      <td>5</td>\n",
       "      <td>1.0</td>\n",
       "      <td>cad752c5d05d2bdcc30d64fa4e68404c2d1f7be5d14d52...</td>\n",
       "      <td>36684976be1f529e6e2a32c9edab4cf8e364b2b916ae2c...</td>\n",
       "      <td>375.0</td>\n",
       "      <td>...</td>\n",
       "      <td>0.0</td>\n",
       "      <td>15759.0</td>\n",
       "      <td>NaN</td>\n",
       "      <td>0</td>\n",
       "      <td>0</td>\n",
       "      <td>6.0</td>\n",
       "      <td>70.0</td>\n",
       "      <td>1683</td>\n",
       "      <td>0</td>\n",
       "      <td>0</td>\n",
       "    </tr>\n",
       "    <tr>\n",
       "      <th>4</th>\n",
       "      <td>68ca182343969d429d79a34e532bc1ca7a3cc032c2ad81...</td>\n",
       "      <td>31</td>\n",
       "      <td>185737</td>\n",
       "      <td>fff6b4126c40620b1fbb11d4de02cd67b9e95071caa40b...</td>\n",
       "      <td>a3837f2905383f235a72679482c5f02e40f2a8ca29750d...</td>\n",
       "      <td>5</td>\n",
       "      <td>5.0</td>\n",
       "      <td>50d5b02ce3fc88723438c2a29cfdb04be4a1a11280ddb6...</td>\n",
       "      <td>379166ff4a62dac343b4b734188aa618716cc496e48b65...</td>\n",
       "      <td>406.0</td>\n",
       "      <td>...</td>\n",
       "      <td>0.0</td>\n",
       "      <td>15759.0</td>\n",
       "      <td>NaN</td>\n",
       "      <td>0</td>\n",
       "      <td>0</td>\n",
       "      <td>6.0</td>\n",
       "      <td>70.0</td>\n",
       "      <td>14</td>\n",
       "      <td>0</td>\n",
       "      <td>0</td>\n",
       "    </tr>\n",
       "  </tbody>\n",
       "</table>\n",
       "<p>5 rows × 26 columns</p>\n",
       "</div>"
      ],
      "text/plain": [
       "                                               txkey  locdt   loctm  \\\n",
       "0  1c09727c939eb69ead2a4ce4072b8aa18992a64f01fcb4...     46  101812   \n",
       "1  2043f245a93bc6328dac964d6dbc89f13a0346062c194d...     17   85509   \n",
       "2  e4853710290a8409279f3279f8032ae670824bd19aa173...     44  212641   \n",
       "3  74d811b1dbc28b22b73ba2c79bb6033791d913b6d27a25...     42  102702   \n",
       "4  68ca182343969d429d79a34e532bc1ca7a3cc032c2ad81...     31  185737   \n",
       "\n",
       "                                                chid  \\\n",
       "0  84d2dc85d4da6a7fa284a11a4290d7e9a969163dcb4d82...   \n",
       "1  9a8cf5d0afd729cb7876f6b3172152c7c9c6fabd40515c...   \n",
       "2  dcc1389a5765d6f53152cf85970fbe78a83fd3d1c299b0...   \n",
       "3  577f2329d1eccd59ba0abaf6113bb78dcd575badcbc57f...   \n",
       "4  fff6b4126c40620b1fbb11d4de02cd67b9e95071caa40b...   \n",
       "\n",
       "                                                cano  contp  etymd  \\\n",
       "0  3dd5bf1e29e5e0baa789ce692fe5dbd34ff05173acf351...      5    1.0   \n",
       "1  8cb13f9b38c7bbc02d210e580dcbbcbb6c95bf18bc3320...      5    8.0   \n",
       "2  1ec32868e5e1d5ff8df56737c2a91326cbfe3364382de6...      5    4.0   \n",
       "3  4359dca1ac6a835eceb2bc0dd6b0b710f030c3499126e9...      5    1.0   \n",
       "4  a3837f2905383f235a72679482c5f02e40f2a8ca29750d...      5    5.0   \n",
       "\n",
       "                                               mchno  \\\n",
       "0  cad752c5d05d2bdcc30d64fa4e68404c2d1f7be5d14d52...   \n",
       "1  4356c6642ef6e837543b577c7ee3ffa92b4b8fcfb57254...   \n",
       "2  5b7eff061f8896aac4339ea35c25f8bb956a43bc486460...   \n",
       "3  cad752c5d05d2bdcc30d64fa4e68404c2d1f7be5d14d52...   \n",
       "4  50d5b02ce3fc88723438c2a29cfdb04be4a1a11280ddb6...   \n",
       "\n",
       "                                               acqic    mcc  ...  stocn  \\\n",
       "0  8f6b3ff512a001e0d1988c6cd888ef8c74112fb71117e5...  375.0  ...    0.0   \n",
       "1  379166ff4a62dac343b4b734188aa618716cc496e48b65...  282.0  ...    0.0   \n",
       "2  8f6b3ff512a001e0d1988c6cd888ef8c74112fb71117e5...  288.0  ...    0.0   \n",
       "3  36684976be1f529e6e2a32c9edab4cf8e364b2b916ae2c...  375.0  ...    0.0   \n",
       "4  379166ff4a62dac343b4b734188aa618716cc496e48b65...  406.0  ...    0.0   \n",
       "\n",
       "     scity  stscd  ovrlt  flbmk  hcefg  csmcu  csmam  flg_3dsmk  label  \n",
       "0  15759.0    NaN      0      0    6.0   70.0   1529          0      0  \n",
       "1  15759.0    NaN      0      0    8.0   70.0    101          0      0  \n",
       "2  15759.0    NaN      0      0    6.0   70.0    116          0      0  \n",
       "3  15759.0    NaN      0      0    6.0   70.0   1683          0      0  \n",
       "4  15759.0    NaN      0      0    6.0   70.0     14          0      0  \n",
       "\n",
       "[5 rows x 26 columns]"
      ]
     },
     "execution_count": 4,
     "metadata": {},
     "output_type": "execute_result"
    }
   ],
   "source": [
    "df = pd.read_csv('dataset_1st/training.csv')\n",
    "df.head()"
   ]
  },
  {
   "cell_type": "code",
   "execution_count": 64,
   "metadata": {},
   "outputs": [
    {
     "data": {
      "text/html": [
       "<div>\n",
       "<style scoped>\n",
       "    .dataframe tbody tr th:only-of-type {\n",
       "        vertical-align: middle;\n",
       "    }\n",
       "\n",
       "    .dataframe tbody tr th {\n",
       "        vertical-align: top;\n",
       "    }\n",
       "\n",
       "    .dataframe thead th {\n",
       "        text-align: right;\n",
       "    }\n",
       "</style>\n",
       "<table border=\"1\" class=\"dataframe\">\n",
       "  <thead>\n",
       "    <tr style=\"text-align: right;\">\n",
       "      <th></th>\n",
       "      <th>locdt</th>\n",
       "      <th>loctm</th>\n",
       "      <th>contp</th>\n",
       "      <th>etymd</th>\n",
       "      <th>mcc</th>\n",
       "      <th>conam</th>\n",
       "      <th>ecfg</th>\n",
       "      <th>insfg</th>\n",
       "      <th>iterm</th>\n",
       "      <th>bnsfg</th>\n",
       "      <th>...</th>\n",
       "      <th>stocn</th>\n",
       "      <th>scity</th>\n",
       "      <th>stscd</th>\n",
       "      <th>ovrlt</th>\n",
       "      <th>flbmk</th>\n",
       "      <th>hcefg</th>\n",
       "      <th>csmcu</th>\n",
       "      <th>csmam</th>\n",
       "      <th>flg_3dsmk</th>\n",
       "      <th>label</th>\n",
       "    </tr>\n",
       "  </thead>\n",
       "  <tbody>\n",
       "    <tr>\n",
       "      <th>count</th>\n",
       "      <td>8.688526e+06</td>\n",
       "      <td>8.688526e+06</td>\n",
       "      <td>8.688526e+06</td>\n",
       "      <td>8.485071e+06</td>\n",
       "      <td>8.683976e+06</td>\n",
       "      <td>8.688526e+06</td>\n",
       "      <td>8.688526e+06</td>\n",
       "      <td>8.688526e+06</td>\n",
       "      <td>8.688526e+06</td>\n",
       "      <td>8.688526e+06</td>\n",
       "      <td>...</td>\n",
       "      <td>8.687926e+06</td>\n",
       "      <td>8.422460e+06</td>\n",
       "      <td>23331.000000</td>\n",
       "      <td>8.688526e+06</td>\n",
       "      <td>8.688526e+06</td>\n",
       "      <td>8.401870e+06</td>\n",
       "      <td>8.189869e+06</td>\n",
       "      <td>8.688526e+06</td>\n",
       "      <td>8.688526e+06</td>\n",
       "      <td>8.688526e+06</td>\n",
       "    </tr>\n",
       "    <tr>\n",
       "      <th>mean</th>\n",
       "      <td>2.750020e+01</td>\n",
       "      <td>1.430832e+05</td>\n",
       "      <td>4.905415e+00</td>\n",
       "      <td>4.714078e+00</td>\n",
       "      <td>3.173557e+02</td>\n",
       "      <td>1.418676e+03</td>\n",
       "      <td>5.719845e-01</td>\n",
       "      <td>1.058661e-02</td>\n",
       "      <td>6.073458e-02</td>\n",
       "      <td>1.272713e-03</td>\n",
       "      <td>...</td>\n",
       "      <td>8.324148e+00</td>\n",
       "      <td>1.430112e+04</td>\n",
       "      <td>0.973254</td>\n",
       "      <td>9.741814e-03</td>\n",
       "      <td>3.058056e-04</td>\n",
       "      <td>5.351585e+00</td>\n",
       "      <td>6.963586e+01</td>\n",
       "      <td>2.806845e+03</td>\n",
       "      <td>8.530687e-02</td>\n",
       "      <td>3.686356e-03</td>\n",
       "    </tr>\n",
       "    <tr>\n",
       "      <th>std</th>\n",
       "      <td>1.617132e+01</td>\n",
       "      <td>5.380955e+04</td>\n",
       "      <td>4.744539e-01</td>\n",
       "      <td>2.259769e+00</td>\n",
       "      <td>6.865512e+01</td>\n",
       "      <td>9.518751e+03</td>\n",
       "      <td>4.947911e-01</td>\n",
       "      <td>1.023452e-01</td>\n",
       "      <td>7.347819e-01</td>\n",
       "      <td>3.565240e-02</td>\n",
       "      <td>...</td>\n",
       "      <td>2.775047e+01</td>\n",
       "      <td>3.053059e+03</td>\n",
       "      <td>0.211065</td>\n",
       "      <td>9.821869e-02</td>\n",
       "      <td>1.748463e-02</td>\n",
       "      <td>1.868967e+00</td>\n",
       "      <td>4.386718e+00</td>\n",
       "      <td>1.084921e+05</td>\n",
       "      <td>2.793378e-01</td>\n",
       "      <td>6.060336e-02</td>\n",
       "    </tr>\n",
       "    <tr>\n",
       "      <th>min</th>\n",
       "      <td>0.000000e+00</td>\n",
       "      <td>0.000000e+00</td>\n",
       "      <td>0.000000e+00</td>\n",
       "      <td>0.000000e+00</td>\n",
       "      <td>0.000000e+00</td>\n",
       "      <td>0.000000e+00</td>\n",
       "      <td>0.000000e+00</td>\n",
       "      <td>0.000000e+00</td>\n",
       "      <td>0.000000e+00</td>\n",
       "      <td>0.000000e+00</td>\n",
       "      <td>...</td>\n",
       "      <td>0.000000e+00</td>\n",
       "      <td>0.000000e+00</td>\n",
       "      <td>0.000000</td>\n",
       "      <td>0.000000e+00</td>\n",
       "      <td>0.000000e+00</td>\n",
       "      <td>0.000000e+00</td>\n",
       "      <td>0.000000e+00</td>\n",
       "      <td>0.000000e+00</td>\n",
       "      <td>0.000000e+00</td>\n",
       "      <td>0.000000e+00</td>\n",
       "    </tr>\n",
       "    <tr>\n",
       "      <th>25%</th>\n",
       "      <td>1.300000e+01</td>\n",
       "      <td>1.042070e+05</td>\n",
       "      <td>5.000000e+00</td>\n",
       "      <td>4.000000e+00</td>\n",
       "      <td>2.760000e+02</td>\n",
       "      <td>1.050000e+02</td>\n",
       "      <td>0.000000e+00</td>\n",
       "      <td>0.000000e+00</td>\n",
       "      <td>0.000000e+00</td>\n",
       "      <td>0.000000e+00</td>\n",
       "      <td>...</td>\n",
       "      <td>0.000000e+00</td>\n",
       "      <td>1.557400e+04</td>\n",
       "      <td>1.000000</td>\n",
       "      <td>0.000000e+00</td>\n",
       "      <td>0.000000e+00</td>\n",
       "      <td>6.000000e+00</td>\n",
       "      <td>7.000000e+01</td>\n",
       "      <td>9.400000e+01</td>\n",
       "      <td>0.000000e+00</td>\n",
       "      <td>0.000000e+00</td>\n",
       "    </tr>\n",
       "    <tr>\n",
       "      <th>50%</th>\n",
       "      <td>2.700000e+01</td>\n",
       "      <td>1.452280e+05</td>\n",
       "      <td>5.000000e+00</td>\n",
       "      <td>5.000000e+00</td>\n",
       "      <td>2.890000e+02</td>\n",
       "      <td>3.150000e+02</td>\n",
       "      <td>1.000000e+00</td>\n",
       "      <td>0.000000e+00</td>\n",
       "      <td>0.000000e+00</td>\n",
       "      <td>0.000000e+00</td>\n",
       "      <td>...</td>\n",
       "      <td>0.000000e+00</td>\n",
       "      <td>1.575900e+04</td>\n",
       "      <td>1.000000</td>\n",
       "      <td>0.000000e+00</td>\n",
       "      <td>0.000000e+00</td>\n",
       "      <td>6.000000e+00</td>\n",
       "      <td>7.000000e+01</td>\n",
       "      <td>2.890000e+02</td>\n",
       "      <td>0.000000e+00</td>\n",
       "      <td>0.000000e+00</td>\n",
       "    </tr>\n",
       "    <tr>\n",
       "      <th>75%</th>\n",
       "      <td>4.100000e+01</td>\n",
       "      <td>1.848040e+05</td>\n",
       "      <td>5.000000e+00</td>\n",
       "      <td>5.000000e+00</td>\n",
       "      <td>3.240000e+02</td>\n",
       "      <td>9.000000e+02</td>\n",
       "      <td>1.000000e+00</td>\n",
       "      <td>0.000000e+00</td>\n",
       "      <td>0.000000e+00</td>\n",
       "      <td>0.000000e+00</td>\n",
       "      <td>...</td>\n",
       "      <td>0.000000e+00</td>\n",
       "      <td>1.575900e+04</td>\n",
       "      <td>1.000000</td>\n",
       "      <td>0.000000e+00</td>\n",
       "      <td>0.000000e+00</td>\n",
       "      <td>6.000000e+00</td>\n",
       "      <td>7.000000e+01</td>\n",
       "      <td>9.800000e+02</td>\n",
       "      <td>0.000000e+00</td>\n",
       "      <td>0.000000e+00</td>\n",
       "    </tr>\n",
       "    <tr>\n",
       "      <th>max</th>\n",
       "      <td>5.500000e+01</td>\n",
       "      <td>2.359590e+05</td>\n",
       "      <td>6.000000e+00</td>\n",
       "      <td>1.000000e+01</td>\n",
       "      <td>5.010000e+02</td>\n",
       "      <td>5.051970e+06</td>\n",
       "      <td>1.000000e+00</td>\n",
       "      <td>1.000000e+00</td>\n",
       "      <td>3.000000e+01</td>\n",
       "      <td>1.000000e+00</td>\n",
       "      <td>...</td>\n",
       "      <td>1.340000e+02</td>\n",
       "      <td>1.734000e+04</td>\n",
       "      <td>4.000000</td>\n",
       "      <td>1.000000e+00</td>\n",
       "      <td>1.000000e+00</td>\n",
       "      <td>1.000000e+01</td>\n",
       "      <td>8.500000e+01</td>\n",
       "      <td>7.473480e+07</td>\n",
       "      <td>1.000000e+00</td>\n",
       "      <td>1.000000e+00</td>\n",
       "    </tr>\n",
       "  </tbody>\n",
       "</table>\n",
       "<p>8 rows × 21 columns</p>\n",
       "</div>"
      ],
      "text/plain": [
       "              locdt         loctm         contp         etymd           mcc  \\\n",
       "count  8.688526e+06  8.688526e+06  8.688526e+06  8.485071e+06  8.683976e+06   \n",
       "mean   2.750020e+01  1.430832e+05  4.905415e+00  4.714078e+00  3.173557e+02   \n",
       "std    1.617132e+01  5.380955e+04  4.744539e-01  2.259769e+00  6.865512e+01   \n",
       "min    0.000000e+00  0.000000e+00  0.000000e+00  0.000000e+00  0.000000e+00   \n",
       "25%    1.300000e+01  1.042070e+05  5.000000e+00  4.000000e+00  2.760000e+02   \n",
       "50%    2.700000e+01  1.452280e+05  5.000000e+00  5.000000e+00  2.890000e+02   \n",
       "75%    4.100000e+01  1.848040e+05  5.000000e+00  5.000000e+00  3.240000e+02   \n",
       "max    5.500000e+01  2.359590e+05  6.000000e+00  1.000000e+01  5.010000e+02   \n",
       "\n",
       "              conam          ecfg         insfg         iterm         bnsfg  \\\n",
       "count  8.688526e+06  8.688526e+06  8.688526e+06  8.688526e+06  8.688526e+06   \n",
       "mean   1.418676e+03  5.719845e-01  1.058661e-02  6.073458e-02  1.272713e-03   \n",
       "std    9.518751e+03  4.947911e-01  1.023452e-01  7.347819e-01  3.565240e-02   \n",
       "min    0.000000e+00  0.000000e+00  0.000000e+00  0.000000e+00  0.000000e+00   \n",
       "25%    1.050000e+02  0.000000e+00  0.000000e+00  0.000000e+00  0.000000e+00   \n",
       "50%    3.150000e+02  1.000000e+00  0.000000e+00  0.000000e+00  0.000000e+00   \n",
       "75%    9.000000e+02  1.000000e+00  0.000000e+00  0.000000e+00  0.000000e+00   \n",
       "max    5.051970e+06  1.000000e+00  1.000000e+00  3.000000e+01  1.000000e+00   \n",
       "\n",
       "       ...         stocn         scity         stscd         ovrlt  \\\n",
       "count  ...  8.687926e+06  8.422460e+06  23331.000000  8.688526e+06   \n",
       "mean   ...  8.324148e+00  1.430112e+04      0.973254  9.741814e-03   \n",
       "std    ...  2.775047e+01  3.053059e+03      0.211065  9.821869e-02   \n",
       "min    ...  0.000000e+00  0.000000e+00      0.000000  0.000000e+00   \n",
       "25%    ...  0.000000e+00  1.557400e+04      1.000000  0.000000e+00   \n",
       "50%    ...  0.000000e+00  1.575900e+04      1.000000  0.000000e+00   \n",
       "75%    ...  0.000000e+00  1.575900e+04      1.000000  0.000000e+00   \n",
       "max    ...  1.340000e+02  1.734000e+04      4.000000  1.000000e+00   \n",
       "\n",
       "              flbmk         hcefg         csmcu         csmam     flg_3dsmk  \\\n",
       "count  8.688526e+06  8.401870e+06  8.189869e+06  8.688526e+06  8.688526e+06   \n",
       "mean   3.058056e-04  5.351585e+00  6.963586e+01  2.806845e+03  8.530687e-02   \n",
       "std    1.748463e-02  1.868967e+00  4.386718e+00  1.084921e+05  2.793378e-01   \n",
       "min    0.000000e+00  0.000000e+00  0.000000e+00  0.000000e+00  0.000000e+00   \n",
       "25%    0.000000e+00  6.000000e+00  7.000000e+01  9.400000e+01  0.000000e+00   \n",
       "50%    0.000000e+00  6.000000e+00  7.000000e+01  2.890000e+02  0.000000e+00   \n",
       "75%    0.000000e+00  6.000000e+00  7.000000e+01  9.800000e+02  0.000000e+00   \n",
       "max    1.000000e+00  1.000000e+01  8.500000e+01  7.473480e+07  1.000000e+00   \n",
       "\n",
       "              label  \n",
       "count  8.688526e+06  \n",
       "mean   3.686356e-03  \n",
       "std    6.060336e-02  \n",
       "min    0.000000e+00  \n",
       "25%    0.000000e+00  \n",
       "50%    0.000000e+00  \n",
       "75%    0.000000e+00  \n",
       "max    1.000000e+00  \n",
       "\n",
       "[8 rows x 21 columns]"
      ]
     },
     "execution_count": 64,
     "metadata": {},
     "output_type": "execute_result"
    }
   ],
   "source": [
    "df.describe()"
   ]
  },
  {
   "cell_type": "code",
   "execution_count": 6,
   "metadata": {},
   "outputs": [
    {
     "data": {
      "text/html": [
       "<div>\n",
       "<style scoped>\n",
       "    .dataframe tbody tr th:only-of-type {\n",
       "        vertical-align: middle;\n",
       "    }\n",
       "\n",
       "    .dataframe tbody tr th {\n",
       "        vertical-align: top;\n",
       "    }\n",
       "\n",
       "    .dataframe thead th {\n",
       "        text-align: right;\n",
       "    }\n",
       "</style>\n",
       "<table border=\"1\" class=\"dataframe\">\n",
       "  <thead>\n",
       "    <tr style=\"text-align: right;\">\n",
       "      <th></th>\n",
       "      <th>txkey</th>\n",
       "      <th>locdt</th>\n",
       "      <th>loctm</th>\n",
       "      <th>chid</th>\n",
       "      <th>cano</th>\n",
       "      <th>contp</th>\n",
       "      <th>etymd</th>\n",
       "      <th>mchno</th>\n",
       "      <th>acqic</th>\n",
       "      <th>mcc</th>\n",
       "      <th>...</th>\n",
       "      <th>flam1</th>\n",
       "      <th>stocn</th>\n",
       "      <th>scity</th>\n",
       "      <th>stscd</th>\n",
       "      <th>ovrlt</th>\n",
       "      <th>flbmk</th>\n",
       "      <th>hcefg</th>\n",
       "      <th>csmcu</th>\n",
       "      <th>csmam</th>\n",
       "      <th>flg_3dsmk</th>\n",
       "    </tr>\n",
       "  </thead>\n",
       "  <tbody>\n",
       "    <tr>\n",
       "      <th>0</th>\n",
       "      <td>a2c1209018e4e52e04f6fabb48f05f1b8bc09dc838ff6c...</td>\n",
       "      <td>56</td>\n",
       "      <td>105157</td>\n",
       "      <td>d6d145d0d058e3f63b9ec421cf9e1543b0c3e059d18c2c...</td>\n",
       "      <td>9c454e0cf3680075b0382394ca59b00ee9435fd829da29...</td>\n",
       "      <td>4</td>\n",
       "      <td>1.0</td>\n",
       "      <td>8be206f97d10b57a46ea0ef5527155a0f9b48d16255b70...</td>\n",
       "      <td>2a608b081c09492bd2bc96d7def5371c4bc9cabf324a98...</td>\n",
       "      <td>272.0</td>\n",
       "      <td>...</td>\n",
       "      <td>1349</td>\n",
       "      <td>0.0</td>\n",
       "      <td>15759.0</td>\n",
       "      <td>NaN</td>\n",
       "      <td>0</td>\n",
       "      <td>0</td>\n",
       "      <td>6.0</td>\n",
       "      <td>70.0</td>\n",
       "      <td>1349</td>\n",
       "      <td>0</td>\n",
       "    </tr>\n",
       "    <tr>\n",
       "      <th>1</th>\n",
       "      <td>16c4880500059e01553789be11bbb50753b7acaae7b95b...</td>\n",
       "      <td>56</td>\n",
       "      <td>185520</td>\n",
       "      <td>b599fb83473599fa2df4a04136a668c28df7914293f1da...</td>\n",
       "      <td>9f097cba6a70333c906904ebaad438356cf75b6abf5dd4...</td>\n",
       "      <td>5</td>\n",
       "      <td>8.0</td>\n",
       "      <td>dd280b4f35a02701142ba7de47abb9736deca3eed86474...</td>\n",
       "      <td>46f63555d29f177290dfe20e989146fb033e453f1d5ff3...</td>\n",
       "      <td>320.0</td>\n",
       "      <td>...</td>\n",
       "      <td>306</td>\n",
       "      <td>0.0</td>\n",
       "      <td>13451.0</td>\n",
       "      <td>NaN</td>\n",
       "      <td>0</td>\n",
       "      <td>0</td>\n",
       "      <td>6.0</td>\n",
       "      <td>70.0</td>\n",
       "      <td>306</td>\n",
       "      <td>0</td>\n",
       "    </tr>\n",
       "    <tr>\n",
       "      <th>2</th>\n",
       "      <td>623c56be3bee87724e3d119c271d9ed098eeda84233183...</td>\n",
       "      <td>59</td>\n",
       "      <td>102312</td>\n",
       "      <td>8de197129150d454df1639e9743c1aa11b1c1122a2010c...</td>\n",
       "      <td>439691cb167b272661c2eb9073124f5d422f446b0f92fb...</td>\n",
       "      <td>5</td>\n",
       "      <td>1.0</td>\n",
       "      <td>9b2d5b4678781e53038e91ea5324530a03f27dc1d0e5f6...</td>\n",
       "      <td>9b2d5b4678781e53038e91ea5324530a03f27dc1d0e5f6...</td>\n",
       "      <td>494.0</td>\n",
       "      <td>...</td>\n",
       "      <td>20</td>\n",
       "      <td>0.0</td>\n",
       "      <td>15759.0</td>\n",
       "      <td>NaN</td>\n",
       "      <td>0</td>\n",
       "      <td>0</td>\n",
       "      <td>NaN</td>\n",
       "      <td>NaN</td>\n",
       "      <td>0</td>\n",
       "      <td>0</td>\n",
       "    </tr>\n",
       "    <tr>\n",
       "      <th>3</th>\n",
       "      <td>250da12187059cf6e3a3066656a2919d08ceb8207efd55...</td>\n",
       "      <td>58</td>\n",
       "      <td>230138</td>\n",
       "      <td>f9cbad08a76f1dd9736a4fc51255eb55637ec0a417a406...</td>\n",
       "      <td>992679b728784192c17e90939918cbfae32ad1222fad26...</td>\n",
       "      <td>5</td>\n",
       "      <td>5.0</td>\n",
       "      <td>bd2b3523b4ecd652445b75ea7583c92f6f02af3971251b...</td>\n",
       "      <td>70dac5b1dfde828f556a93321a649df72891db35430588...</td>\n",
       "      <td>272.0</td>\n",
       "      <td>...</td>\n",
       "      <td>8339</td>\n",
       "      <td>42.0</td>\n",
       "      <td>12381.0</td>\n",
       "      <td>NaN</td>\n",
       "      <td>0</td>\n",
       "      <td>0</td>\n",
       "      <td>6.0</td>\n",
       "      <td>70.0</td>\n",
       "      <td>8339</td>\n",
       "      <td>0</td>\n",
       "    </tr>\n",
       "    <tr>\n",
       "      <th>4</th>\n",
       "      <td>4b268e0da036f44cbbb056ddfac6a28ea336d9cf299843...</td>\n",
       "      <td>59</td>\n",
       "      <td>101937</td>\n",
       "      <td>27d235e691a425098f291105f78f9877e05bb75e1f132b...</td>\n",
       "      <td>763fd2a91420f9b632c378ca82ff9e318851fa1964cbba...</td>\n",
       "      <td>5</td>\n",
       "      <td>5.0</td>\n",
       "      <td>156987f72b8993b8c5a898fa76f3b8e6454e10e18aa238...</td>\n",
       "      <td>89b1654aaef0b65b1868004cfdce2dcbb67f15b7fba535...</td>\n",
       "      <td>217.0</td>\n",
       "      <td>...</td>\n",
       "      <td>163</td>\n",
       "      <td>126.0</td>\n",
       "      <td>14786.0</td>\n",
       "      <td>NaN</td>\n",
       "      <td>0</td>\n",
       "      <td>0</td>\n",
       "      <td>6.0</td>\n",
       "      <td>68.0</td>\n",
       "      <td>5</td>\n",
       "      <td>0</td>\n",
       "    </tr>\n",
       "  </tbody>\n",
       "</table>\n",
       "<p>5 rows × 25 columns</p>\n",
       "</div>"
      ],
      "text/plain": [
       "                                               txkey  locdt   loctm  \\\n",
       "0  a2c1209018e4e52e04f6fabb48f05f1b8bc09dc838ff6c...     56  105157   \n",
       "1  16c4880500059e01553789be11bbb50753b7acaae7b95b...     56  185520   \n",
       "2  623c56be3bee87724e3d119c271d9ed098eeda84233183...     59  102312   \n",
       "3  250da12187059cf6e3a3066656a2919d08ceb8207efd55...     58  230138   \n",
       "4  4b268e0da036f44cbbb056ddfac6a28ea336d9cf299843...     59  101937   \n",
       "\n",
       "                                                chid  \\\n",
       "0  d6d145d0d058e3f63b9ec421cf9e1543b0c3e059d18c2c...   \n",
       "1  b599fb83473599fa2df4a04136a668c28df7914293f1da...   \n",
       "2  8de197129150d454df1639e9743c1aa11b1c1122a2010c...   \n",
       "3  f9cbad08a76f1dd9736a4fc51255eb55637ec0a417a406...   \n",
       "4  27d235e691a425098f291105f78f9877e05bb75e1f132b...   \n",
       "\n",
       "                                                cano  contp  etymd  \\\n",
       "0  9c454e0cf3680075b0382394ca59b00ee9435fd829da29...      4    1.0   \n",
       "1  9f097cba6a70333c906904ebaad438356cf75b6abf5dd4...      5    8.0   \n",
       "2  439691cb167b272661c2eb9073124f5d422f446b0f92fb...      5    1.0   \n",
       "3  992679b728784192c17e90939918cbfae32ad1222fad26...      5    5.0   \n",
       "4  763fd2a91420f9b632c378ca82ff9e318851fa1964cbba...      5    5.0   \n",
       "\n",
       "                                               mchno  \\\n",
       "0  8be206f97d10b57a46ea0ef5527155a0f9b48d16255b70...   \n",
       "1  dd280b4f35a02701142ba7de47abb9736deca3eed86474...   \n",
       "2  9b2d5b4678781e53038e91ea5324530a03f27dc1d0e5f6...   \n",
       "3  bd2b3523b4ecd652445b75ea7583c92f6f02af3971251b...   \n",
       "4  156987f72b8993b8c5a898fa76f3b8e6454e10e18aa238...   \n",
       "\n",
       "                                               acqic    mcc  ...  flam1  \\\n",
       "0  2a608b081c09492bd2bc96d7def5371c4bc9cabf324a98...  272.0  ...   1349   \n",
       "1  46f63555d29f177290dfe20e989146fb033e453f1d5ff3...  320.0  ...    306   \n",
       "2  9b2d5b4678781e53038e91ea5324530a03f27dc1d0e5f6...  494.0  ...     20   \n",
       "3  70dac5b1dfde828f556a93321a649df72891db35430588...  272.0  ...   8339   \n",
       "4  89b1654aaef0b65b1868004cfdce2dcbb67f15b7fba535...  217.0  ...    163   \n",
       "\n",
       "   stocn    scity  stscd  ovrlt  flbmk  hcefg  csmcu  csmam  flg_3dsmk  \n",
       "0    0.0  15759.0    NaN      0      0    6.0   70.0   1349          0  \n",
       "1    0.0  13451.0    NaN      0      0    6.0   70.0    306          0  \n",
       "2    0.0  15759.0    NaN      0      0    NaN    NaN      0          0  \n",
       "3   42.0  12381.0    NaN      0      0    6.0   70.0   8339          0  \n",
       "4  126.0  14786.0    NaN      0      0    6.0   68.0      5          0  \n",
       "\n",
       "[5 rows x 25 columns]"
      ]
     },
     "execution_count": 6,
     "metadata": {},
     "output_type": "execute_result"
    }
   ],
   "source": [
    "public = pd.read_csv('dataset_1st/public_processed.csv')\n",
    "public.head()"
   ]
  },
  {
   "cell_type": "code",
   "execution_count": 7,
   "metadata": {},
   "outputs": [
    {
     "data": {
      "text/plain": [
       "int64      12\n",
       "float64     9\n",
       "object      5\n",
       "dtype: int64"
      ]
     },
     "execution_count": 7,
     "metadata": {},
     "output_type": "execute_result"
    }
   ],
   "source": [
    "df.dtypes.value_counts()"
   ]
  },
  {
   "cell_type": "code",
   "execution_count": 8,
   "metadata": {},
   "outputs": [
    {
     "data": {
      "text/plain": [
       "txkey         object\n",
       "locdt          int64\n",
       "loctm          int64\n",
       "chid          object\n",
       "cano          object\n",
       "contp          int64\n",
       "etymd        float64\n",
       "mchno         object\n",
       "acqic         object\n",
       "mcc          float64\n",
       "conam        float64\n",
       "ecfg           int64\n",
       "insfg          int64\n",
       "iterm        float64\n",
       "bnsfg          int64\n",
       "flam1          int64\n",
       "stocn        float64\n",
       "scity        float64\n",
       "stscd        float64\n",
       "ovrlt          int64\n",
       "flbmk          int64\n",
       "hcefg        float64\n",
       "csmcu        float64\n",
       "csmam          int64\n",
       "flg_3dsmk      int64\n",
       "label          int64\n",
       "dtype: object"
      ]
     },
     "execution_count": 8,
     "metadata": {},
     "output_type": "execute_result"
    }
   ],
   "source": [
    "df.dtypes"
   ]
  },
  {
   "cell_type": "markdown",
   "metadata": {},
   "source": [
    "# Null Value"
   ]
  },
  {
   "cell_type": "code",
   "execution_count": 9,
   "metadata": {},
   "outputs": [
    {
     "data": {
      "text/plain": [
       "txkey              0\n",
       "locdt              0\n",
       "loctm              0\n",
       "chid               0\n",
       "cano               0\n",
       "contp              0\n",
       "etymd         203455\n",
       "mchno              0\n",
       "acqic              0\n",
       "mcc             4550\n",
       "conam              0\n",
       "ecfg               0\n",
       "insfg              0\n",
       "iterm              0\n",
       "bnsfg              0\n",
       "flam1              0\n",
       "stocn            600\n",
       "scity         266066\n",
       "stscd        8665195\n",
       "ovrlt              0\n",
       "flbmk              0\n",
       "hcefg         286656\n",
       "csmcu         498657\n",
       "csmam              0\n",
       "flg_3dsmk          0\n",
       "label              0\n",
       "dtype: int64"
      ]
     },
     "execution_count": 9,
     "metadata": {},
     "output_type": "execute_result"
    }
   ],
   "source": [
    "df.isna().sum()"
   ]
  },
  {
   "cell_type": "markdown",
   "metadata": {},
   "source": [
    "# locdt"
   ]
  },
  {
   "cell_type": "code",
   "execution_count": 10,
   "metadata": {},
   "outputs": [
    {
     "data": {
      "text/plain": [
       "count    8.688526e+06\n",
       "mean     2.750020e+01\n",
       "std      1.617132e+01\n",
       "min      0.000000e+00\n",
       "25%      1.300000e+01\n",
       "50%      2.700000e+01\n",
       "75%      4.100000e+01\n",
       "max      5.500000e+01\n",
       "Name: locdt, dtype: float64"
      ]
     },
     "execution_count": 10,
     "metadata": {},
     "output_type": "execute_result"
    }
   ],
   "source": [
    "df['locdt'].describe()"
   ]
  },
  {
   "cell_type": "code",
   "execution_count": 11,
   "metadata": {},
   "outputs": [
    {
     "data": {
      "text/plain": [
       "count    600182.000000\n",
       "mean         57.474441\n",
       "std           1.107709\n",
       "min          56.000000\n",
       "25%          56.000000\n",
       "50%          57.000000\n",
       "75%          58.000000\n",
       "max          59.000000\n",
       "Name: locdt, dtype: float64"
      ]
     },
     "execution_count": 11,
     "metadata": {},
     "output_type": "execute_result"
    }
   ],
   "source": [
    "public['locdt'].describe()"
   ]
  },
  {
   "cell_type": "markdown",
   "metadata": {},
   "source": [
    "# loctm"
   ]
  },
  {
   "cell_type": "code",
   "execution_count": 12,
   "metadata": {},
   "outputs": [
    {
     "data": {
      "text/plain": [
       "count    8.688526e+06\n",
       "mean     1.430832e+05\n",
       "std      5.380955e+04\n",
       "min      0.000000e+00\n",
       "25%      1.042070e+05\n",
       "50%      1.452280e+05\n",
       "75%      1.848040e+05\n",
       "max      2.359590e+05\n",
       "Name: loctm, dtype: float64"
      ]
     },
     "execution_count": 12,
     "metadata": {},
     "output_type": "execute_result"
    }
   ],
   "source": [
    "df['loctm'].describe()"
   ]
  },
  {
   "cell_type": "code",
   "execution_count": 13,
   "metadata": {},
   "outputs": [
    {
     "data": {
      "text/plain": [
       "count    600182.000000\n",
       "mean     142866.065697\n",
       "std       54591.701218\n",
       "min           0.000000\n",
       "25%      103505.000000\n",
       "50%      144919.000000\n",
       "75%      185435.000000\n",
       "max      235959.000000\n",
       "Name: loctm, dtype: float64"
      ]
     },
     "execution_count": 13,
     "metadata": {},
     "output_type": "execute_result"
    }
   ],
   "source": [
    "public['loctm'].describe()"
   ]
  },
  {
   "cell_type": "markdown",
   "metadata": {},
   "source": [
    "# chid"
   ]
  },
  {
   "cell_type": "code",
   "execution_count": 14,
   "metadata": {},
   "outputs": [
    {
     "data": {
      "text/plain": [
       "count                                               8688526\n",
       "unique                                               482667\n",
       "top       f200cd7e88bd814ad8bdf48c02216695ce72375f95873d...\n",
       "freq                                                   9577\n",
       "Name: chid, dtype: object"
      ]
     },
     "execution_count": 14,
     "metadata": {},
     "output_type": "execute_result"
    }
   ],
   "source": [
    "df['chid'].describe()"
   ]
  },
  {
   "cell_type": "markdown",
   "metadata": {},
   "source": [
    "# cano"
   ]
  },
  {
   "cell_type": "code",
   "execution_count": 15,
   "metadata": {},
   "outputs": [
    {
     "data": {
      "text/plain": [
       "count                                               8688526\n",
       "unique                                               618898\n",
       "top       f740c6359369dd973f53180fa50db3ca96d81c9054dad7...\n",
       "freq                                                   4583\n",
       "Name: cano, dtype: object"
      ]
     },
     "execution_count": 15,
     "metadata": {},
     "output_type": "execute_result"
    }
   ],
   "source": [
    "df['cano'].describe()"
   ]
  },
  {
   "cell_type": "markdown",
   "metadata": {},
   "source": [
    "# contp"
   ]
  },
  {
   "cell_type": "code",
   "execution_count": 16,
   "metadata": {},
   "outputs": [
    {
     "data": {
      "text/plain": [
       "count    8.688526e+06\n",
       "mean     4.905415e+00\n",
       "std      4.744539e-01\n",
       "min      0.000000e+00\n",
       "25%      5.000000e+00\n",
       "50%      5.000000e+00\n",
       "75%      5.000000e+00\n",
       "max      6.000000e+00\n",
       "Name: contp, dtype: float64"
      ]
     },
     "execution_count": 16,
     "metadata": {},
     "output_type": "execute_result"
    }
   ],
   "source": [
    "df['contp'].describe()"
   ]
  },
  {
   "cell_type": "code",
   "execution_count": 17,
   "metadata": {},
   "outputs": [
    {
     "data": {
      "text/plain": [
       "7"
      ]
     },
     "execution_count": 17,
     "metadata": {},
     "output_type": "execute_result"
    }
   ],
   "source": [
    "df['contp'].nunique()"
   ]
  },
  {
   "cell_type": "code",
   "execution_count": 18,
   "metadata": {},
   "outputs": [
    {
     "data": {
      "text/plain": [
       "<AxesSubplot:>"
      ]
     },
     "execution_count": 18,
     "metadata": {},
     "output_type": "execute_result"
    },
    {
     "data": {
      "image/png": "[encoded data removed]",
      "text/plain": [
       "<Figure size 432x288 with 1 Axes>"
      ]
     },
     "metadata": {
      "needs_background": "light"
     },
     "output_type": "display_data"
    }
   ],
   "source": [
    "df['contp'].value_counts().plot(kind='bar')"
   ]
  },
  {
   "cell_type": "markdown",
   "metadata": {},
   "source": [
    "# etymd"
   ]
  },
  {
   "cell_type": "code",
   "execution_count": 19,
   "metadata": {},
   "outputs": [
    {
     "data": {
      "text/plain": [
       "count    8.485071e+06\n",
       "mean     4.714078e+00\n",
       "std      2.259769e+00\n",
       "min      0.000000e+00\n",
       "25%      4.000000e+00\n",
       "50%      5.000000e+00\n",
       "75%      5.000000e+00\n",
       "max      1.000000e+01\n",
       "Name: etymd, dtype: float64"
      ]
     },
     "execution_count": 19,
     "metadata": {},
     "output_type": "execute_result"
    }
   ],
   "source": [
    "df['etymd'].describe()"
   ]
  },
  {
   "cell_type": "code",
   "execution_count": 20,
   "metadata": {},
   "outputs": [
    {
     "data": {
      "text/plain": [
       "array([ 1.,  8.,  4.,  5.,  3., nan,  0.,  2.,  9.,  7., 10.])"
      ]
     },
     "execution_count": 20,
     "metadata": {},
     "output_type": "execute_result"
    }
   ],
   "source": [
    "df['etymd'].unique()"
   ]
  },
  {
   "cell_type": "code",
   "execution_count": 21,
   "metadata": {},
   "outputs": [
    {
     "data": {
      "text/plain": [
       "<AxesSubplot:>"
      ]
     },
     "execution_count": 21,
     "metadata": {},
     "output_type": "execute_result"
    },
    {
     "data": {
      "image/png": "[encoded data removed]",
      "text/plain": [
       "<Figure size 432x288 with 1 Axes>"
      ]
     },
     "metadata": {
      "needs_background": "light"
     },
     "output_type": "display_data"
    }
   ],
   "source": [
    "df['etymd'].value_counts().plot(kind='bar')"
   ]
  },
  {
   "cell_type": "markdown",
   "metadata": {},
   "source": [
    "# mchno"
   ]
  },
  {
   "cell_type": "code",
   "execution_count": 22,
   "metadata": {},
   "outputs": [
    {
     "data": {
      "text/plain": [
       "count                                               8688526\n",
       "unique                                               163797\n",
       "top       dd280b4f35a02701142ba7de47abb9736deca3eed86474...\n",
       "freq                                                 360832\n",
       "Name: mchno, dtype: object"
      ]
     },
     "execution_count": 22,
     "metadata": {},
     "output_type": "execute_result"
    }
   ],
   "source": [
    "df['mchno'].describe()"
   ]
  },
  {
   "cell_type": "markdown",
   "metadata": {},
   "source": [
    "# acqic"
   ]
  },
  {
   "cell_type": "code",
   "execution_count": 23,
   "metadata": {},
   "outputs": [
    {
     "data": {
      "text/plain": [
       "count                                               8688526\n",
       "unique                                                 8334\n",
       "top       379166ff4a62dac343b4b734188aa618716cc496e48b65...\n",
       "freq                                                2220622\n",
       "Name: acqic, dtype: object"
      ]
     },
     "execution_count": 23,
     "metadata": {},
     "output_type": "execute_result"
    }
   ],
   "source": [
    "df['acqic'].describe()"
   ]
  },
  {
   "cell_type": "markdown",
   "metadata": {},
   "source": [
    "# mcc"
   ]
  },
  {
   "cell_type": "code",
   "execution_count": 25,
   "metadata": {},
   "outputs": [
    {
     "data": {
      "text/plain": [
       "count    8.683976e+06\n",
       "mean     3.173557e+02\n",
       "std      6.865512e+01\n",
       "min      0.000000e+00\n",
       "25%      2.760000e+02\n",
       "50%      2.890000e+02\n",
       "75%      3.240000e+02\n",
       "max      5.010000e+02\n",
       "Name: mcc, dtype: float64"
      ]
     },
     "execution_count": 25,
     "metadata": {},
     "output_type": "execute_result"
    }
   ],
   "source": [
    "df['mcc'].describe()"
   ]
  },
  {
   "cell_type": "code",
   "execution_count": 26,
   "metadata": {},
   "outputs": [
    {
     "data": {
      "text/plain": [
       "459"
      ]
     },
     "execution_count": 26,
     "metadata": {},
     "output_type": "execute_result"
    }
   ],
   "source": [
    "df['mcc'].nunique()"
   ]
  },
  {
   "cell_type": "markdown",
   "metadata": {},
   "source": [
    "# conam"
   ]
  },
  {
   "cell_type": "code",
   "execution_count": 27,
   "metadata": {},
   "outputs": [
    {
     "data": {
      "text/plain": [
       "count    8.688526e+06\n",
       "mean     1.418676e+03\n",
       "std      9.518751e+03\n",
       "min      0.000000e+00\n",
       "25%      1.050000e+02\n",
       "50%      3.150000e+02\n",
       "75%      9.000000e+02\n",
       "max      5.051970e+06\n",
       "Name: conam, dtype: float64"
      ]
     },
     "execution_count": 27,
     "metadata": {},
     "output_type": "execute_result"
    }
   ],
   "source": [
    "df['conam'].describe()"
   ]
  },
  {
   "cell_type": "markdown",
   "metadata": {},
   "source": [
    "# ecfg"
   ]
  },
  {
   "cell_type": "code",
   "execution_count": 28,
   "metadata": {},
   "outputs": [
    {
     "data": {
      "text/plain": [
       "count    8.688526e+06\n",
       "mean     5.719845e-01\n",
       "std      4.947911e-01\n",
       "min      0.000000e+00\n",
       "25%      0.000000e+00\n",
       "50%      1.000000e+00\n",
       "75%      1.000000e+00\n",
       "max      1.000000e+00\n",
       "Name: ecfg, dtype: float64"
      ]
     },
     "execution_count": 28,
     "metadata": {},
     "output_type": "execute_result"
    }
   ],
   "source": [
    "df['ecfg'].describe()"
   ]
  },
  {
   "cell_type": "code",
   "execution_count": 29,
   "metadata": {},
   "outputs": [
    {
     "data": {
      "text/plain": [
       "array([0, 1])"
      ]
     },
     "execution_count": 29,
     "metadata": {},
     "output_type": "execute_result"
    }
   ],
   "source": [
    "df['ecfg'].unique()"
   ]
  },
  {
   "cell_type": "code",
   "execution_count": 30,
   "metadata": {},
   "outputs": [
    {
     "data": {
      "text/plain": [
       "<AxesSubplot:>"
      ]
     },
     "execution_count": 30,
     "metadata": {},
     "output_type": "execute_result"
    },
    {
     "data": {
      "image/png": "[encoded data removed]",
      "text/plain": [
       "<Figure size 432x288 with 1 Axes>"
      ]
     },
     "metadata": {
      "needs_background": "light"
     },
     "output_type": "display_data"
    }
   ],
   "source": [
    "ratio_ecfg = df['ecfg'].value_counts()/len(df['ecfg'])\n",
    "ratio_ecfg.plot(kind='bar')"
   ]
  },
  {
   "cell_type": "markdown",
   "metadata": {},
   "source": [
    "# insfg"
   ]
  },
  {
   "cell_type": "code",
   "execution_count": 31,
   "metadata": {},
   "outputs": [
    {
     "data": {
      "text/plain": [
       "count    8.688526e+06\n",
       "mean     1.058661e-02\n",
       "std      1.023452e-01\n",
       "min      0.000000e+00\n",
       "25%      0.000000e+00\n",
       "50%      0.000000e+00\n",
       "75%      0.000000e+00\n",
       "max      1.000000e+00\n",
       "Name: insfg, dtype: float64"
      ]
     },
     "execution_count": 31,
     "metadata": {},
     "output_type": "execute_result"
    }
   ],
   "source": [
    "df['insfg'].describe()"
   ]
  },
  {
   "cell_type": "code",
   "execution_count": 32,
   "metadata": {},
   "outputs": [
    {
     "data": {
      "text/plain": [
       "<AxesSubplot:>"
      ]
     },
     "execution_count": 32,
     "metadata": {},
     "output_type": "execute_result"
    },
    {
     "data": {
      "image/png": "[encoded data removed]",
      "text/plain": [
       "<Figure size 432x288 with 1 Axes>"
      ]
     },
     "metadata": {
      "needs_background": "light"
     },
     "output_type": "display_data"
    }
   ],
   "source": [
    "ratio_insfg = df['insfg'].value_counts()/len(df['insfg'])\n",
    "ratio_insfg.plot(kind='bar')"
   ]
  },
  {
   "cell_type": "markdown",
   "metadata": {},
   "source": [
    "# iterm"
   ]
  },
  {
   "cell_type": "code",
   "execution_count": 34,
   "metadata": {},
   "outputs": [
    {
     "data": {
      "text/plain": [
       "count    8.688526e+06\n",
       "mean     6.073458e-02\n",
       "std      7.347819e-01\n",
       "min      0.000000e+00\n",
       "25%      0.000000e+00\n",
       "50%      0.000000e+00\n",
       "75%      0.000000e+00\n",
       "max      3.000000e+01\n",
       "Name: iterm, dtype: float64"
      ]
     },
     "execution_count": 34,
     "metadata": {},
     "output_type": "execute_result"
    }
   ],
   "source": [
    "df['iterm'].describe()"
   ]
  },
  {
   "cell_type": "code",
   "execution_count": 35,
   "metadata": {},
   "outputs": [
    {
     "data": {
      "text/plain": [
       "<AxesSubplot:>"
      ]
     },
     "execution_count": 35,
     "metadata": {},
     "output_type": "execute_result"
    },
    {
     "data": {
      "image/png": "[encoded data removed]",
      "text/plain": [
       "<Figure size 432x288 with 1 Axes>"
      ]
     },
     "metadata": {
      "needs_background": "light"
     },
     "output_type": "display_data"
    }
   ],
   "source": [
    "df['iterm'].value_counts().plot(kind='bar')"
   ]
  },
  {
   "cell_type": "markdown",
   "metadata": {},
   "source": [
    "# bnsfg"
   ]
  },
  {
   "cell_type": "code",
   "execution_count": 36,
   "metadata": {},
   "outputs": [
    {
     "data": {
      "text/plain": [
       "count    8.688526e+06\n",
       "mean     1.272713e-03\n",
       "std      3.565240e-02\n",
       "min      0.000000e+00\n",
       "25%      0.000000e+00\n",
       "50%      0.000000e+00\n",
       "75%      0.000000e+00\n",
       "max      1.000000e+00\n",
       "Name: bnsfg, dtype: float64"
      ]
     },
     "execution_count": 36,
     "metadata": {},
     "output_type": "execute_result"
    }
   ],
   "source": [
    "df['bnsfg'].describe()"
   ]
  },
  {
   "cell_type": "code",
   "execution_count": 37,
   "metadata": {},
   "outputs": [
    {
     "name": "stdout",
     "output_type": "stream",
     "text": [
      "0    0.998727\n",
      "1    0.001273\n",
      "Name: bnsfg, dtype: float64\n"
     ]
    },
    {
     "data": {
      "text/plain": [
       "<AxesSubplot:>"
      ]
     },
     "execution_count": 37,
     "metadata": {},
     "output_type": "execute_result"
    },
    {
     "data": {
      "image/png": "[encoded data removed]",
      "text/plain": [
       "<Figure size 432x288 with 1 Axes>"
      ]
     },
     "metadata": {
      "needs_background": "light"
     },
     "output_type": "display_data"
    }
   ],
   "source": [
    "ratio_bnsfg = df['bnsfg'].value_counts()/len(df)\n",
    "print(ratio_bnsfg)\n",
    "ratio_bnsfg.plot(kind='bar')"
   ]
  },
  {
   "cell_type": "markdown",
   "metadata": {},
   "source": [
    "# flam1"
   ]
  },
  {
   "cell_type": "code",
   "execution_count": 38,
   "metadata": {},
   "outputs": [
    {
     "data": {
      "text/plain": [
       "count    8.688526e+06\n",
       "mean     1.418208e+03\n",
       "std      9.517652e+03\n",
       "min      0.000000e+00\n",
       "25%      1.050000e+02\n",
       "50%      3.150000e+02\n",
       "75%      9.020000e+02\n",
       "max      5.032773e+06\n",
       "Name: flam1, dtype: float64"
      ]
     },
     "execution_count": 38,
     "metadata": {},
     "output_type": "execute_result"
    }
   ],
   "source": [
    "df['flam1'].describe()"
   ]
  },
  {
   "cell_type": "markdown",
   "metadata": {},
   "source": [
    "# stocn"
   ]
  },
  {
   "cell_type": "code",
   "execution_count": 40,
   "metadata": {},
   "outputs": [
    {
     "data": {
      "text/plain": [
       "count    8.687926e+06\n",
       "mean     8.324148e+00\n",
       "std      2.775047e+01\n",
       "min      0.000000e+00\n",
       "25%      0.000000e+00\n",
       "50%      0.000000e+00\n",
       "75%      0.000000e+00\n",
       "max      1.340000e+02\n",
       "Name: stocn, dtype: float64"
      ]
     },
     "execution_count": 40,
     "metadata": {},
     "output_type": "execute_result"
    }
   ],
   "source": [
    "df['stocn'].describe()"
   ]
  },
  {
   "cell_type": "code",
   "execution_count": 43,
   "metadata": {},
   "outputs": [
    {
     "data": {
      "text/plain": [
       "array([  0.,   1.,   2.,   3.,   4.,   5.,   6.,   7.,   8.,   9.,  10.,\n",
       "        11.,  12.,  13.,  14.,  15.,  17.,  18.,  19.,  20.,  21.,  22.,\n",
       "        23.,  24.,  25.,  26.,  27.,  29.,  30.,  31.,  32.,  33.,  34.,\n",
       "        35.,  36.,  37.,  39.,  40.,  41.,  42.,  43.,  45.,  46.,  47.,\n",
       "        48.,  49.,  50.,  51.,  52.,  53.,  54.,  55.,  56.,  57.,  58.,\n",
       "        60.,  61.,  62.,  63.,  65.,  66.,  67.,  68.,  69.,  72.,  73.,\n",
       "        74.,  75.,  76.,  77.,  79.,  80.,  81.,  82.,  83.,  84.,  85.,\n",
       "        86.,  87.,  88.,  90.,  91.,  92.,  93.,  94.,  95.,  96.,  97.,\n",
       "        98.,  99., 100., 101., 102., 103., 104., 105., 106., 107., 108.,\n",
       "       109., 110., 111., 112., 113., 114., 115., 116., 117., 118., 119.,\n",
       "       121., 122., 123., 124., 125., 126., 127., 128., 130., 131., 132.,\n",
       "       134.,  nan])"
      ]
     },
     "execution_count": 43,
     "metadata": {},
     "output_type": "execute_result"
    }
   ],
   "source": [
    "np.sort(df['stocn'].unique())"
   ]
  },
  {
   "cell_type": "markdown",
   "metadata": {},
   "source": [
    "# scity"
   ]
  },
  {
   "cell_type": "code",
   "execution_count": 44,
   "metadata": {},
   "outputs": [
    {
     "data": {
      "text/plain": [
       "count    8.422460e+06\n",
       "mean     1.430112e+04\n",
       "std      3.053059e+03\n",
       "min      0.000000e+00\n",
       "25%      1.557400e+04\n",
       "50%      1.575900e+04\n",
       "75%      1.575900e+04\n",
       "max      1.734000e+04\n",
       "Name: scity, dtype: float64"
      ]
     },
     "execution_count": 44,
     "metadata": {},
     "output_type": "execute_result"
    }
   ],
   "source": [
    "df['scity'].describe()"
   ]
  },
  {
   "cell_type": "code",
   "execution_count": 45,
   "metadata": {},
   "outputs": [
    {
     "data": {
      "text/plain": [
       "12003"
      ]
     },
     "execution_count": 45,
     "metadata": {},
     "output_type": "execute_result"
    }
   ],
   "source": [
    "df['scity'].nunique()"
   ]
  },
  {
   "cell_type": "code",
   "execution_count": 46,
   "metadata": {},
   "outputs": [
    {
     "data": {
      "text/plain": [
       "array([0.0000e+00, 1.0000e+00, 3.0000e+00, ..., 1.7337e+04, 1.7340e+04,\n",
       "              nan])"
      ]
     },
     "execution_count": 46,
     "metadata": {},
     "output_type": "execute_result"
    }
   ],
   "source": [
    "np.sort(df['scity'].unique())"
   ]
  },
  {
   "cell_type": "markdown",
   "metadata": {},
   "source": [
    "# stscd"
   ]
  },
  {
   "cell_type": "code",
   "execution_count": 47,
   "metadata": {},
   "outputs": [
    {
     "data": {
      "text/plain": [
       "count    23331.000000\n",
       "mean         0.973254\n",
       "std          0.211065\n",
       "min          0.000000\n",
       "25%          1.000000\n",
       "50%          1.000000\n",
       "75%          1.000000\n",
       "max          4.000000\n",
       "Name: stscd, dtype: float64"
      ]
     },
     "execution_count": 47,
     "metadata": {},
     "output_type": "execute_result"
    }
   ],
   "source": [
    "df['stscd'].describe()"
   ]
  },
  {
   "cell_type": "code",
   "execution_count": 48,
   "metadata": {},
   "outputs": [
    {
     "data": {
      "text/plain": [
       "5"
      ]
     },
     "execution_count": 48,
     "metadata": {},
     "output_type": "execute_result"
    }
   ],
   "source": [
    "df['stscd'].nunique()"
   ]
  },
  {
   "cell_type": "code",
   "execution_count": 50,
   "metadata": {},
   "outputs": [
    {
     "data": {
      "text/plain": [
       "NaN    8665195\n",
       "1.0      22385\n",
       "0.0        799\n",
       "2.0        132\n",
       "4.0         13\n",
       "3.0          2\n",
       "Name: stscd, dtype: int64"
      ]
     },
     "execution_count": 50,
     "metadata": {},
     "output_type": "execute_result"
    }
   ],
   "source": [
    "df['stscd'].value_counts(dropna=False)"
   ]
  },
  {
   "cell_type": "markdown",
   "metadata": {},
   "source": [
    "# ovrlt"
   ]
  },
  {
   "cell_type": "code",
   "execution_count": 51,
   "metadata": {},
   "outputs": [
    {
     "data": {
      "text/plain": [
       "count    8.688526e+06\n",
       "mean     9.741814e-03\n",
       "std      9.821869e-02\n",
       "min      0.000000e+00\n",
       "25%      0.000000e+00\n",
       "50%      0.000000e+00\n",
       "75%      0.000000e+00\n",
       "max      1.000000e+00\n",
       "Name: ovrlt, dtype: float64"
      ]
     },
     "execution_count": 51,
     "metadata": {},
     "output_type": "execute_result"
    }
   ],
   "source": [
    "df['ovrlt'].describe()"
   ]
  },
  {
   "cell_type": "code",
   "execution_count": 52,
   "metadata": {},
   "outputs": [
    {
     "data": {
      "text/plain": [
       "array([0, 1])"
      ]
     },
     "execution_count": 52,
     "metadata": {},
     "output_type": "execute_result"
    }
   ],
   "source": [
    "df['ovrlt'].unique()"
   ]
  },
  {
   "cell_type": "code",
   "execution_count": 71,
   "metadata": {},
   "outputs": [
    {
     "data": {
      "text/plain": [
       "<AxesSubplot:xlabel='ovrlt', ylabel='count'>"
      ]
     },
     "execution_count": 71,
     "metadata": {},
     "output_type": "execute_result"
    },
    {
     "data": {
      "image/png": "[encoded data removed]",
      "text/plain": [
       "<Figure size 432x288 with 1 Axes>"
      ]
     },
     "metadata": {
      "needs_background": "light"
     },
     "output_type": "display_data"
    }
   ],
   "source": [
    "sns.countplot(data=df, x='ovrlt')"
   ]
  },
  {
   "cell_type": "markdown",
   "metadata": {},
   "source": [
    "# flbmk"
   ]
  },
  {
   "cell_type": "code",
   "execution_count": 54,
   "metadata": {},
   "outputs": [
    {
     "data": {
      "text/plain": [
       "count    8.688526e+06\n",
       "mean     3.058056e-04\n",
       "std      1.748463e-02\n",
       "min      0.000000e+00\n",
       "25%      0.000000e+00\n",
       "50%      0.000000e+00\n",
       "75%      0.000000e+00\n",
       "max      1.000000e+00\n",
       "Name: flbmk, dtype: float64"
      ]
     },
     "execution_count": 54,
     "metadata": {},
     "output_type": "execute_result"
    }
   ],
   "source": [
    "df['flbmk'].describe()"
   ]
  },
  {
   "cell_type": "code",
   "execution_count": 55,
   "metadata": {},
   "outputs": [
    {
     "data": {
      "text/plain": [
       "array([0, 1])"
      ]
     },
     "execution_count": 55,
     "metadata": {},
     "output_type": "execute_result"
    }
   ],
   "source": [
    "df['flbmk'].unique()"
   ]
  },
  {
   "cell_type": "code",
   "execution_count": 70,
   "metadata": {},
   "outputs": [
    {
     "data": {
      "text/plain": [
       "<AxesSubplot:xlabel='flbmk', ylabel='count'>"
      ]
     },
     "execution_count": 70,
     "metadata": {},
     "output_type": "execute_result"
    },
    {
     "data": {
      "image/png": "[encoded data removed]",
      "text/plain": [
       "<Figure size 432x288 with 1 Axes>"
      ]
     },
     "metadata": {
      "needs_background": "light"
     },
     "output_type": "display_data"
    }
   ],
   "source": [
    "sns.countplot(data=df, x='flbmk')"
   ]
  },
  {
   "cell_type": "code",
   "execution_count": 57,
   "metadata": {},
   "outputs": [
    {
     "data": {
      "text/plain": [
       "0    8685869\n",
       "1       2657\n",
       "Name: flbmk, dtype: int64"
      ]
     },
     "execution_count": 57,
     "metadata": {},
     "output_type": "execute_result"
    }
   ],
   "source": [
    "df['flbmk'].value_counts()"
   ]
  },
  {
   "cell_type": "markdown",
   "metadata": {},
   "source": [
    "# hcefg"
   ]
  },
  {
   "cell_type": "code",
   "execution_count": 59,
   "metadata": {},
   "outputs": [
    {
     "data": {
      "text/plain": [
       "count    8.401870e+06\n",
       "mean     5.351585e+00\n",
       "std      1.868967e+00\n",
       "min      0.000000e+00\n",
       "25%      6.000000e+00\n",
       "50%      6.000000e+00\n",
       "75%      6.000000e+00\n",
       "max      1.000000e+01\n",
       "Name: hcefg, dtype: float64"
      ]
     },
     "execution_count": 59,
     "metadata": {},
     "output_type": "execute_result"
    }
   ],
   "source": [
    "df['hcefg'].describe()"
   ]
  },
  {
   "cell_type": "code",
   "execution_count": 61,
   "metadata": {},
   "outputs": [
    {
     "data": {
      "text/plain": [
       "array([ 6.,  8.,  0., nan,  1.,  3.,  9.,  7.,  5.,  4.,  2., 10.])"
      ]
     },
     "execution_count": 61,
     "metadata": {},
     "output_type": "execute_result"
    }
   ],
   "source": [
    "df['hcefg'].unique()"
   ]
  },
  {
   "cell_type": "markdown",
   "metadata": {},
   "source": [
    "# csmcu"
   ]
  },
  {
   "cell_type": "code",
   "execution_count": 62,
   "metadata": {},
   "outputs": [
    {
     "data": {
      "text/plain": [
       "count    8.189869e+06\n",
       "mean     6.963586e+01\n",
       "std      4.386718e+00\n",
       "min      0.000000e+00\n",
       "25%      7.000000e+01\n",
       "50%      7.000000e+01\n",
       "75%      7.000000e+01\n",
       "max      8.500000e+01\n",
       "Name: csmcu, dtype: float64"
      ]
     },
     "execution_count": 62,
     "metadata": {},
     "output_type": "execute_result"
    }
   ],
   "source": [
    "df['csmcu'].describe()"
   ]
  },
  {
   "cell_type": "code",
   "execution_count": 65,
   "metadata": {},
   "outputs": [
    {
     "data": {
      "text/plain": [
       "79"
      ]
     },
     "execution_count": 65,
     "metadata": {},
     "output_type": "execute_result"
    }
   ],
   "source": [
    "df['csmcu'].nunique()"
   ]
  },
  {
   "cell_type": "markdown",
   "metadata": {},
   "source": [
    "# csmam"
   ]
  },
  {
   "cell_type": "code",
   "execution_count": 66,
   "metadata": {},
   "outputs": [
    {
     "data": {
      "text/plain": [
       "count    8.688526e+06\n",
       "mean     2.806845e+03\n",
       "std      1.084921e+05\n",
       "min      0.000000e+00\n",
       "25%      9.400000e+01\n",
       "50%      2.890000e+02\n",
       "75%      9.800000e+02\n",
       "max      7.473480e+07\n",
       "Name: csmam, dtype: float64"
      ]
     },
     "execution_count": 66,
     "metadata": {},
     "output_type": "execute_result"
    }
   ],
   "source": [
    "df['csmam'].describe()"
   ]
  },
  {
   "cell_type": "markdown",
   "metadata": {},
   "source": [
    "# flg_3dsmk"
   ]
  },
  {
   "cell_type": "code",
   "execution_count": 67,
   "metadata": {},
   "outputs": [
    {
     "data": {
      "text/plain": [
       "count    8.688526e+06\n",
       "mean     8.530687e-02\n",
       "std      2.793378e-01\n",
       "min      0.000000e+00\n",
       "25%      0.000000e+00\n",
       "50%      0.000000e+00\n",
       "75%      0.000000e+00\n",
       "max      1.000000e+00\n",
       "Name: flg_3dsmk, dtype: float64"
      ]
     },
     "execution_count": 67,
     "metadata": {},
     "output_type": "execute_result"
    }
   ],
   "source": [
    "df['flg_3dsmk'].describe()"
   ]
  },
  {
   "cell_type": "code",
   "execution_count": 68,
   "metadata": {},
   "outputs": [
    {
     "data": {
      "text/plain": [
       "2"
      ]
     },
     "execution_count": 68,
     "metadata": {},
     "output_type": "execute_result"
    }
   ],
   "source": [
    "df['flg_3dsmk'].nunique()"
   ]
  },
  {
   "cell_type": "code",
   "execution_count": 69,
   "metadata": {},
   "outputs": [
    {
     "data": {
      "text/plain": [
       "<AxesSubplot:xlabel='flg_3dsmk', ylabel='count'>"
      ]
     },
     "execution_count": 69,
     "metadata": {},
     "output_type": "execute_result"
    },
    {
     "data": {
      "image/png": "[encoded data removed]",
      "text/plain": [
       "<Figure size 432x288 with 1 Axes>"
      ]
     },
     "metadata": {
      "needs_background": "light"
     },
     "output_type": "display_data"
    }
   ],
   "source": [
    "sns.countplot(data=df, x='flg_3dsmk')"
   ]
  },
  {
   "cell_type": "markdown",
   "metadata": {},
   "source": [
    "# label"
   ]
  },
  {
   "cell_type": "code",
   "execution_count": 72,
   "metadata": {},
   "outputs": [
    {
     "data": {
      "text/plain": [
       "count    8.688526e+06\n",
       "mean     3.686356e-03\n",
       "std      6.060336e-02\n",
       "min      0.000000e+00\n",
       "25%      0.000000e+00\n",
       "50%      0.000000e+00\n",
       "75%      0.000000e+00\n",
       "max      1.000000e+00\n",
       "Name: label, dtype: float64"
      ]
     },
     "execution_count": 72,
     "metadata": {},
     "output_type": "execute_result"
    }
   ],
   "source": [
    "df['label'].describe()"
   ]
  },
  {
   "cell_type": "code",
   "execution_count": 73,
   "metadata": {},
   "outputs": [
    {
     "data": {
      "text/plain": [
       "<AxesSubplot:xlabel='label', ylabel='count'>"
      ]
     },
     "execution_count": 73,
     "metadata": {},
     "output_type": "execute_result"
    },
    {
     "data": {
      "image/png": "[encoded data removed]",
      "text/plain": [
       "<Figure size 432x288 with 1 Axes>"
      ]
     },
     "metadata": {
      "needs_background": "light"
     },
     "output_type": "display_data"
    }
   ],
   "source": [
    "sns.countplot(data=df, x='label')"
   ]
  },
  {
   "cell_type": "code",
   "execution_count": 74,
   "metadata": {},
   "outputs": [
    {
     "name": "stdout",
     "output_type": "stream",
     "text": [
      "No Frauds 99.63 % of the dataset\n",
      "Frauds 0.37 % of the dataset\n"
     ]
    }
   ],
   "source": [
    "print('No Frauds', round(df['label'].value_counts()[0]/len(df) * 100,2), '% of the dataset')\n",
    "print('Frauds', round(df['label'].value_counts()[1]/len(df) * 100,2), '% of the dataset')"
   ]
  },
  {
   "cell_type": "code",
   "execution_count": null,
   "metadata": {},
   "outputs": [],
   "source": []
  }
 ],
 "metadata": {
  "kernelspec": {
   "display_name": "py39",
   "language": "python",
   "name": "python3"
  },
  "language_info": {
   "codemirror_mode": {
    "name": "ipython",
    "version": 3
   },
   "file_extension": ".py",
   "mimetype": "text/x-python",
   "name": "python",
   "nbconvert_exporter": "python",
   "pygments_lexer": "ipython3",
   "version": "3.8.5"
  }
 },
 "nbformat": 4,
 "nbformat_minor": 2
}
