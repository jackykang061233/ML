{
 "cells": [
  {
   "cell_type": "code",
   "execution_count": 2,
   "metadata": {},
   "outputs": [],
   "source": [
    "import pandas as pd\n",
    "import numpy as np\n",
    "import seaborn as sns\n",
    "import matplotlib.pyplot as plt\n"
   ]
  },
  {
   "cell_type": "code",
   "execution_count": 3,
   "metadata": {},
   "outputs": [
    {
     "data": {
      "text/html": [
       "<div>\n",
       "<style scoped>\n",
       "    .dataframe tbody tr th:only-of-type {\n",
       "        vertical-align: middle;\n",
       "    }\n",
       "\n",
       "    .dataframe tbody tr th {\n",
       "        vertical-align: top;\n",
       "    }\n",
       "\n",
       "    .dataframe thead th {\n",
       "        text-align: right;\n",
       "    }\n",
       "</style>\n",
       "<table border=\"1\" class=\"dataframe\">\n",
       "  <thead>\n",
       "    <tr style=\"text-align: right;\">\n",
       "      <th></th>\n",
       "      <th>txkey</th>\n",
       "      <th>locdt</th>\n",
       "      <th>loctm</th>\n",
       "      <th>chid</th>\n",
       "      <th>cano</th>\n",
       "      <th>contp</th>\n",
       "      <th>etymd</th>\n",
       "      <th>mchno</th>\n",
       "      <th>acqic</th>\n",
       "      <th>mcc</th>\n",
       "      <th>...</th>\n",
       "      <th>stocn</th>\n",
       "      <th>scity</th>\n",
       "      <th>stscd</th>\n",
       "      <th>ovrlt</th>\n",
       "      <th>flbmk</th>\n",
       "      <th>hcefg</th>\n",
       "      <th>csmcu</th>\n",
       "      <th>csmam</th>\n",
       "      <th>flg_3dsmk</th>\n",
       "      <th>label</th>\n",
       "    </tr>\n",
       "  </thead>\n",
       "  <tbody>\n",
       "    <tr>\n",
       "      <th>0</th>\n",
       "      <td>1c09727c939eb69ead2a4ce4072b8aa18992a64f01fcb4...</td>\n",
       "      <td>46</td>\n",
       "      <td>101812</td>\n",
       "      <td>84d2dc85d4da6a7fa284a11a4290d7e9a969163dcb4d82...</td>\n",
       "      <td>3dd5bf1e29e5e0baa789ce692fe5dbd34ff05173acf351...</td>\n",
       "      <td>5</td>\n",
       "      <td>1.0</td>\n",
       "      <td>cad752c5d05d2bdcc30d64fa4e68404c2d1f7be5d14d52...</td>\n",
       "      <td>8f6b3ff512a001e0d1988c6cd888ef8c74112fb71117e5...</td>\n",
       "      <td>375.0</td>\n",
       "      <td>...</td>\n",
       "      <td>0.0</td>\n",
       "      <td>15759.0</td>\n",
       "      <td>NaN</td>\n",
       "      <td>0</td>\n",
       "      <td>0</td>\n",
       "      <td>6.0</td>\n",
       "      <td>70.0</td>\n",
       "      <td>1529</td>\n",
       "      <td>0</td>\n",
       "      <td>0</td>\n",
       "    </tr>\n",
       "    <tr>\n",
       "      <th>1</th>\n",
       "      <td>2043f245a93bc6328dac964d6dbc89f13a0346062c194d...</td>\n",
       "      <td>17</td>\n",
       "      <td>85509</td>\n",
       "      <td>9a8cf5d0afd729cb7876f6b3172152c7c9c6fabd40515c...</td>\n",
       "      <td>8cb13f9b38c7bbc02d210e580dcbbcbb6c95bf18bc3320...</td>\n",
       "      <td>5</td>\n",
       "      <td>8.0</td>\n",
       "      <td>4356c6642ef6e837543b577c7ee3ffa92b4b8fcfb57254...</td>\n",
       "      <td>379166ff4a62dac343b4b734188aa618716cc496e48b65...</td>\n",
       "      <td>282.0</td>\n",
       "      <td>...</td>\n",
       "      <td>0.0</td>\n",
       "      <td>15759.0</td>\n",
       "      <td>NaN</td>\n",
       "      <td>0</td>\n",
       "      <td>0</td>\n",
       "      <td>8.0</td>\n",
       "      <td>70.0</td>\n",
       "      <td>101</td>\n",
       "      <td>0</td>\n",
       "      <td>0</td>\n",
       "    </tr>\n",
       "    <tr>\n",
       "      <th>2</th>\n",
       "      <td>e4853710290a8409279f3279f8032ae670824bd19aa173...</td>\n",
       "      <td>44</td>\n",
       "      <td>212641</td>\n",
       "      <td>dcc1389a5765d6f53152cf85970fbe78a83fd3d1c299b0...</td>\n",
       "      <td>1ec32868e5e1d5ff8df56737c2a91326cbfe3364382de6...</td>\n",
       "      <td>5</td>\n",
       "      <td>4.0</td>\n",
       "      <td>5b7eff061f8896aac4339ea35c25f8bb956a43bc486460...</td>\n",
       "      <td>8f6b3ff512a001e0d1988c6cd888ef8c74112fb71117e5...</td>\n",
       "      <td>288.0</td>\n",
       "      <td>...</td>\n",
       "      <td>0.0</td>\n",
       "      <td>15759.0</td>\n",
       "      <td>NaN</td>\n",
       "      <td>0</td>\n",
       "      <td>0</td>\n",
       "      <td>6.0</td>\n",
       "      <td>70.0</td>\n",
       "      <td>116</td>\n",
       "      <td>0</td>\n",
       "      <td>0</td>\n",
       "    </tr>\n",
       "    <tr>\n",
       "      <th>3</th>\n",
       "      <td>74d811b1dbc28b22b73ba2c79bb6033791d913b6d27a25...</td>\n",
       "      <td>42</td>\n",
       "      <td>102702</td>\n",
       "      <td>577f2329d1eccd59ba0abaf6113bb78dcd575badcbc57f...</td>\n",
       "      <td>4359dca1ac6a835eceb2bc0dd6b0b710f030c3499126e9...</td>\n",
       "      <td>5</td>\n",
       "      <td>1.0</td>\n",
       "      <td>cad752c5d05d2bdcc30d64fa4e68404c2d1f7be5d14d52...</td>\n",
       "      <td>36684976be1f529e6e2a32c9edab4cf8e364b2b916ae2c...</td>\n",
       "      <td>375.0</td>\n",
       "      <td>...</td>\n",
       "      <td>0.0</td>\n",
       "      <td>15759.0</td>\n",
       "      <td>NaN</td>\n",
       "      <td>0</td>\n",
       "      <td>0</td>\n",
       "      <td>6.0</td>\n",
       "      <td>70.0</td>\n",
       "      <td>1683</td>\n",
       "      <td>0</td>\n",
       "      <td>0</td>\n",
       "    </tr>\n",
       "    <tr>\n",
       "      <th>4</th>\n",
       "      <td>68ca182343969d429d79a34e532bc1ca7a3cc032c2ad81...</td>\n",
       "      <td>31</td>\n",
       "      <td>185737</td>\n",
       "      <td>fff6b4126c40620b1fbb11d4de02cd67b9e95071caa40b...</td>\n",
       "      <td>a3837f2905383f235a72679482c5f02e40f2a8ca29750d...</td>\n",
       "      <td>5</td>\n",
       "      <td>5.0</td>\n",
       "      <td>50d5b02ce3fc88723438c2a29cfdb04be4a1a11280ddb6...</td>\n",
       "      <td>379166ff4a62dac343b4b734188aa618716cc496e48b65...</td>\n",
       "      <td>406.0</td>\n",
       "      <td>...</td>\n",
       "      <td>0.0</td>\n",
       "      <td>15759.0</td>\n",
       "      <td>NaN</td>\n",
       "      <td>0</td>\n",
       "      <td>0</td>\n",
       "      <td>6.0</td>\n",
       "      <td>70.0</td>\n",
       "      <td>14</td>\n",
       "      <td>0</td>\n",
       "      <td>0</td>\n",
       "    </tr>\n",
       "  </tbody>\n",
       "</table>\n",
       "<p>5 rows × 26 columns</p>\n",
       "</div>"
      ],
      "text/plain": [
       "                                               txkey  locdt   loctm  \\\n",
       "0  1c09727c939eb69ead2a4ce4072b8aa18992a64f01fcb4...     46  101812   \n",
       "1  2043f245a93bc6328dac964d6dbc89f13a0346062c194d...     17   85509   \n",
       "2  e4853710290a8409279f3279f8032ae670824bd19aa173...     44  212641   \n",
       "3  74d811b1dbc28b22b73ba2c79bb6033791d913b6d27a25...     42  102702   \n",
       "4  68ca182343969d429d79a34e532bc1ca7a3cc032c2ad81...     31  185737   \n",
       "\n",
       "                                                chid  \\\n",
       "0  84d2dc85d4da6a7fa284a11a4290d7e9a969163dcb4d82...   \n",
       "1  9a8cf5d0afd729cb7876f6b3172152c7c9c6fabd40515c...   \n",
       "2  dcc1389a5765d6f53152cf85970fbe78a83fd3d1c299b0...   \n",
       "3  577f2329d1eccd59ba0abaf6113bb78dcd575badcbc57f...   \n",
       "4  fff6b4126c40620b1fbb11d4de02cd67b9e95071caa40b...   \n",
       "\n",
       "                                                cano  contp  etymd  \\\n",
       "0  3dd5bf1e29e5e0baa789ce692fe5dbd34ff05173acf351...      5    1.0   \n",
       "1  8cb13f9b38c7bbc02d210e580dcbbcbb6c95bf18bc3320...      5    8.0   \n",
       "2  1ec32868e5e1d5ff8df56737c2a91326cbfe3364382de6...      5    4.0   \n",
       "3  4359dca1ac6a835eceb2bc0dd6b0b710f030c3499126e9...      5    1.0   \n",
       "4  a3837f2905383f235a72679482c5f02e40f2a8ca29750d...      5    5.0   \n",
       "\n",
       "                                               mchno  \\\n",
       "0  cad752c5d05d2bdcc30d64fa4e68404c2d1f7be5d14d52...   \n",
       "1  4356c6642ef6e837543b577c7ee3ffa92b4b8fcfb57254...   \n",
       "2  5b7eff061f8896aac4339ea35c25f8bb956a43bc486460...   \n",
       "3  cad752c5d05d2bdcc30d64fa4e68404c2d1f7be5d14d52...   \n",
       "4  50d5b02ce3fc88723438c2a29cfdb04be4a1a11280ddb6...   \n",
       "\n",
       "                                               acqic    mcc  ...  stocn  \\\n",
       "0  8f6b3ff512a001e0d1988c6cd888ef8c74112fb71117e5...  375.0  ...    0.0   \n",
       "1  379166ff4a62dac343b4b734188aa618716cc496e48b65...  282.0  ...    0.0   \n",
       "2  8f6b3ff512a001e0d1988c6cd888ef8c74112fb71117e5...  288.0  ...    0.0   \n",
       "3  36684976be1f529e6e2a32c9edab4cf8e364b2b916ae2c...  375.0  ...    0.0   \n",
       "4  379166ff4a62dac343b4b734188aa618716cc496e48b65...  406.0  ...    0.0   \n",
       "\n",
       "     scity  stscd  ovrlt  flbmk  hcefg  csmcu  csmam  flg_3dsmk  label  \n",
       "0  15759.0    NaN      0      0    6.0   70.0   1529          0      0  \n",
       "1  15759.0    NaN      0      0    8.0   70.0    101          0      0  \n",
       "2  15759.0    NaN      0      0    6.0   70.0    116          0      0  \n",
       "3  15759.0    NaN      0      0    6.0   70.0   1683          0      0  \n",
       "4  15759.0    NaN      0      0    6.0   70.0     14          0      0  \n",
       "\n",
       "[5 rows x 26 columns]"
      ]
     },
     "execution_count": 3,
     "metadata": {},
     "output_type": "execute_result"
    }
   ],
   "source": [
    "df = pd.read_csv('data/training.csv')\n",
    "df.head()"
   ]
  },
  {
   "cell_type": "code",
   "execution_count": 4,
   "metadata": {},
   "outputs": [
    {
     "data": {
      "text/html": [
       "<div>\n",
       "<style scoped>\n",
       "    .dataframe tbody tr th:only-of-type {\n",
       "        vertical-align: middle;\n",
       "    }\n",
       "\n",
       "    .dataframe tbody tr th {\n",
       "        vertical-align: top;\n",
       "    }\n",
       "\n",
       "    .dataframe thead th {\n",
       "        text-align: right;\n",
       "    }\n",
       "</style>\n",
       "<table border=\"1\" class=\"dataframe\">\n",
       "  <thead>\n",
       "    <tr style=\"text-align: right;\">\n",
       "      <th></th>\n",
       "      <th>locdt</th>\n",
       "      <th>loctm</th>\n",
       "      <th>contp</th>\n",
       "      <th>etymd</th>\n",
       "      <th>mcc</th>\n",
       "      <th>conam</th>\n",
       "      <th>ecfg</th>\n",
       "      <th>insfg</th>\n",
       "      <th>iterm</th>\n",
       "      <th>bnsfg</th>\n",
       "      <th>...</th>\n",
       "      <th>stocn</th>\n",
       "      <th>scity</th>\n",
       "      <th>stscd</th>\n",
       "      <th>ovrlt</th>\n",
       "      <th>flbmk</th>\n",
       "      <th>hcefg</th>\n",
       "      <th>csmcu</th>\n",
       "      <th>csmam</th>\n",
       "      <th>flg_3dsmk</th>\n",
       "      <th>label</th>\n",
       "    </tr>\n",
       "  </thead>\n",
       "  <tbody>\n",
       "    <tr>\n",
       "      <th>count</th>\n",
       "      <td>8.688526e+06</td>\n",
       "      <td>8.688526e+06</td>\n",
       "      <td>8.688526e+06</td>\n",
       "      <td>8.485071e+06</td>\n",
       "      <td>8.683976e+06</td>\n",
       "      <td>8.688526e+06</td>\n",
       "      <td>8.688526e+06</td>\n",
       "      <td>8.688526e+06</td>\n",
       "      <td>8.688526e+06</td>\n",
       "      <td>8.688526e+06</td>\n",
       "      <td>...</td>\n",
       "      <td>8.687926e+06</td>\n",
       "      <td>8.422460e+06</td>\n",
       "      <td>23331.000000</td>\n",
       "      <td>8.688526e+06</td>\n",
       "      <td>8.688526e+06</td>\n",
       "      <td>8.401870e+06</td>\n",
       "      <td>8.189869e+06</td>\n",
       "      <td>8.688526e+06</td>\n",
       "      <td>8.688526e+06</td>\n",
       "      <td>8.688526e+06</td>\n",
       "    </tr>\n",
       "    <tr>\n",
       "      <th>mean</th>\n",
       "      <td>2.750020e+01</td>\n",
       "      <td>1.430832e+05</td>\n",
       "      <td>4.905415e+00</td>\n",
       "      <td>4.714078e+00</td>\n",
       "      <td>3.173557e+02</td>\n",
       "      <td>1.418676e+03</td>\n",
       "      <td>5.719845e-01</td>\n",
       "      <td>1.058661e-02</td>\n",
       "      <td>6.073458e-02</td>\n",
       "      <td>1.272713e-03</td>\n",
       "      <td>...</td>\n",
       "      <td>8.324148e+00</td>\n",
       "      <td>1.430112e+04</td>\n",
       "      <td>0.973254</td>\n",
       "      <td>9.741814e-03</td>\n",
       "      <td>3.058056e-04</td>\n",
       "      <td>5.351585e+00</td>\n",
       "      <td>6.963586e+01</td>\n",
       "      <td>2.806845e+03</td>\n",
       "      <td>8.530687e-02</td>\n",
       "      <td>3.686356e-03</td>\n",
       "    </tr>\n",
       "    <tr>\n",
       "      <th>std</th>\n",
       "      <td>1.617132e+01</td>\n",
       "      <td>5.380955e+04</td>\n",
       "      <td>4.744539e-01</td>\n",
       "      <td>2.259769e+00</td>\n",
       "      <td>6.865512e+01</td>\n",
       "      <td>9.518751e+03</td>\n",
       "      <td>4.947911e-01</td>\n",
       "      <td>1.023452e-01</td>\n",
       "      <td>7.347819e-01</td>\n",
       "      <td>3.565240e-02</td>\n",
       "      <td>...</td>\n",
       "      <td>2.775047e+01</td>\n",
       "      <td>3.053059e+03</td>\n",
       "      <td>0.211065</td>\n",
       "      <td>9.821869e-02</td>\n",
       "      <td>1.748463e-02</td>\n",
       "      <td>1.868967e+00</td>\n",
       "      <td>4.386718e+00</td>\n",
       "      <td>1.084921e+05</td>\n",
       "      <td>2.793378e-01</td>\n",
       "      <td>6.060336e-02</td>\n",
       "    </tr>\n",
       "    <tr>\n",
       "      <th>min</th>\n",
       "      <td>0.000000e+00</td>\n",
       "      <td>0.000000e+00</td>\n",
       "      <td>0.000000e+00</td>\n",
       "      <td>0.000000e+00</td>\n",
       "      <td>0.000000e+00</td>\n",
       "      <td>0.000000e+00</td>\n",
       "      <td>0.000000e+00</td>\n",
       "      <td>0.000000e+00</td>\n",
       "      <td>0.000000e+00</td>\n",
       "      <td>0.000000e+00</td>\n",
       "      <td>...</td>\n",
       "      <td>0.000000e+00</td>\n",
       "      <td>0.000000e+00</td>\n",
       "      <td>0.000000</td>\n",
       "      <td>0.000000e+00</td>\n",
       "      <td>0.000000e+00</td>\n",
       "      <td>0.000000e+00</td>\n",
       "      <td>0.000000e+00</td>\n",
       "      <td>0.000000e+00</td>\n",
       "      <td>0.000000e+00</td>\n",
       "      <td>0.000000e+00</td>\n",
       "    </tr>\n",
       "    <tr>\n",
       "      <th>25%</th>\n",
       "      <td>1.300000e+01</td>\n",
       "      <td>1.042070e+05</td>\n",
       "      <td>5.000000e+00</td>\n",
       "      <td>4.000000e+00</td>\n",
       "      <td>2.760000e+02</td>\n",
       "      <td>1.050000e+02</td>\n",
       "      <td>0.000000e+00</td>\n",
       "      <td>0.000000e+00</td>\n",
       "      <td>0.000000e+00</td>\n",
       "      <td>0.000000e+00</td>\n",
       "      <td>...</td>\n",
       "      <td>0.000000e+00</td>\n",
       "      <td>1.557400e+04</td>\n",
       "      <td>1.000000</td>\n",
       "      <td>0.000000e+00</td>\n",
       "      <td>0.000000e+00</td>\n",
       "      <td>6.000000e+00</td>\n",
       "      <td>7.000000e+01</td>\n",
       "      <td>9.400000e+01</td>\n",
       "      <td>0.000000e+00</td>\n",
       "      <td>0.000000e+00</td>\n",
       "    </tr>\n",
       "    <tr>\n",
       "      <th>50%</th>\n",
       "      <td>2.700000e+01</td>\n",
       "      <td>1.452280e+05</td>\n",
       "      <td>5.000000e+00</td>\n",
       "      <td>5.000000e+00</td>\n",
       "      <td>2.890000e+02</td>\n",
       "      <td>3.150000e+02</td>\n",
       "      <td>1.000000e+00</td>\n",
       "      <td>0.000000e+00</td>\n",
       "      <td>0.000000e+00</td>\n",
       "      <td>0.000000e+00</td>\n",
       "      <td>...</td>\n",
       "      <td>0.000000e+00</td>\n",
       "      <td>1.575900e+04</td>\n",
       "      <td>1.000000</td>\n",
       "      <td>0.000000e+00</td>\n",
       "      <td>0.000000e+00</td>\n",
       "      <td>6.000000e+00</td>\n",
       "      <td>7.000000e+01</td>\n",
       "      <td>2.890000e+02</td>\n",
       "      <td>0.000000e+00</td>\n",
       "      <td>0.000000e+00</td>\n",
       "    </tr>\n",
       "    <tr>\n",
       "      <th>75%</th>\n",
       "      <td>4.100000e+01</td>\n",
       "      <td>1.848040e+05</td>\n",
       "      <td>5.000000e+00</td>\n",
       "      <td>5.000000e+00</td>\n",
       "      <td>3.240000e+02</td>\n",
       "      <td>9.000000e+02</td>\n",
       "      <td>1.000000e+00</td>\n",
       "      <td>0.000000e+00</td>\n",
       "      <td>0.000000e+00</td>\n",
       "      <td>0.000000e+00</td>\n",
       "      <td>...</td>\n",
       "      <td>0.000000e+00</td>\n",
       "      <td>1.575900e+04</td>\n",
       "      <td>1.000000</td>\n",
       "      <td>0.000000e+00</td>\n",
       "      <td>0.000000e+00</td>\n",
       "      <td>6.000000e+00</td>\n",
       "      <td>7.000000e+01</td>\n",
       "      <td>9.800000e+02</td>\n",
       "      <td>0.000000e+00</td>\n",
       "      <td>0.000000e+00</td>\n",
       "    </tr>\n",
       "    <tr>\n",
       "      <th>max</th>\n",
       "      <td>5.500000e+01</td>\n",
       "      <td>2.359590e+05</td>\n",
       "      <td>6.000000e+00</td>\n",
       "      <td>1.000000e+01</td>\n",
       "      <td>5.010000e+02</td>\n",
       "      <td>5.051970e+06</td>\n",
       "      <td>1.000000e+00</td>\n",
       "      <td>1.000000e+00</td>\n",
       "      <td>3.000000e+01</td>\n",
       "      <td>1.000000e+00</td>\n",
       "      <td>...</td>\n",
       "      <td>1.340000e+02</td>\n",
       "      <td>1.734000e+04</td>\n",
       "      <td>4.000000</td>\n",
       "      <td>1.000000e+00</td>\n",
       "      <td>1.000000e+00</td>\n",
       "      <td>1.000000e+01</td>\n",
       "      <td>8.500000e+01</td>\n",
       "      <td>7.473480e+07</td>\n",
       "      <td>1.000000e+00</td>\n",
       "      <td>1.000000e+00</td>\n",
       "    </tr>\n",
       "  </tbody>\n",
       "</table>\n",
       "<p>8 rows × 21 columns</p>\n",
       "</div>"
      ],
      "text/plain": [
       "              locdt         loctm         contp         etymd           mcc  \\\n",
       "count  8.688526e+06  8.688526e+06  8.688526e+06  8.485071e+06  8.683976e+06   \n",
       "mean   2.750020e+01  1.430832e+05  4.905415e+00  4.714078e+00  3.173557e+02   \n",
       "std    1.617132e+01  5.380955e+04  4.744539e-01  2.259769e+00  6.865512e+01   \n",
       "min    0.000000e+00  0.000000e+00  0.000000e+00  0.000000e+00  0.000000e+00   \n",
       "25%    1.300000e+01  1.042070e+05  5.000000e+00  4.000000e+00  2.760000e+02   \n",
       "50%    2.700000e+01  1.452280e+05  5.000000e+00  5.000000e+00  2.890000e+02   \n",
       "75%    4.100000e+01  1.848040e+05  5.000000e+00  5.000000e+00  3.240000e+02   \n",
       "max    5.500000e+01  2.359590e+05  6.000000e+00  1.000000e+01  5.010000e+02   \n",
       "\n",
       "              conam          ecfg         insfg         iterm         bnsfg  \\\n",
       "count  8.688526e+06  8.688526e+06  8.688526e+06  8.688526e+06  8.688526e+06   \n",
       "mean   1.418676e+03  5.719845e-01  1.058661e-02  6.073458e-02  1.272713e-03   \n",
       "std    9.518751e+03  4.947911e-01  1.023452e-01  7.347819e-01  3.565240e-02   \n",
       "min    0.000000e+00  0.000000e+00  0.000000e+00  0.000000e+00  0.000000e+00   \n",
       "25%    1.050000e+02  0.000000e+00  0.000000e+00  0.000000e+00  0.000000e+00   \n",
       "50%    3.150000e+02  1.000000e+00  0.000000e+00  0.000000e+00  0.000000e+00   \n",
       "75%    9.000000e+02  1.000000e+00  0.000000e+00  0.000000e+00  0.000000e+00   \n",
       "max    5.051970e+06  1.000000e+00  1.000000e+00  3.000000e+01  1.000000e+00   \n",
       "\n",
       "       ...         stocn         scity         stscd         ovrlt  \\\n",
       "count  ...  8.687926e+06  8.422460e+06  23331.000000  8.688526e+06   \n",
       "mean   ...  8.324148e+00  1.430112e+04      0.973254  9.741814e-03   \n",
       "std    ...  2.775047e+01  3.053059e+03      0.211065  9.821869e-02   \n",
       "min    ...  0.000000e+00  0.000000e+00      0.000000  0.000000e+00   \n",
       "25%    ...  0.000000e+00  1.557400e+04      1.000000  0.000000e+00   \n",
       "50%    ...  0.000000e+00  1.575900e+04      1.000000  0.000000e+00   \n",
       "75%    ...  0.000000e+00  1.575900e+04      1.000000  0.000000e+00   \n",
       "max    ...  1.340000e+02  1.734000e+04      4.000000  1.000000e+00   \n",
       "\n",
       "              flbmk         hcefg         csmcu         csmam     flg_3dsmk  \\\n",
       "count  8.688526e+06  8.401870e+06  8.189869e+06  8.688526e+06  8.688526e+06   \n",
       "mean   3.058056e-04  5.351585e+00  6.963586e+01  2.806845e+03  8.530687e-02   \n",
       "std    1.748463e-02  1.868967e+00  4.386718e+00  1.084921e+05  2.793378e-01   \n",
       "min    0.000000e+00  0.000000e+00  0.000000e+00  0.000000e+00  0.000000e+00   \n",
       "25%    0.000000e+00  6.000000e+00  7.000000e+01  9.400000e+01  0.000000e+00   \n",
       "50%    0.000000e+00  6.000000e+00  7.000000e+01  2.890000e+02  0.000000e+00   \n",
       "75%    0.000000e+00  6.000000e+00  7.000000e+01  9.800000e+02  0.000000e+00   \n",
       "max    1.000000e+00  1.000000e+01  8.500000e+01  7.473480e+07  1.000000e+00   \n",
       "\n",
       "              label  \n",
       "count  8.688526e+06  \n",
       "mean   3.686356e-03  \n",
       "std    6.060336e-02  \n",
       "min    0.000000e+00  \n",
       "25%    0.000000e+00  \n",
       "50%    0.000000e+00  \n",
       "75%    0.000000e+00  \n",
       "max    1.000000e+00  \n",
       "\n",
       "[8 rows x 21 columns]"
      ]
     },
     "execution_count": 4,
     "metadata": {},
     "output_type": "execute_result"
    }
   ],
   "source": [
    "df.describe()"
   ]
  },
  {
   "cell_type": "code",
   "execution_count": 5,
   "metadata": {},
   "outputs": [
    {
     "data": {
      "text/html": [
       "<div>\n",
       "<style scoped>\n",
       "    .dataframe tbody tr th:only-of-type {\n",
       "        vertical-align: middle;\n",
       "    }\n",
       "\n",
       "    .dataframe tbody tr th {\n",
       "        vertical-align: top;\n",
       "    }\n",
       "\n",
       "    .dataframe thead th {\n",
       "        text-align: right;\n",
       "    }\n",
       "</style>\n",
       "<table border=\"1\" class=\"dataframe\">\n",
       "  <thead>\n",
       "    <tr style=\"text-align: right;\">\n",
       "      <th></th>\n",
       "      <th>txkey</th>\n",
       "      <th>locdt</th>\n",
       "      <th>loctm</th>\n",
       "      <th>chid</th>\n",
       "      <th>cano</th>\n",
       "      <th>contp</th>\n",
       "      <th>etymd</th>\n",
       "      <th>mchno</th>\n",
       "      <th>acqic</th>\n",
       "      <th>mcc</th>\n",
       "      <th>...</th>\n",
       "      <th>flam1</th>\n",
       "      <th>stocn</th>\n",
       "      <th>scity</th>\n",
       "      <th>stscd</th>\n",
       "      <th>ovrlt</th>\n",
       "      <th>flbmk</th>\n",
       "      <th>hcefg</th>\n",
       "      <th>csmcu</th>\n",
       "      <th>csmam</th>\n",
       "      <th>flg_3dsmk</th>\n",
       "    </tr>\n",
       "  </thead>\n",
       "  <tbody>\n",
       "    <tr>\n",
       "      <th>0</th>\n",
       "      <td>a2c1209018e4e52e04f6fabb48f05f1b8bc09dc838ff6c...</td>\n",
       "      <td>56</td>\n",
       "      <td>105157</td>\n",
       "      <td>d6d145d0d058e3f63b9ec421cf9e1543b0c3e059d18c2c...</td>\n",
       "      <td>9c454e0cf3680075b0382394ca59b00ee9435fd829da29...</td>\n",
       "      <td>4</td>\n",
       "      <td>1.0</td>\n",
       "      <td>8be206f97d10b57a46ea0ef5527155a0f9b48d16255b70...</td>\n",
       "      <td>2a608b081c09492bd2bc96d7def5371c4bc9cabf324a98...</td>\n",
       "      <td>272.0</td>\n",
       "      <td>...</td>\n",
       "      <td>1349</td>\n",
       "      <td>0.0</td>\n",
       "      <td>15759.0</td>\n",
       "      <td>NaN</td>\n",
       "      <td>0</td>\n",
       "      <td>0</td>\n",
       "      <td>6.0</td>\n",
       "      <td>70.0</td>\n",
       "      <td>1349</td>\n",
       "      <td>0</td>\n",
       "    </tr>\n",
       "    <tr>\n",
       "      <th>1</th>\n",
       "      <td>16c4880500059e01553789be11bbb50753b7acaae7b95b...</td>\n",
       "      <td>56</td>\n",
       "      <td>185520</td>\n",
       "      <td>b599fb83473599fa2df4a04136a668c28df7914293f1da...</td>\n",
       "      <td>9f097cba6a70333c906904ebaad438356cf75b6abf5dd4...</td>\n",
       "      <td>5</td>\n",
       "      <td>8.0</td>\n",
       "      <td>dd280b4f35a02701142ba7de47abb9736deca3eed86474...</td>\n",
       "      <td>46f63555d29f177290dfe20e989146fb033e453f1d5ff3...</td>\n",
       "      <td>320.0</td>\n",
       "      <td>...</td>\n",
       "      <td>306</td>\n",
       "      <td>0.0</td>\n",
       "      <td>13451.0</td>\n",
       "      <td>NaN</td>\n",
       "      <td>0</td>\n",
       "      <td>0</td>\n",
       "      <td>6.0</td>\n",
       "      <td>70.0</td>\n",
       "      <td>306</td>\n",
       "      <td>0</td>\n",
       "    </tr>\n",
       "    <tr>\n",
       "      <th>2</th>\n",
       "      <td>623c56be3bee87724e3d119c271d9ed098eeda84233183...</td>\n",
       "      <td>59</td>\n",
       "      <td>102312</td>\n",
       "      <td>8de197129150d454df1639e9743c1aa11b1c1122a2010c...</td>\n",
       "      <td>439691cb167b272661c2eb9073124f5d422f446b0f92fb...</td>\n",
       "      <td>5</td>\n",
       "      <td>1.0</td>\n",
       "      <td>9b2d5b4678781e53038e91ea5324530a03f27dc1d0e5f6...</td>\n",
       "      <td>9b2d5b4678781e53038e91ea5324530a03f27dc1d0e5f6...</td>\n",
       "      <td>494.0</td>\n",
       "      <td>...</td>\n",
       "      <td>20</td>\n",
       "      <td>0.0</td>\n",
       "      <td>15759.0</td>\n",
       "      <td>NaN</td>\n",
       "      <td>0</td>\n",
       "      <td>0</td>\n",
       "      <td>NaN</td>\n",
       "      <td>NaN</td>\n",
       "      <td>0</td>\n",
       "      <td>0</td>\n",
       "    </tr>\n",
       "    <tr>\n",
       "      <th>3</th>\n",
       "      <td>250da12187059cf6e3a3066656a2919d08ceb8207efd55...</td>\n",
       "      <td>58</td>\n",
       "      <td>230138</td>\n",
       "      <td>f9cbad08a76f1dd9736a4fc51255eb55637ec0a417a406...</td>\n",
       "      <td>992679b728784192c17e90939918cbfae32ad1222fad26...</td>\n",
       "      <td>5</td>\n",
       "      <td>5.0</td>\n",
       "      <td>bd2b3523b4ecd652445b75ea7583c92f6f02af3971251b...</td>\n",
       "      <td>70dac5b1dfde828f556a93321a649df72891db35430588...</td>\n",
       "      <td>272.0</td>\n",
       "      <td>...</td>\n",
       "      <td>8339</td>\n",
       "      <td>42.0</td>\n",
       "      <td>12381.0</td>\n",
       "      <td>NaN</td>\n",
       "      <td>0</td>\n",
       "      <td>0</td>\n",
       "      <td>6.0</td>\n",
       "      <td>70.0</td>\n",
       "      <td>8339</td>\n",
       "      <td>0</td>\n",
       "    </tr>\n",
       "    <tr>\n",
       "      <th>4</th>\n",
       "      <td>4b268e0da036f44cbbb056ddfac6a28ea336d9cf299843...</td>\n",
       "      <td>59</td>\n",
       "      <td>101937</td>\n",
       "      <td>27d235e691a425098f291105f78f9877e05bb75e1f132b...</td>\n",
       "      <td>763fd2a91420f9b632c378ca82ff9e318851fa1964cbba...</td>\n",
       "      <td>5</td>\n",
       "      <td>5.0</td>\n",
       "      <td>156987f72b8993b8c5a898fa76f3b8e6454e10e18aa238...</td>\n",
       "      <td>89b1654aaef0b65b1868004cfdce2dcbb67f15b7fba535...</td>\n",
       "      <td>217.0</td>\n",
       "      <td>...</td>\n",
       "      <td>163</td>\n",
       "      <td>126.0</td>\n",
       "      <td>14786.0</td>\n",
       "      <td>NaN</td>\n",
       "      <td>0</td>\n",
       "      <td>0</td>\n",
       "      <td>6.0</td>\n",
       "      <td>68.0</td>\n",
       "      <td>5</td>\n",
       "      <td>0</td>\n",
       "    </tr>\n",
       "  </tbody>\n",
       "</table>\n",
       "<p>5 rows × 25 columns</p>\n",
       "</div>"
      ],
      "text/plain": [
       "                                               txkey  locdt   loctm  \\\n",
       "0  a2c1209018e4e52e04f6fabb48f05f1b8bc09dc838ff6c...     56  105157   \n",
       "1  16c4880500059e01553789be11bbb50753b7acaae7b95b...     56  185520   \n",
       "2  623c56be3bee87724e3d119c271d9ed098eeda84233183...     59  102312   \n",
       "3  250da12187059cf6e3a3066656a2919d08ceb8207efd55...     58  230138   \n",
       "4  4b268e0da036f44cbbb056ddfac6a28ea336d9cf299843...     59  101937   \n",
       "\n",
       "                                                chid  \\\n",
       "0  d6d145d0d058e3f63b9ec421cf9e1543b0c3e059d18c2c...   \n",
       "1  b599fb83473599fa2df4a04136a668c28df7914293f1da...   \n",
       "2  8de197129150d454df1639e9743c1aa11b1c1122a2010c...   \n",
       "3  f9cbad08a76f1dd9736a4fc51255eb55637ec0a417a406...   \n",
       "4  27d235e691a425098f291105f78f9877e05bb75e1f132b...   \n",
       "\n",
       "                                                cano  contp  etymd  \\\n",
       "0  9c454e0cf3680075b0382394ca59b00ee9435fd829da29...      4    1.0   \n",
       "1  9f097cba6a70333c906904ebaad438356cf75b6abf5dd4...      5    8.0   \n",
       "2  439691cb167b272661c2eb9073124f5d422f446b0f92fb...      5    1.0   \n",
       "3  992679b728784192c17e90939918cbfae32ad1222fad26...      5    5.0   \n",
       "4  763fd2a91420f9b632c378ca82ff9e318851fa1964cbba...      5    5.0   \n",
       "\n",
       "                                               mchno  \\\n",
       "0  8be206f97d10b57a46ea0ef5527155a0f9b48d16255b70...   \n",
       "1  dd280b4f35a02701142ba7de47abb9736deca3eed86474...   \n",
       "2  9b2d5b4678781e53038e91ea5324530a03f27dc1d0e5f6...   \n",
       "3  bd2b3523b4ecd652445b75ea7583c92f6f02af3971251b...   \n",
       "4  156987f72b8993b8c5a898fa76f3b8e6454e10e18aa238...   \n",
       "\n",
       "                                               acqic    mcc  ...  flam1  \\\n",
       "0  2a608b081c09492bd2bc96d7def5371c4bc9cabf324a98...  272.0  ...   1349   \n",
       "1  46f63555d29f177290dfe20e989146fb033e453f1d5ff3...  320.0  ...    306   \n",
       "2  9b2d5b4678781e53038e91ea5324530a03f27dc1d0e5f6...  494.0  ...     20   \n",
       "3  70dac5b1dfde828f556a93321a649df72891db35430588...  272.0  ...   8339   \n",
       "4  89b1654aaef0b65b1868004cfdce2dcbb67f15b7fba535...  217.0  ...    163   \n",
       "\n",
       "   stocn    scity  stscd  ovrlt  flbmk  hcefg  csmcu  csmam  flg_3dsmk  \n",
       "0    0.0  15759.0    NaN      0      0    6.0   70.0   1349          0  \n",
       "1    0.0  13451.0    NaN      0      0    6.0   70.0    306          0  \n",
       "2    0.0  15759.0    NaN      0      0    NaN    NaN      0          0  \n",
       "3   42.0  12381.0    NaN      0      0    6.0   70.0   8339          0  \n",
       "4  126.0  14786.0    NaN      0      0    6.0   68.0      5          0  \n",
       "\n",
       "[5 rows x 25 columns]"
      ]
     },
     "execution_count": 5,
     "metadata": {},
     "output_type": "execute_result"
    }
   ],
   "source": [
    "public = pd.read_csv('data/public_processed.csv')\n",
    "public.head()"
   ]
  },
  {
   "cell_type": "code",
   "execution_count": 6,
   "metadata": {},
   "outputs": [
    {
     "name": "stdout",
     "output_type": "stream",
     "text": [
      "Unique values in txkey: 600182\n",
      "Unique values in locdt: 4\n",
      "Unique values in loctm: 79625\n",
      "Unique values in chid: 219005\n",
      "Unique values in cano: 239866\n",
      "Unique values in contp: 7\n",
      "Unique values in etymd: 10\n",
      "Unique values in mchno: 52303\n",
      "Unique values in acqic: 2651\n",
      "Unique values in mcc: 335\n",
      "Unique values in conam: 26989\n",
      "Unique values in ecfg: 2\n",
      "Unique values in insfg: 2\n",
      "Unique values in iterm: 14\n",
      "Unique values in bnsfg: 2\n",
      "Unique values in flam1: 21381\n",
      "Unique values in stocn: 84\n",
      "Unique values in scity: 2671\n",
      "Unique values in stscd: 4\n",
      "Unique values in ovrlt: 2\n",
      "Unique values in flbmk: 2\n",
      "Unique values in hcefg: 10\n",
      "Unique values in csmcu: 57\n",
      "Unique values in csmam: 21582\n",
      "Unique values in flg_3dsmk: 2\n",
      "600182\n"
     ]
    }
   ],
   "source": [
    "for column in public.columns:\n",
    "    unique_values = public[column].nunique()\n",
    "    print(f'Unique values in {column}: {unique_values}')\n",
    "print(len(public))"
   ]
  },
  {
   "cell_type": "code",
   "execution_count": 7,
   "metadata": {},
   "outputs": [
    {
     "data": {
      "text/plain": [
       "int64      12\n",
       "float64     9\n",
       "object      5\n",
       "dtype: int64"
      ]
     },
     "execution_count": 7,
     "metadata": {},
     "output_type": "execute_result"
    }
   ],
   "source": [
    "df.dtypes.value_counts()"
   ]
  },
  {
   "cell_type": "code",
   "execution_count": 8,
   "metadata": {},
   "outputs": [
    {
     "data": {
      "text/plain": [
       "txkey         object\n",
       "locdt          int64\n",
       "loctm          int64\n",
       "chid          object\n",
       "cano          object\n",
       "contp          int64\n",
       "etymd        float64\n",
       "mchno         object\n",
       "acqic         object\n",
       "mcc          float64\n",
       "conam        float64\n",
       "ecfg           int64\n",
       "insfg          int64\n",
       "iterm        float64\n",
       "bnsfg          int64\n",
       "flam1          int64\n",
       "stocn        float64\n",
       "scity        float64\n",
       "stscd        float64\n",
       "ovrlt          int64\n",
       "flbmk          int64\n",
       "hcefg        float64\n",
       "csmcu        float64\n",
       "csmam          int64\n",
       "flg_3dsmk      int64\n",
       "label          int64\n",
       "dtype: object"
      ]
     },
     "execution_count": 8,
     "metadata": {},
     "output_type": "execute_result"
    }
   ],
   "source": [
    "df.dtypes"
   ]
  },
  {
   "cell_type": "markdown",
   "metadata": {},
   "source": [
    "# Unique value"
   ]
  },
  {
   "cell_type": "code",
   "execution_count": 9,
   "metadata": {},
   "outputs": [
    {
     "name": "stdout",
     "output_type": "stream",
     "text": [
      "Unique values in txkey: 8688526\n",
      "Unique values in locdt: 56\n",
      "Unique values in loctm: 86400\n",
      "Unique values in chid: 482667\n",
      "Unique values in cano: 618898\n",
      "Unique values in contp: 7\n",
      "Unique values in etymd: 10\n",
      "Unique values in mchno: 163797\n",
      "Unique values in acqic: 8334\n",
      "Unique values in mcc: 459\n",
      "Unique values in conam: 139288\n",
      "Unique values in ecfg: 2\n",
      "Unique values in insfg: 2\n",
      "Unique values in iterm: 14\n",
      "Unique values in bnsfg: 2\n",
      "Unique values in flam1: 60203\n",
      "Unique values in stocn: 122\n",
      "Unique values in scity: 12003\n",
      "Unique values in stscd: 5\n",
      "Unique values in ovrlt: 2\n",
      "Unique values in flbmk: 2\n",
      "Unique values in hcefg: 11\n",
      "Unique values in csmcu: 79\n",
      "Unique values in csmam: 61438\n",
      "Unique values in flg_3dsmk: 2\n",
      "Unique values in label: 2\n"
     ]
    }
   ],
   "source": [
    "for column in df.columns:\n",
    "    unique_values = df[column].nunique()\n",
    "    print(f'Unique values in {column}: {unique_values}')"
   ]
  },
  {
   "cell_type": "markdown",
   "metadata": {},
   "source": [
    "# Null Value"
   ]
  },
  {
   "cell_type": "code",
   "execution_count": 10,
   "metadata": {},
   "outputs": [
    {
     "data": {
      "text/plain": [
       "txkey              0\n",
       "locdt              0\n",
       "loctm              0\n",
       "chid               0\n",
       "cano               0\n",
       "contp              0\n",
       "etymd         203455\n",
       "mchno              0\n",
       "acqic              0\n",
       "mcc             4550\n",
       "conam              0\n",
       "ecfg               0\n",
       "insfg              0\n",
       "iterm              0\n",
       "bnsfg              0\n",
       "flam1              0\n",
       "stocn            600\n",
       "scity         266066\n",
       "stscd        8665195\n",
       "ovrlt              0\n",
       "flbmk              0\n",
       "hcefg         286656\n",
       "csmcu         498657\n",
       "csmam              0\n",
       "flg_3dsmk          0\n",
       "label              0\n",
       "dtype: int64"
      ]
     },
     "execution_count": 10,
     "metadata": {},
     "output_type": "execute_result"
    }
   ],
   "source": [
    "df.isna().sum()"
   ]
  },
  {
   "cell_type": "markdown",
   "metadata": {},
   "source": [
    "# EDA"
   ]
  },
  {
   "cell_type": "markdown",
   "metadata": {},
   "source": [
    "## label"
   ]
  },
  {
   "cell_type": "code",
   "execution_count": 11,
   "metadata": {},
   "outputs": [
    {
     "data": {
      "text/plain": [
       "count    8.688526e+06\n",
       "mean     3.686356e-03\n",
       "std      6.060336e-02\n",
       "min      0.000000e+00\n",
       "25%      0.000000e+00\n",
       "50%      0.000000e+00\n",
       "75%      0.000000e+00\n",
       "max      1.000000e+00\n",
       "Name: label, dtype: float64"
      ]
     },
     "execution_count": 11,
     "metadata": {},
     "output_type": "execute_result"
    }
   ],
   "source": [
    "df['label'].describe()"
   ]
  },
  {
   "cell_type": "code",
   "execution_count": 12,
   "metadata": {},
   "outputs": [
    {
     "data": {
      "text/plain": [
       "<Axes: xlabel='label', ylabel='count'>"
      ]
     },
     "execution_count": 12,
     "metadata": {},
     "output_type": "execute_result"
    },
    {
     "data": {
      "image/png": "[encoded data removed]",
      "text/plain": [
       "<Figure size 640x480 with 1 Axes>"
      ]
     },
     "metadata": {},
     "output_type": "display_data"
    }
   ],
   "source": [
    "sns.countplot(data=df, x='label')"
   ]
  },
  {
   "cell_type": "code",
   "execution_count": 13,
   "metadata": {},
   "outputs": [
    {
     "data": {
      "text/plain": [
       "0    0.996314\n",
       "1    0.003686\n",
       "Name: label, dtype: float64"
      ]
     },
     "execution_count": 13,
     "metadata": {},
     "output_type": "execute_result"
    }
   ],
   "source": [
    "df['label'].value_counts()/len(df)"
   ]
  },
  {
   "cell_type": "code",
   "execution_count": 14,
   "metadata": {},
   "outputs": [],
   "source": [
    "def plot_hist(feature, num_bins, bin_size):\n",
    "    num_bins = df[feature].max() // bin_size + 1\n",
    "\n",
    "    frauds_per_interval = []\n",
    "    for i in range(num_bins):\n",
    "        lower_bound = i * bin_size\n",
    "        upper_bound = (i + 1) * bin_size\n",
    "        interval_data = df[(df[feature] >= lower_bound) & (df[feature] < upper_bound)]\n",
    "        num_frauds = interval_data['label'].sum()\n",
    "        frauds_per_interval.append(num_frauds)\n",
    "    return frauds_per_interval"
   ]
  },
  {
   "cell_type": "markdown",
   "metadata": {},
   "source": [
    "# locdt"
   ]
  },
  {
   "cell_type": "code",
   "execution_count": 15,
   "metadata": {},
   "outputs": [
    {
     "data": {
      "text/plain": [
       "count    8.688526e+06\n",
       "mean     2.750020e+01\n",
       "std      1.617132e+01\n",
       "min      0.000000e+00\n",
       "25%      1.300000e+01\n",
       "50%      2.700000e+01\n",
       "75%      4.100000e+01\n",
       "max      5.500000e+01\n",
       "Name: locdt, dtype: float64"
      ]
     },
     "execution_count": 15,
     "metadata": {},
     "output_type": "execute_result"
    }
   ],
   "source": [
    "df['locdt'].describe()"
   ]
  },
  {
   "cell_type": "code",
   "execution_count": 16,
   "metadata": {},
   "outputs": [
    {
     "data": {
      "text/plain": [
       "count    600182.000000\n",
       "mean         57.474441\n",
       "std           1.107709\n",
       "min          56.000000\n",
       "25%          56.000000\n",
       "50%          57.000000\n",
       "75%          58.000000\n",
       "max          59.000000\n",
       "Name: locdt, dtype: float64"
      ]
     },
     "execution_count": 16,
     "metadata": {},
     "output_type": "execute_result"
    }
   ],
   "source": [
    "public['locdt'].describe()"
   ]
  },
  {
   "cell_type": "code",
   "execution_count": 17,
   "metadata": {},
   "outputs": [
    {
     "data": {
      "text/plain": [
       "Text(0.5, 1.0, 'Number of Frauds every day')"
      ]
     },
     "execution_count": 17,
     "metadata": {},
     "output_type": "execute_result"
    },
    {
     "data": {
      "image/png": "[encoded data removed]",
      "text/plain": [
       "<Figure size 1600x800 with 1 Axes>"
      ]
     },
     "metadata": {},
     "output_type": "display_data"
    }
   ],
   "source": [
    "bin_size=1\n",
    "num_bins = df['locdt'].max() // bin_size + 1\n",
    "frauds_per_interval = plot_hist('locdt', num_bins=num_bins, bin_size=bin_size)\n",
    "\n",
    "plt.figure(figsize=(16, 8)) \n",
    "# Create the plot using Seaborn\n",
    "sns.barplot(x=[f'{i}-{i+1}' for i in range(num_bins)], y=frauds_per_interval)\n",
    "plt.xlabel('Day Intervals')\n",
    "plt.ylabel('Number of Frauds')\n",
    "plt.title('Number of Frauds every day')\n"
   ]
  },
  {
   "cell_type": "markdown",
   "metadata": {},
   "source": [
    "# loctm"
   ]
  },
  {
   "cell_type": "code",
   "execution_count": 18,
   "metadata": {},
   "outputs": [
    {
     "data": {
      "text/plain": [
       "count    8.688526e+06\n",
       "mean     1.430832e+05\n",
       "std      5.380955e+04\n",
       "min      0.000000e+00\n",
       "25%      1.042070e+05\n",
       "50%      1.452280e+05\n",
       "75%      1.848040e+05\n",
       "max      2.359590e+05\n",
       "Name: loctm, dtype: float64"
      ]
     },
     "execution_count": 18,
     "metadata": {},
     "output_type": "execute_result"
    }
   ],
   "source": [
    "df['loctm'].describe()"
   ]
  },
  {
   "cell_type": "code",
   "execution_count": 19,
   "metadata": {},
   "outputs": [
    {
     "data": {
      "text/plain": [
       "count    600182.000000\n",
       "mean     142866.065697\n",
       "std       54591.701218\n",
       "min           0.000000\n",
       "25%      103505.000000\n",
       "50%      144919.000000\n",
       "75%      185435.000000\n",
       "max      235959.000000\n",
       "Name: loctm, dtype: float64"
      ]
     },
     "execution_count": 19,
     "metadata": {},
     "output_type": "execute_result"
    }
   ],
   "source": [
    "public['loctm'].describe()"
   ]
  },
  {
   "cell_type": "code",
   "execution_count": 20,
   "metadata": {},
   "outputs": [
    {
     "data": {
      "text/plain": [
       "Text(0.5, 1.0, 'Number of Frauds every hour')"
      ]
     },
     "execution_count": 20,
     "metadata": {},
     "output_type": "execute_result"
    },
    {
     "data": {
      "image/png": "[encoded data removed]",
      "text/plain": [
       "<Figure size 1600x800 with 1 Axes>"
      ]
     },
     "metadata": {},
     "output_type": "display_data"
    }
   ],
   "source": [
    "bin_size=10000\n",
    "num_bins = df['loctm'].max() // bin_size + 1\n",
    "frauds_per_interval = plot_hist('loctm', num_bins=num_bins, bin_size=bin_size)\n",
    "\n",
    "plt.figure(figsize=(16, 8)) \n",
    "# Create the plot using Seaborn\n",
    "sns.barplot(x=[f'{i}-{i+1}' for i in range(num_bins)], y=frauds_per_interval)\n",
    "plt.xlabel('Time Intervals')\n",
    "plt.ylabel('Number of Frauds')\n",
    "plt.title('Number of Frauds every hour')\n"
   ]
  },
  {
   "cell_type": "markdown",
   "metadata": {},
   "source": [
    "# chid"
   ]
  },
  {
   "cell_type": "code",
   "execution_count": 21,
   "metadata": {},
   "outputs": [
    {
     "data": {
      "text/plain": [
       "count                                               8688526\n",
       "unique                                               482667\n",
       "top       f200cd7e88bd814ad8bdf48c02216695ce72375f95873d...\n",
       "freq                                                   9577\n",
       "Name: chid, dtype: object"
      ]
     },
     "execution_count": 21,
     "metadata": {},
     "output_type": "execute_result"
    }
   ],
   "source": [
    "df['chid'].describe()"
   ]
  },
  {
   "cell_type": "markdown",
   "metadata": {},
   "source": [
    "# cano"
   ]
  },
  {
   "cell_type": "code",
   "execution_count": 22,
   "metadata": {},
   "outputs": [
    {
     "data": {
      "text/plain": [
       "count                                               8688526\n",
       "unique                                               618898\n",
       "top       f740c6359369dd973f53180fa50db3ca96d81c9054dad7...\n",
       "freq                                                   4583\n",
       "Name: cano, dtype: object"
      ]
     },
     "execution_count": 22,
     "metadata": {},
     "output_type": "execute_result"
    }
   ],
   "source": [
    "df['cano'].describe()"
   ]
  },
  {
   "cell_type": "markdown",
   "metadata": {},
   "source": [
    "# contp"
   ]
  },
  {
   "cell_type": "code",
   "execution_count": 23,
   "metadata": {},
   "outputs": [
    {
     "data": {
      "text/plain": [
       "count    8.688526e+06\n",
       "mean     4.905415e+00\n",
       "std      4.744539e-01\n",
       "min      0.000000e+00\n",
       "25%      5.000000e+00\n",
       "50%      5.000000e+00\n",
       "75%      5.000000e+00\n",
       "max      6.000000e+00\n",
       "Name: contp, dtype: float64"
      ]
     },
     "execution_count": 23,
     "metadata": {},
     "output_type": "execute_result"
    }
   ],
   "source": [
    "df['contp'].describe()"
   ]
  },
  {
   "cell_type": "code",
   "execution_count": 24,
   "metadata": {},
   "outputs": [
    {
     "data": {
      "text/plain": [
       "7"
      ]
     },
     "execution_count": 24,
     "metadata": {},
     "output_type": "execute_result"
    }
   ],
   "source": [
    "df['contp'].nunique()"
   ]
  },
  {
   "cell_type": "code",
   "execution_count": 25,
   "metadata": {},
   "outputs": [
    {
     "data": {
      "text/plain": [
       "<Axes: >"
      ]
     },
     "execution_count": 25,
     "metadata": {},
     "output_type": "execute_result"
    },
    {
     "data": {
      "image/png": "[encoded data removed]",
      "text/plain": [
       "<Figure size 640x480 with 1 Axes>"
      ]
     },
     "metadata": {},
     "output_type": "display_data"
    }
   ],
   "source": [
    "df['contp'].value_counts().plot(kind='bar')"
   ]
  },
  {
   "cell_type": "code",
   "execution_count": 26,
   "metadata": {},
   "outputs": [
    {
     "data": {
      "text/plain": [
       "Text(0.5, 1.0, 'Ratio of frauds in contp categories')"
      ]
     },
     "execution_count": 26,
     "metadata": {},
     "output_type": "execute_result"
    },
    {
     "data": {
      "image/png": "[encoded data removed]",
      "text/plain": [
       "<Figure size 1600x800 with 2 Axes>"
      ]
     },
     "metadata": {},
     "output_type": "display_data"
    }
   ],
   "source": [
    "fig, ax = plt.subplots(1,2, figsize=(16, 8))\n",
    "contp_groupby = df.groupby('contp')['label'].sum()\n",
    "contp_groupby_ratio = contp_groupby/df.groupby('contp').size()\n",
    "contp_groupby.plot.bar(ax=ax[0])\n",
    "contp_groupby_ratio.plot.bar(ax=ax[1])\n",
    "ax[0].set_title('Number of frauds in contp categories')\n",
    "ax[1].set_title('Ratio of frauds in contp categories')"
   ]
  },
  {
   "cell_type": "markdown",
   "metadata": {},
   "source": [
    "# etymd"
   ]
  },
  {
   "cell_type": "code",
   "execution_count": 27,
   "metadata": {},
   "outputs": [
    {
     "data": {
      "text/plain": [
       "count    8.485071e+06\n",
       "mean     4.714078e+00\n",
       "std      2.259769e+00\n",
       "min      0.000000e+00\n",
       "25%      4.000000e+00\n",
       "50%      5.000000e+00\n",
       "75%      5.000000e+00\n",
       "max      1.000000e+01\n",
       "Name: etymd, dtype: float64"
      ]
     },
     "execution_count": 27,
     "metadata": {},
     "output_type": "execute_result"
    }
   ],
   "source": [
    "df['etymd'].describe()"
   ]
  },
  {
   "cell_type": "code",
   "execution_count": 28,
   "metadata": {},
   "outputs": [
    {
     "data": {
      "text/plain": [
       "array([ 1.,  8.,  4.,  5.,  3., nan,  0.,  2.,  9.,  7., 10.])"
      ]
     },
     "execution_count": 28,
     "metadata": {},
     "output_type": "execute_result"
    }
   ],
   "source": [
    "df['etymd'].unique()"
   ]
  },
  {
   "cell_type": "code",
   "execution_count": 29,
   "metadata": {},
   "outputs": [
    {
     "data": {
      "text/plain": [
       "<Axes: >"
      ]
     },
     "execution_count": 29,
     "metadata": {},
     "output_type": "execute_result"
    },
    {
     "data": {
      "image/png": "[encoded data removed]",
      "text/plain": [
       "<Figure size 640x480 with 1 Axes>"
      ]
     },
     "metadata": {},
     "output_type": "display_data"
    }
   ],
   "source": [
    "df['etymd'].value_counts().plot(kind='bar')"
   ]
  },
  {
   "cell_type": "code",
   "execution_count": 30,
   "metadata": {},
   "outputs": [
    {
     "data": {
      "text/plain": [
       "<Axes: xlabel='etymd'>"
      ]
     },
     "execution_count": 30,
     "metadata": {},
     "output_type": "execute_result"
    },
    {
     "data": {
      "image/png": "[encoded data removed]",
      "text/plain": [
       "<Figure size 1600x800 with 2 Axes>"
      ]
     },
     "metadata": {},
     "output_type": "display_data"
    }
   ],
   "source": [
    "fig, ax = plt.subplots(1, 2, figsize=(16, 8))\n",
    "etymd_groupby = df.groupby('etymd', dropna=False)['label'].sum()\n",
    "etymd_groupby_ratio = etymd_groupby/df.groupby('etymd', dropna=False).size()\n",
    "etymd_groupby.plot.bar(ax=ax[0])\n",
    "etymd_groupby_ratio.plot.bar(ax=ax[1])"
   ]
  },
  {
   "cell_type": "markdown",
   "metadata": {},
   "source": [
    "# mchno"
   ]
  },
  {
   "cell_type": "code",
   "execution_count": 31,
   "metadata": {},
   "outputs": [
    {
     "data": {
      "text/plain": [
       "count                                               8688526\n",
       "unique                                               163797\n",
       "top       dd280b4f35a02701142ba7de47abb9736deca3eed86474...\n",
       "freq                                                 360832\n",
       "Name: mchno, dtype: object"
      ]
     },
     "execution_count": 31,
     "metadata": {},
     "output_type": "execute_result"
    }
   ],
   "source": [
    "df['mchno'].describe()"
   ]
  },
  {
   "cell_type": "markdown",
   "metadata": {},
   "source": [
    "# acqic"
   ]
  },
  {
   "cell_type": "code",
   "execution_count": 32,
   "metadata": {},
   "outputs": [
    {
     "data": {
      "text/plain": [
       "count                                               8688526\n",
       "unique                                                 8334\n",
       "top       379166ff4a62dac343b4b734188aa618716cc496e48b65...\n",
       "freq                                                2220622\n",
       "Name: acqic, dtype: object"
      ]
     },
     "execution_count": 32,
     "metadata": {},
     "output_type": "execute_result"
    }
   ],
   "source": [
    "df['acqic'].describe()"
   ]
  },
  {
   "cell_type": "markdown",
   "metadata": {},
   "source": [
    "# mcc"
   ]
  },
  {
   "cell_type": "code",
   "execution_count": 33,
   "metadata": {},
   "outputs": [
    {
     "data": {
      "text/plain": [
       "count    8.683976e+06\n",
       "mean     3.173557e+02\n",
       "std      6.865512e+01\n",
       "min      0.000000e+00\n",
       "25%      2.760000e+02\n",
       "50%      2.890000e+02\n",
       "75%      3.240000e+02\n",
       "max      5.010000e+02\n",
       "Name: mcc, dtype: float64"
      ]
     },
     "execution_count": 33,
     "metadata": {},
     "output_type": "execute_result"
    }
   ],
   "source": [
    "df['mcc'].describe()"
   ]
  },
  {
   "cell_type": "code",
   "execution_count": 34,
   "metadata": {},
   "outputs": [
    {
     "data": {
      "text/plain": [
       "459"
      ]
     },
     "execution_count": 34,
     "metadata": {},
     "output_type": "execute_result"
    }
   ],
   "source": [
    "df['mcc'].nunique()"
   ]
  },
  {
   "cell_type": "code",
   "execution_count": 35,
   "metadata": {},
   "outputs": [
    {
     "data": {
      "text/html": [
       "<div>\n",
       "<style scoped>\n",
       "    .dataframe tbody tr th:only-of-type {\n",
       "        vertical-align: middle;\n",
       "    }\n",
       "\n",
       "    .dataframe tbody tr th {\n",
       "        vertical-align: top;\n",
       "    }\n",
       "\n",
       "    .dataframe thead th {\n",
       "        text-align: right;\n",
       "    }\n",
       "</style>\n",
       "<table border=\"1\" class=\"dataframe\">\n",
       "  <thead>\n",
       "    <tr style=\"text-align: right;\">\n",
       "      <th></th>\n",
       "      <th>Numbers</th>\n",
       "      <th>Ratio</th>\n",
       "    </tr>\n",
       "    <tr>\n",
       "      <th>mcc</th>\n",
       "      <th></th>\n",
       "      <th></th>\n",
       "    </tr>\n",
       "  </thead>\n",
       "  <tbody>\n",
       "    <tr>\n",
       "      <th>40.0</th>\n",
       "      <td>1</td>\n",
       "      <td>1.000000</td>\n",
       "    </tr>\n",
       "    <tr>\n",
       "      <th>185.0</th>\n",
       "      <td>1</td>\n",
       "      <td>1.000000</td>\n",
       "    </tr>\n",
       "    <tr>\n",
       "      <th>332.0</th>\n",
       "      <td>6</td>\n",
       "      <td>1.000000</td>\n",
       "    </tr>\n",
       "    <tr>\n",
       "      <th>430.0</th>\n",
       "      <td>2</td>\n",
       "      <td>1.000000</td>\n",
       "    </tr>\n",
       "    <tr>\n",
       "      <th>295.0</th>\n",
       "      <td>2</td>\n",
       "      <td>1.000000</td>\n",
       "    </tr>\n",
       "    <tr>\n",
       "      <th>203.0</th>\n",
       "      <td>2</td>\n",
       "      <td>1.000000</td>\n",
       "    </tr>\n",
       "    <tr>\n",
       "      <th>244.0</th>\n",
       "      <td>7</td>\n",
       "      <td>1.000000</td>\n",
       "    </tr>\n",
       "    <tr>\n",
       "      <th>433.0</th>\n",
       "      <td>16</td>\n",
       "      <td>1.000000</td>\n",
       "    </tr>\n",
       "    <tr>\n",
       "      <th>350.0</th>\n",
       "      <td>2</td>\n",
       "      <td>1.000000</td>\n",
       "    </tr>\n",
       "    <tr>\n",
       "      <th>12.0</th>\n",
       "      <td>28</td>\n",
       "      <td>0.965517</td>\n",
       "    </tr>\n",
       "    <tr>\n",
       "      <th>4.0</th>\n",
       "      <td>44</td>\n",
       "      <td>0.897959</td>\n",
       "    </tr>\n",
       "    <tr>\n",
       "      <th>64.0</th>\n",
       "      <td>62</td>\n",
       "      <td>0.861111</td>\n",
       "    </tr>\n",
       "    <tr>\n",
       "      <th>6.0</th>\n",
       "      <td>5</td>\n",
       "      <td>0.833333</td>\n",
       "    </tr>\n",
       "    <tr>\n",
       "      <th>7.0</th>\n",
       "      <td>39</td>\n",
       "      <td>0.812500</td>\n",
       "    </tr>\n",
       "    <tr>\n",
       "      <th>391.0</th>\n",
       "      <td>3</td>\n",
       "      <td>0.750000</td>\n",
       "    </tr>\n",
       "    <tr>\n",
       "      <th>390.0</th>\n",
       "      <td>1224</td>\n",
       "      <td>0.668852</td>\n",
       "    </tr>\n",
       "    <tr>\n",
       "      <th>32.0</th>\n",
       "      <td>2</td>\n",
       "      <td>0.666667</td>\n",
       "    </tr>\n",
       "    <tr>\n",
       "      <th>239.0</th>\n",
       "      <td>16</td>\n",
       "      <td>0.666667</td>\n",
       "    </tr>\n",
       "    <tr>\n",
       "      <th>246.0</th>\n",
       "      <td>111</td>\n",
       "      <td>0.552239</td>\n",
       "    </tr>\n",
       "    <tr>\n",
       "      <th>22.0</th>\n",
       "      <td>6</td>\n",
       "      <td>0.500000</td>\n",
       "    </tr>\n",
       "  </tbody>\n",
       "</table>\n",
       "</div>"
      ],
      "text/plain": [
       "       Numbers     Ratio\n",
       "mcc                     \n",
       "40.0         1  1.000000\n",
       "185.0        1  1.000000\n",
       "332.0        6  1.000000\n",
       "430.0        2  1.000000\n",
       "295.0        2  1.000000\n",
       "203.0        2  1.000000\n",
       "244.0        7  1.000000\n",
       "433.0       16  1.000000\n",
       "350.0        2  1.000000\n",
       "12.0        28  0.965517\n",
       "4.0         44  0.897959\n",
       "64.0        62  0.861111\n",
       "6.0          5  0.833333\n",
       "7.0         39  0.812500\n",
       "391.0        3  0.750000\n",
       "390.0     1224  0.668852\n",
       "32.0         2  0.666667\n",
       "239.0       16  0.666667\n",
       "246.0      111  0.552239\n",
       "22.0         6  0.500000"
      ]
     },
     "execution_count": 35,
     "metadata": {},
     "output_type": "execute_result"
    }
   ],
   "source": [
    "mcc_groupby = df.groupby('mcc', dropna=False)['label'].sum()\n",
    "mcc_groupby_ratio = mcc_groupby / df.groupby('mcc', dropna=False).size()\n",
    "sorted_mcc_groupby_ratio = mcc_groupby_ratio.sort_values(ascending=False)\n",
    "\n",
    "indexes = sorted_mcc_groupby_ratio.head(20).index\n",
    "\n",
    "mcc_groupby_top_20=pd.concat([mcc_groupby.loc[indexes],mcc_groupby_ratio.loc[indexes]],axis=1)\n",
    "mcc_groupby_top_20.columns = ['Numbers', 'Ratio']\n",
    "mcc_groupby_top_20"
   ]
  },
  {
   "cell_type": "markdown",
   "metadata": {},
   "source": [
    "# conam"
   ]
  },
  {
   "cell_type": "code",
   "execution_count": 36,
   "metadata": {},
   "outputs": [
    {
     "data": {
      "text/plain": [
       "count    8.688526e+06\n",
       "mean     1.418676e+03\n",
       "std      9.518751e+03\n",
       "min      0.000000e+00\n",
       "25%      1.050000e+02\n",
       "50%      3.150000e+02\n",
       "75%      9.000000e+02\n",
       "max      5.051970e+06\n",
       "Name: conam, dtype: float64"
      ]
     },
     "execution_count": 36,
     "metadata": {},
     "output_type": "execute_result"
    }
   ],
   "source": [
    "df['conam'].describe()"
   ]
  },
  {
   "cell_type": "code",
   "execution_count": 37,
   "metadata": {},
   "outputs": [
    {
     "data": {
      "text/plain": [
       "{'whiskers': [<matplotlib.lines.Line2D at 0x7febe751d810>,\n",
       "  <matplotlib.lines.Line2D at 0x7febe751d990>,\n",
       "  <matplotlib.lines.Line2D at 0x7febe751e980>,\n",
       "  <matplotlib.lines.Line2D at 0x7febe751ec20>],\n",
       " 'caps': [<matplotlib.lines.Line2D at 0x7febe751dc30>,\n",
       "  <matplotlib.lines.Line2D at 0x7febe751ded0>,\n",
       "  <matplotlib.lines.Line2D at 0x7febe751eec0>,\n",
       "  <matplotlib.lines.Line2D at 0x7febe751f160>],\n",
       " 'boxes': [<matplotlib.lines.Line2D at 0x7febe751d570>,\n",
       "  <matplotlib.lines.Line2D at 0x7febe751e6e0>],\n",
       " 'medians': [<matplotlib.lines.Line2D at 0x7febe751e170>,\n",
       "  <matplotlib.lines.Line2D at 0x7febe751f400>],\n",
       " 'fliers': [<matplotlib.lines.Line2D at 0x7febe751e410>,\n",
       "  <matplotlib.lines.Line2D at 0x7febe751f6a0>],\n",
       " 'means': []}"
      ]
     },
     "execution_count": 37,
     "metadata": {},
     "output_type": "execute_result"
    },
    {
     "data": {
      "image/png": "[encoded data removed]",
      "text/plain": [
       "<Figure size 640x480 with 1 Axes>"
      ]
     },
     "metadata": {},
     "output_type": "display_data"
    }
   ],
   "source": [
    "fraud = df[df['label']==1]\n",
    "not_fraud = df[df['label']==0]\n",
    "\n",
    "plt.boxplot([fraud['conam'], not_fraud['conam']], labels=['Fraud', 'Non-Fraud'])"
   ]
  },
  {
   "cell_type": "code",
   "execution_count": 38,
   "metadata": {},
   "outputs": [
    {
     "data": {
      "text/plain": [
       "<matplotlib.legend.Legend at 0x7febc60f51e0>"
      ]
     },
     "execution_count": 38,
     "metadata": {},
     "output_type": "execute_result"
    },
    {
     "data": {
      "image/png": "[encoded data removed]",
      "text/plain": [
       "<Figure size 640x480 with 1 Axes>"
      ]
     },
     "metadata": {},
     "output_type": "display_data"
    }
   ],
   "source": [
    "sns.kdeplot(fraud, x='conam', color='blue', label='fraud')\n",
    "sns.kdeplot(not_fraud, x='conam', color='red', label='not fraud')\n",
    "plt.xlim(0, 1e5)\n",
    "plt.legend()"
   ]
  },
  {
   "cell_type": "markdown",
   "metadata": {},
   "source": [
    "# ecfg"
   ]
  },
  {
   "cell_type": "code",
   "execution_count": 39,
   "metadata": {},
   "outputs": [
    {
     "data": {
      "text/plain": [
       "count    8.688526e+06\n",
       "mean     5.719845e-01\n",
       "std      4.947911e-01\n",
       "min      0.000000e+00\n",
       "25%      0.000000e+00\n",
       "50%      1.000000e+00\n",
       "75%      1.000000e+00\n",
       "max      1.000000e+00\n",
       "Name: ecfg, dtype: float64"
      ]
     },
     "execution_count": 39,
     "metadata": {},
     "output_type": "execute_result"
    }
   ],
   "source": [
    "df['ecfg'].describe()"
   ]
  },
  {
   "cell_type": "code",
   "execution_count": 40,
   "metadata": {},
   "outputs": [
    {
     "data": {
      "text/plain": [
       "array([0, 1])"
      ]
     },
     "execution_count": 40,
     "metadata": {},
     "output_type": "execute_result"
    }
   ],
   "source": [
    "df['ecfg'].unique()"
   ]
  },
  {
   "cell_type": "code",
   "execution_count": 41,
   "metadata": {},
   "outputs": [
    {
     "data": {
      "text/plain": [
       "<Axes: >"
      ]
     },
     "execution_count": 41,
     "metadata": {},
     "output_type": "execute_result"
    },
    {
     "data": {
      "image/png": "[encoded data removed]",
      "text/plain": [
       "<Figure size 640x480 with 1 Axes>"
      ]
     },
     "metadata": {},
     "output_type": "display_data"
    }
   ],
   "source": [
    "ratio_ecfg = df['ecfg'].value_counts()/len(df['ecfg'])\n",
    "ratio_ecfg.plot(kind='bar')"
   ]
  },
  {
   "cell_type": "code",
   "execution_count": 42,
   "metadata": {
    "editable": true,
    "slideshow": {
     "slide_type": ""
    },
    "tags": []
   },
   "outputs": [
    {
     "data": {
      "text/plain": [
       "(ecfg\n",
       " 0    0.428016\n",
       " 1    0.571984\n",
       " dtype: float64,\n",
       " ecfg  label\n",
       " 0     0        0.429114\n",
       "       1        0.131037\n",
       " 1     0        0.570886\n",
       "       1        0.868963\n",
       " dtype: float64)"
      ]
     },
     "execution_count": 42,
     "metadata": {},
     "output_type": "execute_result"
    }
   ],
   "source": [
    "ecfg_size = df.groupby('ecfg').size() / len(df)\n",
    "ecfg_groupby = df.groupby(['ecfg', 'label']).size() / df.groupby('label').size()\n",
    "ecfg_size, ecfg_groupby"
   ]
  },
  {
   "cell_type": "code",
   "execution_count": 43,
   "metadata": {},
   "outputs": [
    {
     "data": {
      "text/plain": [
       "[Text(0, 0, 'not fraud'), Text(1, 0, 'fraud')]"
      ]
     },
     "execution_count": 43,
     "metadata": {},
     "output_type": "execute_result"
    },
    {
     "data": {
      "image/png": "[encoded data removed]",
      "text/plain": [
       "<Figure size 640x480 with 1 Axes>"
      ]
     },
     "metadata": {},
     "output_type": "display_data"
    }
   ],
   "source": [
    "ax_ecfg = ecfg_groupby.unstack('ecfg').plot.bar()\n",
    "ax_ecfg.set_title('Comparision between internet transactions(1) or not (0)')\n",
    "ax_ecfg.legend(['not internet', 'internet'])\n",
    "ax_ecfg.set_xticklabels(['not fraud', 'fraud'], rotation=0)"
   ]
  },
  {
   "cell_type": "markdown",
   "metadata": {},
   "source": [
    "# insfg"
   ]
  },
  {
   "cell_type": "code",
   "execution_count": 44,
   "metadata": {},
   "outputs": [
    {
     "data": {
      "text/plain": [
       "count    8.688526e+06\n",
       "mean     1.058661e-02\n",
       "std      1.023452e-01\n",
       "min      0.000000e+00\n",
       "25%      0.000000e+00\n",
       "50%      0.000000e+00\n",
       "75%      0.000000e+00\n",
       "max      1.000000e+00\n",
       "Name: insfg, dtype: float64"
      ]
     },
     "execution_count": 44,
     "metadata": {},
     "output_type": "execute_result"
    }
   ],
   "source": [
    "df['insfg'].describe()"
   ]
  },
  {
   "cell_type": "code",
   "execution_count": 45,
   "metadata": {},
   "outputs": [
    {
     "data": {
      "text/plain": [
       "<Axes: >"
      ]
     },
     "execution_count": 45,
     "metadata": {},
     "output_type": "execute_result"
    },
    {
     "data": {
      "image/png": "[encoded data removed]",
      "text/plain": [
       "<Figure size 640x480 with 1 Axes>"
      ]
     },
     "metadata": {},
     "output_type": "display_data"
    }
   ],
   "source": [
    "ratio_insfg = df['insfg'].value_counts()/len(df['insfg'])\n",
    "ratio_insfg.plot(kind='bar')"
   ]
  },
  {
   "cell_type": "code",
   "execution_count": 46,
   "metadata": {},
   "outputs": [
    {
     "data": {
      "text/plain": [
       "(insfg\n",
       " 0    0.989413\n",
       " 1    0.010587\n",
       " dtype: float64,\n",
       " insfg  label\n",
       " 0      0        0.989376\n",
       "        1        0.999563\n",
       " 1      0        0.010624\n",
       "        1        0.000437\n",
       " dtype: float64)"
      ]
     },
     "execution_count": 46,
     "metadata": {},
     "output_type": "execute_result"
    }
   ],
   "source": [
    "insfg_size = df.groupby('insfg').size() / len(df)\n",
    "insfg_groupby = df.groupby(['insfg', 'label']).size() / df.groupby('label').size()\n",
    "insfg_size, insfg_groupby"
   ]
  },
  {
   "cell_type": "markdown",
   "metadata": {},
   "source": [
    "# iterm"
   ]
  },
  {
   "cell_type": "code",
   "execution_count": 47,
   "metadata": {},
   "outputs": [
    {
     "data": {
      "text/plain": [
       "count    8.688526e+06\n",
       "mean     6.073458e-02\n",
       "std      7.347819e-01\n",
       "min      0.000000e+00\n",
       "25%      0.000000e+00\n",
       "50%      0.000000e+00\n",
       "75%      0.000000e+00\n",
       "max      3.000000e+01\n",
       "Name: iterm, dtype: float64"
      ]
     },
     "execution_count": 47,
     "metadata": {},
     "output_type": "execute_result"
    }
   ],
   "source": [
    "df['iterm'].describe()"
   ]
  },
  {
   "cell_type": "code",
   "execution_count": 48,
   "metadata": {},
   "outputs": [
    {
     "data": {
      "text/plain": [
       "<Axes: >"
      ]
     },
     "execution_count": 48,
     "metadata": {},
     "output_type": "execute_result"
    },
    {
     "data": {
      "image/png": "[encoded data removed]",
      "text/plain": [
       "<Figure size 640x480 with 1 Axes>"
      ]
     },
     "metadata": {},
     "output_type": "display_data"
    }
   ],
   "source": [
    "df['iterm'].value_counts().plot(kind='bar')"
   ]
  },
  {
   "cell_type": "markdown",
   "metadata": {},
   "source": [
    "# bnsfg"
   ]
  },
  {
   "cell_type": "code",
   "execution_count": 49,
   "metadata": {},
   "outputs": [
    {
     "data": {
      "text/plain": [
       "count    8.688526e+06\n",
       "mean     1.272713e-03\n",
       "std      3.565240e-02\n",
       "min      0.000000e+00\n",
       "25%      0.000000e+00\n",
       "50%      0.000000e+00\n",
       "75%      0.000000e+00\n",
       "max      1.000000e+00\n",
       "Name: bnsfg, dtype: float64"
      ]
     },
     "execution_count": 49,
     "metadata": {},
     "output_type": "execute_result"
    }
   ],
   "source": [
    "df['bnsfg'].describe()"
   ]
  },
  {
   "cell_type": "code",
   "execution_count": 50,
   "metadata": {},
   "outputs": [
    {
     "name": "stdout",
     "output_type": "stream",
     "text": [
      "0    0.998727\n",
      "1    0.001273\n",
      "Name: bnsfg, dtype: float64\n"
     ]
    },
    {
     "data": {
      "text/plain": [
       "<Axes: >"
      ]
     },
     "execution_count": 50,
     "metadata": {},
     "output_type": "execute_result"
    },
    {
     "data": {
      "image/png": "[encoded data removed]",
      "text/plain": [
       "<Figure size 640x480 with 1 Axes>"
      ]
     },
     "metadata": {},
     "output_type": "display_data"
    }
   ],
   "source": [
    "ratio_bnsfg = df['bnsfg'].value_counts()/len(df)\n",
    "print(ratio_bnsfg)\n",
    "ratio_bnsfg.plot(kind='bar')"
   ]
  },
  {
   "cell_type": "code",
   "execution_count": 51,
   "metadata": {},
   "outputs": [
    {
     "data": {
      "text/plain": [
       "label  bnsfg\n",
       "0      0        0.998723\n",
       "       1        0.001277\n",
       "1      0        0.999969\n",
       "       1        0.000031\n",
       "dtype: float64"
      ]
     },
     "execution_count": 51,
     "metadata": {},
     "output_type": "execute_result"
    }
   ],
   "source": [
    "bnsfg_groupby = df.groupby(['label', 'bnsfg']).size() / df.groupby('label').size()\n",
    "bnsfg_groupby"
   ]
  },
  {
   "cell_type": "markdown",
   "metadata": {},
   "source": [
    "# flam1"
   ]
  },
  {
   "cell_type": "code",
   "execution_count": 52,
   "metadata": {},
   "outputs": [
    {
     "data": {
      "text/plain": [
       "count    8.688526e+06\n",
       "mean     1.418208e+03\n",
       "std      9.517652e+03\n",
       "min      0.000000e+00\n",
       "25%      1.050000e+02\n",
       "50%      3.150000e+02\n",
       "75%      9.020000e+02\n",
       "max      5.032773e+06\n",
       "Name: flam1, dtype: float64"
      ]
     },
     "execution_count": 52,
     "metadata": {},
     "output_type": "execute_result"
    }
   ],
   "source": [
    "df['flam1'].describe()"
   ]
  },
  {
   "cell_type": "code",
   "execution_count": 53,
   "metadata": {},
   "outputs": [
    {
     "data": {
      "text/plain": [
       "{'whiskers': [<matplotlib.lines.Line2D at 0x7febe52d4a00>,\n",
       "  <matplotlib.lines.Line2D at 0x7febe52d4ca0>,\n",
       "  <matplotlib.lines.Line2D at 0x7febe52d5c60>,\n",
       "  <matplotlib.lines.Line2D at 0x7febe52d5f00>],\n",
       " 'caps': [<matplotlib.lines.Line2D at 0x7febe52d4f40>,\n",
       "  <matplotlib.lines.Line2D at 0x7febe52d51e0>,\n",
       "  <matplotlib.lines.Line2D at 0x7febe52d61a0>,\n",
       "  <matplotlib.lines.Line2D at 0x7febe52d6440>],\n",
       " 'boxes': [<matplotlib.lines.Line2D at 0x7febe52d4760>,\n",
       "  <matplotlib.lines.Line2D at 0x7febe52d59c0>],\n",
       " 'medians': [<matplotlib.lines.Line2D at 0x7febe52d5480>,\n",
       "  <matplotlib.lines.Line2D at 0x7febe52d66e0>],\n",
       " 'fliers': [<matplotlib.lines.Line2D at 0x7febe52d5720>,\n",
       "  <matplotlib.lines.Line2D at 0x7febe52d6980>],\n",
       " 'means': []}"
      ]
     },
     "execution_count": 53,
     "metadata": {},
     "output_type": "execute_result"
    },
    {
     "data": {
      "image/png": "[encoded data removed]",
      "text/plain": [
       "<Figure size 640x480 with 1 Axes>"
      ]
     },
     "metadata": {},
     "output_type": "display_data"
    }
   ],
   "source": [
    "plt.boxplot([fraud['flam1'], not_fraud['flam1']], labels=['Fraud', 'Non-Fraud'])"
   ]
  },
  {
   "cell_type": "code",
   "execution_count": 54,
   "metadata": {},
   "outputs": [
    {
     "data": {
      "text/plain": [
       "<matplotlib.legend.Legend at 0x7febe5155570>"
      ]
     },
     "execution_count": 54,
     "metadata": {},
     "output_type": "execute_result"
    },
    {
     "data": {
      "image/png": "[encoded data removed]",
      "text/plain": [
       "<Figure size 640x480 with 1 Axes>"
      ]
     },
     "metadata": {},
     "output_type": "display_data"
    }
   ],
   "source": [
    "sns.kdeplot(fraud, x='flam1', color='blue', label='fraud')\n",
    "sns.kdeplot(not_fraud, x='flam1', color='red', label='not fraud')\n",
    "plt.xlim(0, 1e5)\n",
    "plt.legend()"
   ]
  },
  {
   "cell_type": "markdown",
   "metadata": {},
   "source": [
    "# stocn"
   ]
  },
  {
   "cell_type": "code",
   "execution_count": 55,
   "metadata": {},
   "outputs": [
    {
     "data": {
      "text/plain": [
       "count    8.687926e+06\n",
       "mean     8.324148e+00\n",
       "std      2.775047e+01\n",
       "min      0.000000e+00\n",
       "25%      0.000000e+00\n",
       "50%      0.000000e+00\n",
       "75%      0.000000e+00\n",
       "max      1.340000e+02\n",
       "Name: stocn, dtype: float64"
      ]
     },
     "execution_count": 55,
     "metadata": {},
     "output_type": "execute_result"
    }
   ],
   "source": [
    "df['stocn'].describe()"
   ]
  },
  {
   "cell_type": "code",
   "execution_count": 56,
   "metadata": {},
   "outputs": [
    {
     "data": {
      "text/plain": [
       "array([  0.,   1.,   2.,   3.,   4.,   5.,   6.,   7.,   8.,   9.,  10.,\n",
       "        11.,  12.,  13.,  14.,  15.,  17.,  18.,  19.,  20.,  21.,  22.,\n",
       "        23.,  24.,  25.,  26.,  27.,  29.,  30.,  31.,  32.,  33.,  34.,\n",
       "        35.,  36.,  37.,  39.,  40.,  41.,  42.,  43.,  45.,  46.,  47.,\n",
       "        48.,  49.,  50.,  51.,  52.,  53.,  54.,  55.,  56.,  57.,  58.,\n",
       "        60.,  61.,  62.,  63.,  65.,  66.,  67.,  68.,  69.,  72.,  73.,\n",
       "        74.,  75.,  76.,  77.,  79.,  80.,  81.,  82.,  83.,  84.,  85.,\n",
       "        86.,  87.,  88.,  90.,  91.,  92.,  93.,  94.,  95.,  96.,  97.,\n",
       "        98.,  99., 100., 101., 102., 103., 104., 105., 106., 107., 108.,\n",
       "       109., 110., 111., 112., 113., 114., 115., 116., 117., 118., 119.,\n",
       "       121., 122., 123., 124., 125., 126., 127., 128., 130., 131., 132.,\n",
       "       134.,  nan])"
      ]
     },
     "execution_count": 56,
     "metadata": {},
     "output_type": "execute_result"
    }
   ],
   "source": [
    "np.sort(df['stocn'].unique())"
   ]
  },
  {
   "cell_type": "code",
   "execution_count": 57,
   "metadata": {},
   "outputs": [
    {
     "data": {
      "text/html": [
       "<div>\n",
       "<style scoped>\n",
       "    .dataframe tbody tr th:only-of-type {\n",
       "        vertical-align: middle;\n",
       "    }\n",
       "\n",
       "    .dataframe tbody tr th {\n",
       "        vertical-align: top;\n",
       "    }\n",
       "\n",
       "    .dataframe thead th {\n",
       "        text-align: right;\n",
       "    }\n",
       "</style>\n",
       "<table border=\"1\" class=\"dataframe\">\n",
       "  <thead>\n",
       "    <tr style=\"text-align: right;\">\n",
       "      <th></th>\n",
       "      <th>stocn</th>\n",
       "      <th>label</th>\n",
       "    </tr>\n",
       "  </thead>\n",
       "  <tbody>\n",
       "    <tr>\n",
       "      <th>115</th>\n",
       "      <td>126.0</td>\n",
       "      <td>15752</td>\n",
       "    </tr>\n",
       "    <tr>\n",
       "      <th>50</th>\n",
       "      <td>54.0</td>\n",
       "      <td>4638</td>\n",
       "    </tr>\n",
       "    <tr>\n",
       "      <th>0</th>\n",
       "      <td>0.0</td>\n",
       "      <td>2515</td>\n",
       "    </tr>\n",
       "    <tr>\n",
       "      <th>39</th>\n",
       "      <td>42.0</td>\n",
       "      <td>1590</td>\n",
       "    </tr>\n",
       "    <tr>\n",
       "      <th>8</th>\n",
       "      <td>8.0</td>\n",
       "      <td>1372</td>\n",
       "    </tr>\n",
       "    <tr>\n",
       "      <th>103</th>\n",
       "      <td>113.0</td>\n",
       "      <td>1057</td>\n",
       "    </tr>\n",
       "    <tr>\n",
       "      <th>56</th>\n",
       "      <td>61.0</td>\n",
       "      <td>733</td>\n",
       "    </tr>\n",
       "    <tr>\n",
       "      <th>21</th>\n",
       "      <td>22.0</td>\n",
       "      <td>464</td>\n",
       "    </tr>\n",
       "    <tr>\n",
       "      <th>27</th>\n",
       "      <td>29.0</td>\n",
       "      <td>443</td>\n",
       "    </tr>\n",
       "    <tr>\n",
       "      <th>20</th>\n",
       "      <td>21.0</td>\n",
       "      <td>413</td>\n",
       "    </tr>\n",
       "  </tbody>\n",
       "</table>\n",
       "</div>"
      ],
      "text/plain": [
       "     stocn  label\n",
       "115  126.0  15752\n",
       "50    54.0   4638\n",
       "0      0.0   2515\n",
       "39    42.0   1590\n",
       "8      8.0   1372\n",
       "103  113.0   1057\n",
       "56    61.0    733\n",
       "21    22.0    464\n",
       "27    29.0    443\n",
       "20    21.0    413"
      ]
     },
     "execution_count": 57,
     "metadata": {},
     "output_type": "execute_result"
    }
   ],
   "source": [
    "df.groupby('stocn')['label'].sum().reset_index().sort_values(by='label', ascending=False).head(10)"
   ]
  },
  {
   "cell_type": "code",
   "execution_count": 58,
   "metadata": {},
   "outputs": [
    {
     "data": {
      "text/plain": [
       "stocn\n",
       "0.0      0.000321\n",
       "1.0      0.000000\n",
       "2.0      0.000000\n",
       "3.0      0.200000\n",
       "4.0      0.022472\n",
       "           ...   \n",
       "130.0    0.000000\n",
       "131.0    0.005673\n",
       "132.0    0.000000\n",
       "134.0    1.000000\n",
       "NaN      0.041667\n",
       "Length: 123, dtype: float64"
      ]
     },
     "execution_count": 58,
     "metadata": {},
     "output_type": "execute_result"
    }
   ],
   "source": [
    "df.groupby('stocn', dropna=False)['label'].sum()/df.groupby('stocn', dropna=False).size()"
   ]
  },
  {
   "cell_type": "markdown",
   "metadata": {},
   "source": [
    "# scity"
   ]
  },
  {
   "cell_type": "code",
   "execution_count": 59,
   "metadata": {},
   "outputs": [
    {
     "data": {
      "text/plain": [
       "count    8.422460e+06\n",
       "mean     1.430112e+04\n",
       "std      3.053059e+03\n",
       "min      0.000000e+00\n",
       "25%      1.557400e+04\n",
       "50%      1.575900e+04\n",
       "75%      1.575900e+04\n",
       "max      1.734000e+04\n",
       "Name: scity, dtype: float64"
      ]
     },
     "execution_count": 59,
     "metadata": {},
     "output_type": "execute_result"
    }
   ],
   "source": [
    "df['scity'].describe()"
   ]
  },
  {
   "cell_type": "code",
   "execution_count": 60,
   "metadata": {},
   "outputs": [
    {
     "data": {
      "text/plain": [
       "12003"
      ]
     },
     "execution_count": 60,
     "metadata": {},
     "output_type": "execute_result"
    }
   ],
   "source": [
    "df['scity'].nunique()"
   ]
  },
  {
   "cell_type": "code",
   "execution_count": 61,
   "metadata": {},
   "outputs": [
    {
     "data": {
      "text/plain": [
       "array([0.0000e+00, 1.0000e+00, 3.0000e+00, ..., 1.7337e+04, 1.7340e+04,\n",
       "              nan])"
      ]
     },
     "execution_count": 61,
     "metadata": {},
     "output_type": "execute_result"
    }
   ],
   "source": [
    "np.sort(df['scity'].unique())"
   ]
  },
  {
   "cell_type": "code",
   "execution_count": 62,
   "metadata": {},
   "outputs": [
    {
     "data": {
      "text/html": [
       "<div>\n",
       "<style scoped>\n",
       "    .dataframe tbody tr th:only-of-type {\n",
       "        vertical-align: middle;\n",
       "    }\n",
       "\n",
       "    .dataframe tbody tr th {\n",
       "        vertical-align: top;\n",
       "    }\n",
       "\n",
       "    .dataframe thead th {\n",
       "        text-align: right;\n",
       "    }\n",
       "</style>\n",
       "<table border=\"1\" class=\"dataframe\">\n",
       "  <thead>\n",
       "    <tr style=\"text-align: right;\">\n",
       "      <th></th>\n",
       "      <th>scity</th>\n",
       "      <th>label</th>\n",
       "    </tr>\n",
       "  </thead>\n",
       "  <tbody>\n",
       "    <tr>\n",
       "      <th>6964</th>\n",
       "      <td>10300.0</td>\n",
       "      <td>8959</td>\n",
       "    </tr>\n",
       "    <tr>\n",
       "      <th>7575</th>\n",
       "      <td>11170.0</td>\n",
       "      <td>2723</td>\n",
       "    </tr>\n",
       "    <tr>\n",
       "      <th>10874</th>\n",
       "      <td>15759.0</td>\n",
       "      <td>1336</td>\n",
       "    </tr>\n",
       "    <tr>\n",
       "      <th>10794</th>\n",
       "      <td>15646.0</td>\n",
       "      <td>752</td>\n",
       "    </tr>\n",
       "    <tr>\n",
       "      <th>11872</th>\n",
       "      <td>17178.0</td>\n",
       "      <td>751</td>\n",
       "    </tr>\n",
       "    <tr>\n",
       "      <th>8958</th>\n",
       "      <td>13091.0</td>\n",
       "      <td>498</td>\n",
       "    </tr>\n",
       "    <tr>\n",
       "      <th>3871</th>\n",
       "      <td>5959.0</td>\n",
       "      <td>482</td>\n",
       "    </tr>\n",
       "    <tr>\n",
       "      <th>11880</th>\n",
       "      <td>17186.0</td>\n",
       "      <td>479</td>\n",
       "    </tr>\n",
       "    <tr>\n",
       "      <th>7275</th>\n",
       "      <td>10755.0</td>\n",
       "      <td>410</td>\n",
       "    </tr>\n",
       "    <tr>\n",
       "      <th>3517</th>\n",
       "      <td>5441.0</td>\n",
       "      <td>403</td>\n",
       "    </tr>\n",
       "  </tbody>\n",
       "</table>\n",
       "</div>"
      ],
      "text/plain": [
       "         scity  label\n",
       "6964   10300.0   8959\n",
       "7575   11170.0   2723\n",
       "10874  15759.0   1336\n",
       "10794  15646.0    752\n",
       "11872  17178.0    751\n",
       "8958   13091.0    498\n",
       "3871    5959.0    482\n",
       "11880  17186.0    479\n",
       "7275   10755.0    410\n",
       "3517    5441.0    403"
      ]
     },
     "execution_count": 62,
     "metadata": {},
     "output_type": "execute_result"
    }
   ],
   "source": [
    "df.groupby('scity')['label'].sum().reset_index().sort_values(by='label', ascending=False).head(10)"
   ]
  },
  {
   "cell_type": "markdown",
   "metadata": {},
   "source": [
    "# stscd"
   ]
  },
  {
   "cell_type": "code",
   "execution_count": 63,
   "metadata": {},
   "outputs": [
    {
     "data": {
      "text/plain": [
       "count    23331.000000\n",
       "mean         0.973254\n",
       "std          0.211065\n",
       "min          0.000000\n",
       "25%          1.000000\n",
       "50%          1.000000\n",
       "75%          1.000000\n",
       "max          4.000000\n",
       "Name: stscd, dtype: float64"
      ]
     },
     "execution_count": 63,
     "metadata": {},
     "output_type": "execute_result"
    }
   ],
   "source": [
    "df['stscd'].describe()"
   ]
  },
  {
   "cell_type": "code",
   "execution_count": 64,
   "metadata": {},
   "outputs": [
    {
     "data": {
      "text/plain": [
       "5"
      ]
     },
     "execution_count": 64,
     "metadata": {},
     "output_type": "execute_result"
    }
   ],
   "source": [
    "df['stscd'].nunique()"
   ]
  },
  {
   "cell_type": "code",
   "execution_count": 65,
   "metadata": {},
   "outputs": [
    {
     "data": {
      "text/plain": [
       "NaN    8665195\n",
       "1.0      22385\n",
       "0.0        799\n",
       "2.0        132\n",
       "4.0         13\n",
       "3.0          2\n",
       "Name: stscd, dtype: int64"
      ]
     },
     "execution_count": 65,
     "metadata": {},
     "output_type": "execute_result"
    }
   ],
   "source": [
    "df['stscd'].value_counts(dropna=False)"
   ]
  },
  {
   "cell_type": "code",
   "execution_count": 66,
   "metadata": {},
   "outputs": [
    {
     "data": {
      "text/plain": [
       "label  stscd\n",
       "0      0.0      8.617805e-05\n",
       "       1.0      1.381506e-03\n",
       "       2.0      1.524866e-05\n",
       "       3.0      2.310403e-07\n",
       "       4.0      1.501762e-06\n",
       "       NaN      9.985153e-01\n",
       "1      0.0      1.654750e-03\n",
       "       1.0      3.255175e-01\n",
       "       NaN      6.728277e-01\n",
       "dtype: float64"
      ]
     },
     "execution_count": 66,
     "metadata": {},
     "output_type": "execute_result"
    }
   ],
   "source": [
    "df.groupby(['label', 'stscd'], dropna=False).size() / df.groupby(['label'], dropna=False).size()"
   ]
  },
  {
   "cell_type": "markdown",
   "metadata": {},
   "source": [
    "# ovrlt"
   ]
  },
  {
   "cell_type": "code",
   "execution_count": 67,
   "metadata": {},
   "outputs": [
    {
     "data": {
      "text/plain": [
       "count    8.688526e+06\n",
       "mean     9.741814e-03\n",
       "std      9.821869e-02\n",
       "min      0.000000e+00\n",
       "25%      0.000000e+00\n",
       "50%      0.000000e+00\n",
       "75%      0.000000e+00\n",
       "max      1.000000e+00\n",
       "Name: ovrlt, dtype: float64"
      ]
     },
     "execution_count": 67,
     "metadata": {},
     "output_type": "execute_result"
    }
   ],
   "source": [
    "df['ovrlt'].describe()"
   ]
  },
  {
   "cell_type": "code",
   "execution_count": 68,
   "metadata": {},
   "outputs": [
    {
     "data": {
      "text/plain": [
       "array([0, 1])"
      ]
     },
     "execution_count": 68,
     "metadata": {},
     "output_type": "execute_result"
    }
   ],
   "source": [
    "df['ovrlt'].unique()"
   ]
  },
  {
   "cell_type": "code",
   "execution_count": 69,
   "metadata": {},
   "outputs": [
    {
     "data": {
      "text/plain": [
       "<Axes: xlabel='ovrlt', ylabel='count'>"
      ]
     },
     "execution_count": 69,
     "metadata": {},
     "output_type": "execute_result"
    },
    {
     "data": {
      "image/png": "[encoded data removed]",
      "text/plain": [
       "<Figure size 640x480 with 1 Axes>"
      ]
     },
     "metadata": {},
     "output_type": "display_data"
    }
   ],
   "source": [
    "sns.countplot(data=df, x='ovrlt')"
   ]
  },
  {
   "cell_type": "code",
   "execution_count": 70,
   "metadata": {},
   "outputs": [
    {
     "name": "stdout",
     "output_type": "stream",
     "text": [
      "ovrlt\n",
      "0    0.990258\n",
      "1    0.009742\n",
      "dtype: float64\n",
      "label  ovrlt\n",
      "0      0        0.990354\n",
      "       1        0.009646\n",
      "1      0        0.964282\n",
      "       1        0.035718\n",
      "dtype: float64\n"
     ]
    }
   ],
   "source": [
    "print(df.groupby(['ovrlt']).size() / len(df))\n",
    "print(df.groupby(['label', 'ovrlt']).size() / df.groupby(['label']).size())"
   ]
  },
  {
   "cell_type": "markdown",
   "metadata": {},
   "source": [
    "# flbmk\n",
    "### Summary:\n",
    "* even if the flbmk is equal to 1 the fraud ratio does not increase"
   ]
  },
  {
   "cell_type": "code",
   "execution_count": 71,
   "metadata": {},
   "outputs": [
    {
     "data": {
      "text/plain": [
       "count    8.688526e+06\n",
       "mean     3.058056e-04\n",
       "std      1.748463e-02\n",
       "min      0.000000e+00\n",
       "25%      0.000000e+00\n",
       "50%      0.000000e+00\n",
       "75%      0.000000e+00\n",
       "max      1.000000e+00\n",
       "Name: flbmk, dtype: float64"
      ]
     },
     "execution_count": 71,
     "metadata": {},
     "output_type": "execute_result"
    }
   ],
   "source": [
    "df['flbmk'].describe()"
   ]
  },
  {
   "cell_type": "code",
   "execution_count": 72,
   "metadata": {},
   "outputs": [
    {
     "data": {
      "text/plain": [
       "array([0, 1])"
      ]
     },
     "execution_count": 72,
     "metadata": {},
     "output_type": "execute_result"
    }
   ],
   "source": [
    "df['flbmk'].unique()"
   ]
  },
  {
   "cell_type": "code",
   "execution_count": 73,
   "metadata": {},
   "outputs": [
    {
     "data": {
      "text/plain": [
       "<Axes: xlabel='flbmk', ylabel='count'>"
      ]
     },
     "execution_count": 73,
     "metadata": {},
     "output_type": "execute_result"
    },
    {
     "data": {
      "image/png": "[encoded data removed]",
      "text/plain": [
       "<Figure size 640x480 with 1 Axes>"
      ]
     },
     "metadata": {},
     "output_type": "display_data"
    }
   ],
   "source": [
    "sns.countplot(data=df, x='flbmk')"
   ]
  },
  {
   "cell_type": "code",
   "execution_count": 74,
   "metadata": {},
   "outputs": [
    {
     "name": "stdout",
     "output_type": "stream",
     "text": [
      "flbmk\n",
      "0    0.999694\n",
      "1    0.000306\n",
      "dtype: float64\n",
      "label  flbmk\n",
      "0      0        0.999694\n",
      "       1        0.000306\n",
      "1      0        0.999781\n",
      "       1        0.000219\n",
      "dtype: float64\n"
     ]
    }
   ],
   "source": [
    "print(df.groupby(['flbmk']).size() / len(df))\n",
    "print(df.groupby(['label', 'flbmk']).size() / df.groupby(['label']).size())"
   ]
  },
  {
   "cell_type": "markdown",
   "metadata": {},
   "source": [
    "# hcefg"
   ]
  },
  {
   "cell_type": "code",
   "execution_count": 75,
   "metadata": {},
   "outputs": [
    {
     "data": {
      "text/plain": [
       "count    8.401870e+06\n",
       "mean     5.351585e+00\n",
       "std      1.868967e+00\n",
       "min      0.000000e+00\n",
       "25%      6.000000e+00\n",
       "50%      6.000000e+00\n",
       "75%      6.000000e+00\n",
       "max      1.000000e+01\n",
       "Name: hcefg, dtype: float64"
      ]
     },
     "execution_count": 75,
     "metadata": {},
     "output_type": "execute_result"
    }
   ],
   "source": [
    "df['hcefg'].describe()"
   ]
  },
  {
   "cell_type": "code",
   "execution_count": 76,
   "metadata": {},
   "outputs": [
    {
     "data": {
      "text/plain": [
       "array([ 6.,  8.,  0., nan,  1.,  3.,  9.,  7.,  5.,  4.,  2., 10.])"
      ]
     },
     "execution_count": 76,
     "metadata": {},
     "output_type": "execute_result"
    }
   ],
   "source": [
    "df['hcefg'].unique()"
   ]
  },
  {
   "cell_type": "code",
   "execution_count": 77,
   "metadata": {},
   "outputs": [
    {
     "name": "stdout",
     "output_type": "stream",
     "text": [
      "hcefg\n",
      "0.0     8.733449e-02\n",
      "1.0     2.127530e-02\n",
      "2.0     1.830000e-05\n",
      "3.0     5.933227e-03\n",
      "4.0     5.639622e-05\n",
      "5.0     2.853188e-04\n",
      "6.0     8.427059e-01\n",
      "7.0     1.231049e-03\n",
      "8.0     4.101731e-03\n",
      "9.0     4.065131e-03\n",
      "10.0    6.905659e-07\n",
      "NaN     3.299248e-02\n",
      "dtype: float64\n",
      "label  hcefg\n",
      "0      0.0      0.087520\n",
      "       1.0      0.021353\n",
      "       2.0      0.000013\n",
      "       3.0      0.005939\n",
      "       4.0      0.000057\n",
      "       5.0      0.000286\n",
      "       6.0      0.842312\n",
      "       7.0      0.001236\n",
      "       8.0      0.004117\n",
      "       9.0      0.004073\n",
      "       NaN      0.033094\n",
      "1      0.0      0.037216\n",
      "       1.0      0.000219\n",
      "       2.0      0.001467\n",
      "       3.0      0.004277\n",
      "       6.0      0.949140\n",
      "       8.0      0.000094\n",
      "       9.0      0.001936\n",
      "       10.0     0.000187\n",
      "       NaN      0.005464\n",
      "dtype: float64\n"
     ]
    }
   ],
   "source": [
    "print(df.groupby(['hcefg'], dropna=False).size() / len(df))\n",
    "print(df.groupby(['label', 'hcefg'], dropna=False).size() / df.groupby(['label']).size())"
   ]
  },
  {
   "cell_type": "markdown",
   "metadata": {},
   "source": [
    "# csmcu"
   ]
  },
  {
   "cell_type": "code",
   "execution_count": 78,
   "metadata": {},
   "outputs": [
    {
     "data": {
      "text/plain": [
       "count    8.189869e+06\n",
       "mean     6.963586e+01\n",
       "std      4.386718e+00\n",
       "min      0.000000e+00\n",
       "25%      7.000000e+01\n",
       "50%      7.000000e+01\n",
       "75%      7.000000e+01\n",
       "max      8.500000e+01\n",
       "Name: csmcu, dtype: float64"
      ]
     },
     "execution_count": 78,
     "metadata": {},
     "output_type": "execute_result"
    }
   ],
   "source": [
    "df['csmcu'].describe()"
   ]
  },
  {
   "cell_type": "code",
   "execution_count": 79,
   "metadata": {},
   "outputs": [
    {
     "data": {
      "text/plain": [
       "79"
      ]
     },
     "execution_count": 79,
     "metadata": {},
     "output_type": "execute_result"
    }
   ],
   "source": [
    "df['csmcu'].nunique()"
   ]
  },
  {
   "cell_type": "code",
   "execution_count": 80,
   "metadata": {},
   "outputs": [
    {
     "name": "stdout",
     "output_type": "stream",
     "text": [
      "csmcu\n",
      "0.0     3.341188e-04\n",
      "1.0     4.115773e-04\n",
      "2.0     1.266038e-06\n",
      "3.0     2.532075e-06\n",
      "4.0     1.150943e-07\n",
      "            ...     \n",
      "82.0    3.913207e-05\n",
      "83.0    1.150943e-07\n",
      "84.0    1.225755e-04\n",
      "85.0    1.910566e-05\n",
      "NaN     5.739259e-02\n",
      "Length: 80, dtype: float64\n",
      "label  csmcu\n",
      "0      0.0      3.331602e-04\n",
      "       1.0      2.855659e-04\n",
      "       2.0      1.155202e-06\n",
      "       3.0      1.848323e-06\n",
      "       5.0      1.155202e-07\n",
      "                    ...     \n",
      "1      82.0     1.373755e-03\n",
      "       83.0     3.122171e-05\n",
      "       84.0     8.429860e-04\n",
      "       85.0     2.497736e-04\n",
      "       NaN      1.208280e-02\n",
      "Length: 129, dtype: float64\n"
     ]
    }
   ],
   "source": [
    "print(df.groupby(['csmcu'], dropna=False).size() / len(df))\n",
    "print(df.groupby(['label', 'csmcu'], dropna=False).size() / df.groupby(['label']).size())"
   ]
  },
  {
   "cell_type": "markdown",
   "metadata": {},
   "source": [
    "# csmam"
   ]
  },
  {
   "cell_type": "code",
   "execution_count": 81,
   "metadata": {},
   "outputs": [
    {
     "data": {
      "text/plain": [
       "count    8.688526e+06\n",
       "mean     2.806845e+03\n",
       "std      1.084921e+05\n",
       "min      0.000000e+00\n",
       "25%      9.400000e+01\n",
       "50%      2.890000e+02\n",
       "75%      9.800000e+02\n",
       "max      7.473480e+07\n",
       "Name: csmam, dtype: float64"
      ]
     },
     "execution_count": 81,
     "metadata": {},
     "output_type": "execute_result"
    }
   ],
   "source": [
    "df['csmam'].describe()"
   ]
  },
  {
   "cell_type": "code",
   "execution_count": 82,
   "metadata": {},
   "outputs": [
    {
     "data": {
      "text/plain": [
       "<matplotlib.legend.Legend at 0x7feb7b2adf90>"
      ]
     },
     "execution_count": 82,
     "metadata": {},
     "output_type": "execute_result"
    },
    {
     "data": {
      "image/png": "[encoded data removed]",
      "text/plain": [
       "<Figure size 640x480 with 1 Axes>"
      ]
     },
     "metadata": {},
     "output_type": "display_data"
    }
   ],
   "source": [
    "sns.kdeplot(fraud, x='csmam', color='blue', label='fraud')\n",
    "sns.kdeplot(not_fraud, x='csmam', color='red', label='not fraud')\n",
    "plt.xlim(0, 1e5)\n",
    "plt.legend()"
   ]
  },
  {
   "cell_type": "markdown",
   "metadata": {},
   "source": [
    "# flg_3dsmk\n",
    "### Summary ###\n",
    "* with flg_3dsmk=1 the ratio the fraud decreases"
   ]
  },
  {
   "cell_type": "code",
   "execution_count": 83,
   "metadata": {},
   "outputs": [
    {
     "data": {
      "text/plain": [
       "count    8.688526e+06\n",
       "mean     8.530687e-02\n",
       "std      2.793378e-01\n",
       "min      0.000000e+00\n",
       "25%      0.000000e+00\n",
       "50%      0.000000e+00\n",
       "75%      0.000000e+00\n",
       "max      1.000000e+00\n",
       "Name: flg_3dsmk, dtype: float64"
      ]
     },
     "execution_count": 83,
     "metadata": {},
     "output_type": "execute_result"
    }
   ],
   "source": [
    "df['flg_3dsmk'].describe()"
   ]
  },
  {
   "cell_type": "code",
   "execution_count": 84,
   "metadata": {},
   "outputs": [
    {
     "data": {
      "text/plain": [
       "2"
      ]
     },
     "execution_count": 84,
     "metadata": {},
     "output_type": "execute_result"
    }
   ],
   "source": [
    "df['flg_3dsmk'].nunique()"
   ]
  },
  {
   "cell_type": "code",
   "execution_count": 85,
   "metadata": {},
   "outputs": [
    {
     "data": {
      "text/plain": [
       "<Axes: xlabel='flg_3dsmk', ylabel='count'>"
      ]
     },
     "execution_count": 85,
     "metadata": {},
     "output_type": "execute_result"
    },
    {
     "data": {
      "image/png": "[encoded data removed]",
      "text/plain": [
       "<Figure size 640x480 with 1 Axes>"
      ]
     },
     "metadata": {},
     "output_type": "display_data"
    }
   ],
   "source": [
    "sns.countplot(data=df, x='flg_3dsmk')"
   ]
  },
  {
   "cell_type": "code",
   "execution_count": 86,
   "metadata": {},
   "outputs": [
    {
     "name": "stdout",
     "output_type": "stream",
     "text": [
      "flg_3dsmk\n",
      "0    0.914693\n",
      "1    0.085307\n",
      "dtype: float64\n",
      "label  flg_3dsmk\n",
      "0      0            0.914473\n",
      "       1            0.085527\n",
      "1      0            0.974117\n",
      "       1            0.025883\n",
      "dtype: float64\n"
     ]
    }
   ],
   "source": [
    "print(df.groupby(['flg_3dsmk']).size() / len(df))\n",
    "print(df.groupby(['label', 'flg_3dsmk']).size() / df.groupby(['label']).size())"
   ]
  },
  {
   "cell_type": "markdown",
   "metadata": {},
   "source": [
    "# Correlation"
   ]
  },
  {
   "cell_type": "code",
   "execution_count": 87,
   "metadata": {
    "editable": true,
    "slideshow": {
     "slide_type": ""
    },
    "tags": []
   },
   "outputs": [
    {
     "data": {
      "text/plain": [
       "Text(0.5, 1.0, 'Imbalanced correlation matrix')"
      ]
     },
     "execution_count": 87,
     "metadata": {},
     "output_type": "execute_result"
    },
    {
     "data": {
      "image/png": "[encoded data removed]",
      "text/plain": [
       "<Figure size 2400x2000 with 2 Axes>"
      ]
     },
     "metadata": {},
     "output_type": "display_data"
    }
   ],
   "source": [
    "plt.figure(figsize=(24, 20))\n",
    "corr = df.corr(numeric_only=True)\n",
    "sns.heatmap(corr, cmap='coolwarm_r', annot_kws={'size':20})\n",
    "plt.title('Imbalanced correlation matrix')"
   ]
  },
  {
   "cell_type": "code",
   "execution_count": 88,
   "metadata": {},
   "outputs": [
    {
     "data": {
      "text/plain": [
       "label        1.000000\n",
       "stocn        0.165601\n",
       "stscd        0.092786\n",
       "ecfg         0.036509\n",
       "flam1        0.022639\n",
       "conam        0.022632\n",
       "ovrlt        0.016087\n",
       "csmam        0.014780\n",
       "hcefg        0.013559\n",
       "etymd        0.012617\n",
       "mcc          0.011676\n",
       "contp        0.002908\n",
       "locdt        0.002079\n",
       "flbmk       -0.000304\n",
       "bnsfg       -0.002118\n",
       "iterm       -0.004625\n",
       "insfg       -0.006032\n",
       "flg_3dsmk   -0.012940\n",
       "loctm       -0.016060\n",
       "csmcu       -0.060741\n",
       "scity       -0.078197\n",
       "Name: label, dtype: float64"
      ]
     },
     "execution_count": 88,
     "metadata": {},
     "output_type": "execute_result"
    }
   ],
   "source": [
    "corr['label'].sort_values(ascending=False)"
   ]
  },
  {
   "cell_type": "code",
   "execution_count": 89,
   "metadata": {},
   "outputs": [
    {
     "data": {
      "text/html": [
       "<div>\n",
       "<style scoped>\n",
       "    .dataframe tbody tr th:only-of-type {\n",
       "        vertical-align: middle;\n",
       "    }\n",
       "\n",
       "    .dataframe tbody tr th {\n",
       "        vertical-align: top;\n",
       "    }\n",
       "\n",
       "    .dataframe thead th {\n",
       "        text-align: right;\n",
       "    }\n",
       "</style>\n",
       "<table border=\"1\" class=\"dataframe\">\n",
       "  <thead>\n",
       "    <tr style=\"text-align: right;\">\n",
       "      <th></th>\n",
       "      <th>txkey</th>\n",
       "      <th>locdt</th>\n",
       "      <th>loctm</th>\n",
       "      <th>chid</th>\n",
       "      <th>cano</th>\n",
       "      <th>contp</th>\n",
       "      <th>etymd</th>\n",
       "      <th>mchno</th>\n",
       "      <th>acqic</th>\n",
       "      <th>mcc</th>\n",
       "      <th>...</th>\n",
       "      <th>stocn</th>\n",
       "      <th>scity</th>\n",
       "      <th>stscd</th>\n",
       "      <th>ovrlt</th>\n",
       "      <th>flbmk</th>\n",
       "      <th>hcefg</th>\n",
       "      <th>csmcu</th>\n",
       "      <th>csmam</th>\n",
       "      <th>flg_3dsmk</th>\n",
       "      <th>label</th>\n",
       "    </tr>\n",
       "  </thead>\n",
       "  <tbody>\n",
       "    <tr>\n",
       "      <th>0</th>\n",
       "      <td>1c09727c939eb69ead2a4ce4072b8aa18992a64f01fcb4...</td>\n",
       "      <td>46</td>\n",
       "      <td>101812</td>\n",
       "      <td>84d2dc85d4da6a7fa284a11a4290d7e9a969163dcb4d82...</td>\n",
       "      <td>3dd5bf1e29e5e0baa789ce692fe5dbd34ff05173acf351...</td>\n",
       "      <td>5</td>\n",
       "      <td>1.0</td>\n",
       "      <td>cad752c5d05d2bdcc30d64fa4e68404c2d1f7be5d14d52...</td>\n",
       "      <td>8f6b3ff512a001e0d1988c6cd888ef8c74112fb71117e5...</td>\n",
       "      <td>375.0</td>\n",
       "      <td>...</td>\n",
       "      <td>0.0</td>\n",
       "      <td>15759.0</td>\n",
       "      <td>NaN</td>\n",
       "      <td>0</td>\n",
       "      <td>0</td>\n",
       "      <td>6.0</td>\n",
       "      <td>70.0</td>\n",
       "      <td>1529</td>\n",
       "      <td>0</td>\n",
       "      <td>0</td>\n",
       "    </tr>\n",
       "    <tr>\n",
       "      <th>1</th>\n",
       "      <td>2043f245a93bc6328dac964d6dbc89f13a0346062c194d...</td>\n",
       "      <td>17</td>\n",
       "      <td>85509</td>\n",
       "      <td>9a8cf5d0afd729cb7876f6b3172152c7c9c6fabd40515c...</td>\n",
       "      <td>8cb13f9b38c7bbc02d210e580dcbbcbb6c95bf18bc3320...</td>\n",
       "      <td>5</td>\n",
       "      <td>8.0</td>\n",
       "      <td>4356c6642ef6e837543b577c7ee3ffa92b4b8fcfb57254...</td>\n",
       "      <td>379166ff4a62dac343b4b734188aa618716cc496e48b65...</td>\n",
       "      <td>282.0</td>\n",
       "      <td>...</td>\n",
       "      <td>0.0</td>\n",
       "      <td>15759.0</td>\n",
       "      <td>NaN</td>\n",
       "      <td>0</td>\n",
       "      <td>0</td>\n",
       "      <td>8.0</td>\n",
       "      <td>70.0</td>\n",
       "      <td>101</td>\n",
       "      <td>0</td>\n",
       "      <td>0</td>\n",
       "    </tr>\n",
       "    <tr>\n",
       "      <th>2</th>\n",
       "      <td>e4853710290a8409279f3279f8032ae670824bd19aa173...</td>\n",
       "      <td>44</td>\n",
       "      <td>212641</td>\n",
       "      <td>dcc1389a5765d6f53152cf85970fbe78a83fd3d1c299b0...</td>\n",
       "      <td>1ec32868e5e1d5ff8df56737c2a91326cbfe3364382de6...</td>\n",
       "      <td>5</td>\n",
       "      <td>4.0</td>\n",
       "      <td>5b7eff061f8896aac4339ea35c25f8bb956a43bc486460...</td>\n",
       "      <td>8f6b3ff512a001e0d1988c6cd888ef8c74112fb71117e5...</td>\n",
       "      <td>288.0</td>\n",
       "      <td>...</td>\n",
       "      <td>0.0</td>\n",
       "      <td>15759.0</td>\n",
       "      <td>NaN</td>\n",
       "      <td>0</td>\n",
       "      <td>0</td>\n",
       "      <td>6.0</td>\n",
       "      <td>70.0</td>\n",
       "      <td>116</td>\n",
       "      <td>0</td>\n",
       "      <td>0</td>\n",
       "    </tr>\n",
       "    <tr>\n",
       "      <th>3</th>\n",
       "      <td>74d811b1dbc28b22b73ba2c79bb6033791d913b6d27a25...</td>\n",
       "      <td>42</td>\n",
       "      <td>102702</td>\n",
       "      <td>577f2329d1eccd59ba0abaf6113bb78dcd575badcbc57f...</td>\n",
       "      <td>4359dca1ac6a835eceb2bc0dd6b0b710f030c3499126e9...</td>\n",
       "      <td>5</td>\n",
       "      <td>1.0</td>\n",
       "      <td>cad752c5d05d2bdcc30d64fa4e68404c2d1f7be5d14d52...</td>\n",
       "      <td>36684976be1f529e6e2a32c9edab4cf8e364b2b916ae2c...</td>\n",
       "      <td>375.0</td>\n",
       "      <td>...</td>\n",
       "      <td>0.0</td>\n",
       "      <td>15759.0</td>\n",
       "      <td>NaN</td>\n",
       "      <td>0</td>\n",
       "      <td>0</td>\n",
       "      <td>6.0</td>\n",
       "      <td>70.0</td>\n",
       "      <td>1683</td>\n",
       "      <td>0</td>\n",
       "      <td>0</td>\n",
       "    </tr>\n",
       "    <tr>\n",
       "      <th>4</th>\n",
       "      <td>68ca182343969d429d79a34e532bc1ca7a3cc032c2ad81...</td>\n",
       "      <td>31</td>\n",
       "      <td>185737</td>\n",
       "      <td>fff6b4126c40620b1fbb11d4de02cd67b9e95071caa40b...</td>\n",
       "      <td>a3837f2905383f235a72679482c5f02e40f2a8ca29750d...</td>\n",
       "      <td>5</td>\n",
       "      <td>5.0</td>\n",
       "      <td>50d5b02ce3fc88723438c2a29cfdb04be4a1a11280ddb6...</td>\n",
       "      <td>379166ff4a62dac343b4b734188aa618716cc496e48b65...</td>\n",
       "      <td>406.0</td>\n",
       "      <td>...</td>\n",
       "      <td>0.0</td>\n",
       "      <td>15759.0</td>\n",
       "      <td>NaN</td>\n",
       "      <td>0</td>\n",
       "      <td>0</td>\n",
       "      <td>6.0</td>\n",
       "      <td>70.0</td>\n",
       "      <td>14</td>\n",
       "      <td>0</td>\n",
       "      <td>0</td>\n",
       "    </tr>\n",
       "    <tr>\n",
       "      <th>...</th>\n",
       "      <td>...</td>\n",
       "      <td>...</td>\n",
       "      <td>...</td>\n",
       "      <td>...</td>\n",
       "      <td>...</td>\n",
       "      <td>...</td>\n",
       "      <td>...</td>\n",
       "      <td>...</td>\n",
       "      <td>...</td>\n",
       "      <td>...</td>\n",
       "      <td>...</td>\n",
       "      <td>...</td>\n",
       "      <td>...</td>\n",
       "      <td>...</td>\n",
       "      <td>...</td>\n",
       "      <td>...</td>\n",
       "      <td>...</td>\n",
       "      <td>...</td>\n",
       "      <td>...</td>\n",
       "      <td>...</td>\n",
       "      <td>...</td>\n",
       "    </tr>\n",
       "    <tr>\n",
       "      <th>8688521</th>\n",
       "      <td>fe5788aae7affa13a3946608670d7cdb9b4cde44f8f2cf...</td>\n",
       "      <td>14</td>\n",
       "      <td>84737</td>\n",
       "      <td>a894ea5eaf2c114231806da124f9d422b2c74653f071ec...</td>\n",
       "      <td>4616fbb5e28fbf86012461fc98652f51af00d2226aa634...</td>\n",
       "      <td>5</td>\n",
       "      <td>4.0</td>\n",
       "      <td>3c31ae50e4d36fe64a518a2c8109d14dd8d6b3a08edc92...</td>\n",
       "      <td>5f9c23caf7da7e1cf1e53ff9eab71dde3cfd72819e5210...</td>\n",
       "      <td>282.0</td>\n",
       "      <td>...</td>\n",
       "      <td>0.0</td>\n",
       "      <td>15759.0</td>\n",
       "      <td>NaN</td>\n",
       "      <td>0</td>\n",
       "      <td>0</td>\n",
       "      <td>0.0</td>\n",
       "      <td>70.0</td>\n",
       "      <td>49</td>\n",
       "      <td>0</td>\n",
       "      <td>0</td>\n",
       "    </tr>\n",
       "    <tr>\n",
       "      <th>8688522</th>\n",
       "      <td>8a2b5b7ba4443c311f06be147e42e7493735ae203c48ba...</td>\n",
       "      <td>23</td>\n",
       "      <td>105923</td>\n",
       "      <td>e3ee9fcf2bbabdfb2a4e6a7dfca046f1597888a8ebc3d2...</td>\n",
       "      <td>29e5be6d2bc0f3e539f13675c3faada5f07afb6f6df40a...</td>\n",
       "      <td>5</td>\n",
       "      <td>4.0</td>\n",
       "      <td>f56737b0e28217d7958e7ef135df60a5a02451c61596ef...</td>\n",
       "      <td>8f6b3ff512a001e0d1988c6cd888ef8c74112fb71117e5...</td>\n",
       "      <td>276.0</td>\n",
       "      <td>...</td>\n",
       "      <td>0.0</td>\n",
       "      <td>15759.0</td>\n",
       "      <td>NaN</td>\n",
       "      <td>0</td>\n",
       "      <td>0</td>\n",
       "      <td>6.0</td>\n",
       "      <td>70.0</td>\n",
       "      <td>4018</td>\n",
       "      <td>0</td>\n",
       "      <td>0</td>\n",
       "    </tr>\n",
       "    <tr>\n",
       "      <th>8688523</th>\n",
       "      <td>15a9ef847ce3702a176abfaceedf9a22a328e27a0c99a9...</td>\n",
       "      <td>23</td>\n",
       "      <td>141030</td>\n",
       "      <td>85a538fe0cb00a82ebdb948f1a8b45bfea5005dfcf7dcb...</td>\n",
       "      <td>2990660b8172986c57c793f16bb565ae29cd7572b50f05...</td>\n",
       "      <td>5</td>\n",
       "      <td>4.0</td>\n",
       "      <td>5f5906af767850a3d99fee5fc7ec9025467c4f9d9c8070...</td>\n",
       "      <td>2fea345d14a69774026f3de93f5e3313219363d54e07b1...</td>\n",
       "      <td>272.0</td>\n",
       "      <td>...</td>\n",
       "      <td>0.0</td>\n",
       "      <td>11380.0</td>\n",
       "      <td>NaN</td>\n",
       "      <td>0</td>\n",
       "      <td>0</td>\n",
       "      <td>6.0</td>\n",
       "      <td>70.0</td>\n",
       "      <td>314</td>\n",
       "      <td>0</td>\n",
       "      <td>0</td>\n",
       "    </tr>\n",
       "    <tr>\n",
       "      <th>8688524</th>\n",
       "      <td>2ed4454b4fcce6b9f98c3c22a1df941f03beb14bce94ea...</td>\n",
       "      <td>10</td>\n",
       "      <td>120209</td>\n",
       "      <td>1dd744fc7ca8249f3eb54514530bd9c242d338421ef819...</td>\n",
       "      <td>fca665553fe576b40984abe18261056736b923c3310f1d...</td>\n",
       "      <td>5</td>\n",
       "      <td>5.0</td>\n",
       "      <td>c795cb82dae8d6605d4856d4f2fa58cf1b0e158457fab8...</td>\n",
       "      <td>379166ff4a62dac343b4b734188aa618716cc496e48b65...</td>\n",
       "      <td>272.0</td>\n",
       "      <td>...</td>\n",
       "      <td>0.0</td>\n",
       "      <td>15759.0</td>\n",
       "      <td>NaN</td>\n",
       "      <td>0</td>\n",
       "      <td>0</td>\n",
       "      <td>6.0</td>\n",
       "      <td>70.0</td>\n",
       "      <td>225</td>\n",
       "      <td>0</td>\n",
       "      <td>0</td>\n",
       "    </tr>\n",
       "    <tr>\n",
       "      <th>8688525</th>\n",
       "      <td>eb17de9aad63d3baa82eb2c59c3760287a53d7c9a57588...</td>\n",
       "      <td>4</td>\n",
       "      <td>15317</td>\n",
       "      <td>b03f85ac9d0571375e245a609c062100e9caa5a5619d9f...</td>\n",
       "      <td>062a52ca16c65c39f3f4f42d6f006f14cd2f6530379f2a...</td>\n",
       "      <td>5</td>\n",
       "      <td>8.0</td>\n",
       "      <td>bbc76c23062521522aa53f2e9b710a92ed4a694019003f...</td>\n",
       "      <td>5d2fbec5d1f0d08c596cbfb0a295c4832a7eb859f295b8...</td>\n",
       "      <td>309.0</td>\n",
       "      <td>...</td>\n",
       "      <td>0.0</td>\n",
       "      <td>15759.0</td>\n",
       "      <td>NaN</td>\n",
       "      <td>0</td>\n",
       "      <td>0</td>\n",
       "      <td>6.0</td>\n",
       "      <td>70.0</td>\n",
       "      <td>166</td>\n",
       "      <td>0</td>\n",
       "      <td>0</td>\n",
       "    </tr>\n",
       "  </tbody>\n",
       "</table>\n",
       "<p>8687926 rows × 26 columns</p>\n",
       "</div>"
      ],
      "text/plain": [
       "                                                     txkey  locdt   loctm  \\\n",
       "0        1c09727c939eb69ead2a4ce4072b8aa18992a64f01fcb4...     46  101812   \n",
       "1        2043f245a93bc6328dac964d6dbc89f13a0346062c194d...     17   85509   \n",
       "2        e4853710290a8409279f3279f8032ae670824bd19aa173...     44  212641   \n",
       "3        74d811b1dbc28b22b73ba2c79bb6033791d913b6d27a25...     42  102702   \n",
       "4        68ca182343969d429d79a34e532bc1ca7a3cc032c2ad81...     31  185737   \n",
       "...                                                    ...    ...     ...   \n",
       "8688521  fe5788aae7affa13a3946608670d7cdb9b4cde44f8f2cf...     14   84737   \n",
       "8688522  8a2b5b7ba4443c311f06be147e42e7493735ae203c48ba...     23  105923   \n",
       "8688523  15a9ef847ce3702a176abfaceedf9a22a328e27a0c99a9...     23  141030   \n",
       "8688524  2ed4454b4fcce6b9f98c3c22a1df941f03beb14bce94ea...     10  120209   \n",
       "8688525  eb17de9aad63d3baa82eb2c59c3760287a53d7c9a57588...      4   15317   \n",
       "\n",
       "                                                      chid  \\\n",
       "0        84d2dc85d4da6a7fa284a11a4290d7e9a969163dcb4d82...   \n",
       "1        9a8cf5d0afd729cb7876f6b3172152c7c9c6fabd40515c...   \n",
       "2        dcc1389a5765d6f53152cf85970fbe78a83fd3d1c299b0...   \n",
       "3        577f2329d1eccd59ba0abaf6113bb78dcd575badcbc57f...   \n",
       "4        fff6b4126c40620b1fbb11d4de02cd67b9e95071caa40b...   \n",
       "...                                                    ...   \n",
       "8688521  a894ea5eaf2c114231806da124f9d422b2c74653f071ec...   \n",
       "8688522  e3ee9fcf2bbabdfb2a4e6a7dfca046f1597888a8ebc3d2...   \n",
       "8688523  85a538fe0cb00a82ebdb948f1a8b45bfea5005dfcf7dcb...   \n",
       "8688524  1dd744fc7ca8249f3eb54514530bd9c242d338421ef819...   \n",
       "8688525  b03f85ac9d0571375e245a609c062100e9caa5a5619d9f...   \n",
       "\n",
       "                                                      cano  contp  etymd  \\\n",
       "0        3dd5bf1e29e5e0baa789ce692fe5dbd34ff05173acf351...      5    1.0   \n",
       "1        8cb13f9b38c7bbc02d210e580dcbbcbb6c95bf18bc3320...      5    8.0   \n",
       "2        1ec32868e5e1d5ff8df56737c2a91326cbfe3364382de6...      5    4.0   \n",
       "3        4359dca1ac6a835eceb2bc0dd6b0b710f030c3499126e9...      5    1.0   \n",
       "4        a3837f2905383f235a72679482c5f02e40f2a8ca29750d...      5    5.0   \n",
       "...                                                    ...    ...    ...   \n",
       "8688521  4616fbb5e28fbf86012461fc98652f51af00d2226aa634...      5    4.0   \n",
       "8688522  29e5be6d2bc0f3e539f13675c3faada5f07afb6f6df40a...      5    4.0   \n",
       "8688523  2990660b8172986c57c793f16bb565ae29cd7572b50f05...      5    4.0   \n",
       "8688524  fca665553fe576b40984abe18261056736b923c3310f1d...      5    5.0   \n",
       "8688525  062a52ca16c65c39f3f4f42d6f006f14cd2f6530379f2a...      5    8.0   \n",
       "\n",
       "                                                     mchno  \\\n",
       "0        cad752c5d05d2bdcc30d64fa4e68404c2d1f7be5d14d52...   \n",
       "1        4356c6642ef6e837543b577c7ee3ffa92b4b8fcfb57254...   \n",
       "2        5b7eff061f8896aac4339ea35c25f8bb956a43bc486460...   \n",
       "3        cad752c5d05d2bdcc30d64fa4e68404c2d1f7be5d14d52...   \n",
       "4        50d5b02ce3fc88723438c2a29cfdb04be4a1a11280ddb6...   \n",
       "...                                                    ...   \n",
       "8688521  3c31ae50e4d36fe64a518a2c8109d14dd8d6b3a08edc92...   \n",
       "8688522  f56737b0e28217d7958e7ef135df60a5a02451c61596ef...   \n",
       "8688523  5f5906af767850a3d99fee5fc7ec9025467c4f9d9c8070...   \n",
       "8688524  c795cb82dae8d6605d4856d4f2fa58cf1b0e158457fab8...   \n",
       "8688525  bbc76c23062521522aa53f2e9b710a92ed4a694019003f...   \n",
       "\n",
       "                                                     acqic    mcc  ...  stocn  \\\n",
       "0        8f6b3ff512a001e0d1988c6cd888ef8c74112fb71117e5...  375.0  ...    0.0   \n",
       "1        379166ff4a62dac343b4b734188aa618716cc496e48b65...  282.0  ...    0.0   \n",
       "2        8f6b3ff512a001e0d1988c6cd888ef8c74112fb71117e5...  288.0  ...    0.0   \n",
       "3        36684976be1f529e6e2a32c9edab4cf8e364b2b916ae2c...  375.0  ...    0.0   \n",
       "4        379166ff4a62dac343b4b734188aa618716cc496e48b65...  406.0  ...    0.0   \n",
       "...                                                    ...    ...  ...    ...   \n",
       "8688521  5f9c23caf7da7e1cf1e53ff9eab71dde3cfd72819e5210...  282.0  ...    0.0   \n",
       "8688522  8f6b3ff512a001e0d1988c6cd888ef8c74112fb71117e5...  276.0  ...    0.0   \n",
       "8688523  2fea345d14a69774026f3de93f5e3313219363d54e07b1...  272.0  ...    0.0   \n",
       "8688524  379166ff4a62dac343b4b734188aa618716cc496e48b65...  272.0  ...    0.0   \n",
       "8688525  5d2fbec5d1f0d08c596cbfb0a295c4832a7eb859f295b8...  309.0  ...    0.0   \n",
       "\n",
       "           scity  stscd  ovrlt  flbmk  hcefg  csmcu  csmam  flg_3dsmk  label  \n",
       "0        15759.0    NaN      0      0    6.0   70.0   1529          0      0  \n",
       "1        15759.0    NaN      0      0    8.0   70.0    101          0      0  \n",
       "2        15759.0    NaN      0      0    6.0   70.0    116          0      0  \n",
       "3        15759.0    NaN      0      0    6.0   70.0   1683          0      0  \n",
       "4        15759.0    NaN      0      0    6.0   70.0     14          0      0  \n",
       "...          ...    ...    ...    ...    ...    ...    ...        ...    ...  \n",
       "8688521  15759.0    NaN      0      0    0.0   70.0     49          0      0  \n",
       "8688522  15759.0    NaN      0      0    6.0   70.0   4018          0      0  \n",
       "8688523  11380.0    NaN      0      0    6.0   70.0    314          0      0  \n",
       "8688524  15759.0    NaN      0      0    6.0   70.0    225          0      0  \n",
       "8688525  15759.0    NaN      0      0    6.0   70.0    166          0      0  \n",
       "\n",
       "[8687926 rows x 26 columns]"
      ]
     },
     "execution_count": 89,
     "metadata": {},
     "output_type": "execute_result"
    }
   ],
   "source": [
    "a = 'stocn'\n",
    "df[df[a].notnull()]\n"
   ]
  },
  {
   "cell_type": "code",
   "execution_count": 90,
   "metadata": {},
   "outputs": [
    {
     "data": {
      "text/html": [
       "<div>\n",
       "<style scoped>\n",
       "    .dataframe tbody tr th:only-of-type {\n",
       "        vertical-align: middle;\n",
       "    }\n",
       "\n",
       "    .dataframe tbody tr th {\n",
       "        vertical-align: top;\n",
       "    }\n",
       "\n",
       "    .dataframe thead th {\n",
       "        text-align: right;\n",
       "    }\n",
       "</style>\n",
       "<table border=\"1\" class=\"dataframe\">\n",
       "  <thead>\n",
       "    <tr style=\"text-align: right;\">\n",
       "      <th></th>\n",
       "      <th>txkey</th>\n",
       "      <th>locdt</th>\n",
       "      <th>loctm</th>\n",
       "      <th>chid</th>\n",
       "      <th>cano</th>\n",
       "      <th>contp</th>\n",
       "      <th>etymd</th>\n",
       "      <th>mchno</th>\n",
       "      <th>acqic</th>\n",
       "      <th>mcc</th>\n",
       "      <th>...</th>\n",
       "      <th>stocn</th>\n",
       "      <th>scity</th>\n",
       "      <th>stscd</th>\n",
       "      <th>ovrlt</th>\n",
       "      <th>flbmk</th>\n",
       "      <th>hcefg</th>\n",
       "      <th>csmcu</th>\n",
       "      <th>csmam</th>\n",
       "      <th>flg_3dsmk</th>\n",
       "      <th>label</th>\n",
       "    </tr>\n",
       "  </thead>\n",
       "  <tbody>\n",
       "    <tr>\n",
       "      <th>0</th>\n",
       "      <td>1c09727c939eb69ead2a4ce4072b8aa18992a64f01fcb4...</td>\n",
       "      <td>NaN</td>\n",
       "      <td>NaN</td>\n",
       "      <td>NaN</td>\n",
       "      <td>NaN</td>\n",
       "      <td>NaN</td>\n",
       "      <td>NaN</td>\n",
       "      <td>NaN</td>\n",
       "      <td>NaN</td>\n",
       "      <td>NaN</td>\n",
       "      <td>...</td>\n",
       "      <td>0.0</td>\n",
       "      <td>NaN</td>\n",
       "      <td>NaN</td>\n",
       "      <td>NaN</td>\n",
       "      <td>NaN</td>\n",
       "      <td>NaN</td>\n",
       "      <td>NaN</td>\n",
       "      <td>NaN</td>\n",
       "      <td>NaN</td>\n",
       "      <td>NaN</td>\n",
       "    </tr>\n",
       "    <tr>\n",
       "      <th>1</th>\n",
       "      <td>2043f245a93bc6328dac964d6dbc89f13a0346062c194d...</td>\n",
       "      <td>NaN</td>\n",
       "      <td>NaN</td>\n",
       "      <td>NaN</td>\n",
       "      <td>NaN</td>\n",
       "      <td>NaN</td>\n",
       "      <td>NaN</td>\n",
       "      <td>NaN</td>\n",
       "      <td>NaN</td>\n",
       "      <td>NaN</td>\n",
       "      <td>...</td>\n",
       "      <td>0.0</td>\n",
       "      <td>NaN</td>\n",
       "      <td>NaN</td>\n",
       "      <td>NaN</td>\n",
       "      <td>NaN</td>\n",
       "      <td>NaN</td>\n",
       "      <td>NaN</td>\n",
       "      <td>NaN</td>\n",
       "      <td>NaN</td>\n",
       "      <td>NaN</td>\n",
       "    </tr>\n",
       "    <tr>\n",
       "      <th>2</th>\n",
       "      <td>e4853710290a8409279f3279f8032ae670824bd19aa173...</td>\n",
       "      <td>NaN</td>\n",
       "      <td>NaN</td>\n",
       "      <td>NaN</td>\n",
       "      <td>NaN</td>\n",
       "      <td>NaN</td>\n",
       "      <td>NaN</td>\n",
       "      <td>NaN</td>\n",
       "      <td>NaN</td>\n",
       "      <td>NaN</td>\n",
       "      <td>...</td>\n",
       "      <td>0.0</td>\n",
       "      <td>NaN</td>\n",
       "      <td>NaN</td>\n",
       "      <td>NaN</td>\n",
       "      <td>NaN</td>\n",
       "      <td>NaN</td>\n",
       "      <td>NaN</td>\n",
       "      <td>NaN</td>\n",
       "      <td>NaN</td>\n",
       "      <td>NaN</td>\n",
       "    </tr>\n",
       "    <tr>\n",
       "      <th>3</th>\n",
       "      <td>74d811b1dbc28b22b73ba2c79bb6033791d913b6d27a25...</td>\n",
       "      <td>NaN</td>\n",
       "      <td>NaN</td>\n",
       "      <td>NaN</td>\n",
       "      <td>NaN</td>\n",
       "      <td>NaN</td>\n",
       "      <td>NaN</td>\n",
       "      <td>NaN</td>\n",
       "      <td>NaN</td>\n",
       "      <td>NaN</td>\n",
       "      <td>...</td>\n",
       "      <td>0.0</td>\n",
       "      <td>NaN</td>\n",
       "      <td>NaN</td>\n",
       "      <td>NaN</td>\n",
       "      <td>NaN</td>\n",
       "      <td>NaN</td>\n",
       "      <td>NaN</td>\n",
       "      <td>NaN</td>\n",
       "      <td>NaN</td>\n",
       "      <td>NaN</td>\n",
       "    </tr>\n",
       "    <tr>\n",
       "      <th>4</th>\n",
       "      <td>68ca182343969d429d79a34e532bc1ca7a3cc032c2ad81...</td>\n",
       "      <td>NaN</td>\n",
       "      <td>NaN</td>\n",
       "      <td>NaN</td>\n",
       "      <td>NaN</td>\n",
       "      <td>NaN</td>\n",
       "      <td>NaN</td>\n",
       "      <td>NaN</td>\n",
       "      <td>NaN</td>\n",
       "      <td>NaN</td>\n",
       "      <td>...</td>\n",
       "      <td>0.0</td>\n",
       "      <td>NaN</td>\n",
       "      <td>NaN</td>\n",
       "      <td>NaN</td>\n",
       "      <td>NaN</td>\n",
       "      <td>NaN</td>\n",
       "      <td>NaN</td>\n",
       "      <td>NaN</td>\n",
       "      <td>NaN</td>\n",
       "      <td>NaN</td>\n",
       "    </tr>\n",
       "    <tr>\n",
       "      <th>...</th>\n",
       "      <td>...</td>\n",
       "      <td>...</td>\n",
       "      <td>...</td>\n",
       "      <td>...</td>\n",
       "      <td>...</td>\n",
       "      <td>...</td>\n",
       "      <td>...</td>\n",
       "      <td>...</td>\n",
       "      <td>...</td>\n",
       "      <td>...</td>\n",
       "      <td>...</td>\n",
       "      <td>...</td>\n",
       "      <td>...</td>\n",
       "      <td>...</td>\n",
       "      <td>...</td>\n",
       "      <td>...</td>\n",
       "      <td>...</td>\n",
       "      <td>...</td>\n",
       "      <td>...</td>\n",
       "      <td>...</td>\n",
       "      <td>...</td>\n",
       "    </tr>\n",
       "    <tr>\n",
       "      <th>8688521</th>\n",
       "      <td>fe5788aae7affa13a3946608670d7cdb9b4cde44f8f2cf...</td>\n",
       "      <td>NaN</td>\n",
       "      <td>NaN</td>\n",
       "      <td>NaN</td>\n",
       "      <td>NaN</td>\n",
       "      <td>NaN</td>\n",
       "      <td>NaN</td>\n",
       "      <td>NaN</td>\n",
       "      <td>NaN</td>\n",
       "      <td>NaN</td>\n",
       "      <td>...</td>\n",
       "      <td>0.0</td>\n",
       "      <td>NaN</td>\n",
       "      <td>NaN</td>\n",
       "      <td>NaN</td>\n",
       "      <td>NaN</td>\n",
       "      <td>NaN</td>\n",
       "      <td>NaN</td>\n",
       "      <td>NaN</td>\n",
       "      <td>NaN</td>\n",
       "      <td>NaN</td>\n",
       "    </tr>\n",
       "    <tr>\n",
       "      <th>8688522</th>\n",
       "      <td>8a2b5b7ba4443c311f06be147e42e7493735ae203c48ba...</td>\n",
       "      <td>NaN</td>\n",
       "      <td>NaN</td>\n",
       "      <td>NaN</td>\n",
       "      <td>NaN</td>\n",
       "      <td>NaN</td>\n",
       "      <td>NaN</td>\n",
       "      <td>NaN</td>\n",
       "      <td>NaN</td>\n",
       "      <td>NaN</td>\n",
       "      <td>...</td>\n",
       "      <td>0.0</td>\n",
       "      <td>NaN</td>\n",
       "      <td>NaN</td>\n",
       "      <td>NaN</td>\n",
       "      <td>NaN</td>\n",
       "      <td>NaN</td>\n",
       "      <td>NaN</td>\n",
       "      <td>NaN</td>\n",
       "      <td>NaN</td>\n",
       "      <td>NaN</td>\n",
       "    </tr>\n",
       "    <tr>\n",
       "      <th>8688523</th>\n",
       "      <td>15a9ef847ce3702a176abfaceedf9a22a328e27a0c99a9...</td>\n",
       "      <td>NaN</td>\n",
       "      <td>NaN</td>\n",
       "      <td>NaN</td>\n",
       "      <td>NaN</td>\n",
       "      <td>NaN</td>\n",
       "      <td>NaN</td>\n",
       "      <td>NaN</td>\n",
       "      <td>NaN</td>\n",
       "      <td>NaN</td>\n",
       "      <td>...</td>\n",
       "      <td>0.0</td>\n",
       "      <td>NaN</td>\n",
       "      <td>NaN</td>\n",
       "      <td>NaN</td>\n",
       "      <td>NaN</td>\n",
       "      <td>NaN</td>\n",
       "      <td>NaN</td>\n",
       "      <td>NaN</td>\n",
       "      <td>NaN</td>\n",
       "      <td>NaN</td>\n",
       "    </tr>\n",
       "    <tr>\n",
       "      <th>8688524</th>\n",
       "      <td>2ed4454b4fcce6b9f98c3c22a1df941f03beb14bce94ea...</td>\n",
       "      <td>NaN</td>\n",
       "      <td>NaN</td>\n",
       "      <td>NaN</td>\n",
       "      <td>NaN</td>\n",
       "      <td>NaN</td>\n",
       "      <td>NaN</td>\n",
       "      <td>NaN</td>\n",
       "      <td>NaN</td>\n",
       "      <td>NaN</td>\n",
       "      <td>...</td>\n",
       "      <td>0.0</td>\n",
       "      <td>NaN</td>\n",
       "      <td>NaN</td>\n",
       "      <td>NaN</td>\n",
       "      <td>NaN</td>\n",
       "      <td>NaN</td>\n",
       "      <td>NaN</td>\n",
       "      <td>NaN</td>\n",
       "      <td>NaN</td>\n",
       "      <td>NaN</td>\n",
       "    </tr>\n",
       "    <tr>\n",
       "      <th>8688525</th>\n",
       "      <td>eb17de9aad63d3baa82eb2c59c3760287a53d7c9a57588...</td>\n",
       "      <td>NaN</td>\n",
       "      <td>NaN</td>\n",
       "      <td>NaN</td>\n",
       "      <td>NaN</td>\n",
       "      <td>NaN</td>\n",
       "      <td>NaN</td>\n",
       "      <td>NaN</td>\n",
       "      <td>NaN</td>\n",
       "      <td>NaN</td>\n",
       "      <td>...</td>\n",
       "      <td>0.0</td>\n",
       "      <td>NaN</td>\n",
       "      <td>NaN</td>\n",
       "      <td>NaN</td>\n",
       "      <td>NaN</td>\n",
       "      <td>NaN</td>\n",
       "      <td>NaN</td>\n",
       "      <td>NaN</td>\n",
       "      <td>NaN</td>\n",
       "      <td>NaN</td>\n",
       "    </tr>\n",
       "  </tbody>\n",
       "</table>\n",
       "<p>8688526 rows × 26 columns</p>\n",
       "</div>"
      ],
      "text/plain": [
       "                                                     txkey  locdt  loctm chid  \\\n",
       "0        1c09727c939eb69ead2a4ce4072b8aa18992a64f01fcb4...    NaN    NaN  NaN   \n",
       "1        2043f245a93bc6328dac964d6dbc89f13a0346062c194d...    NaN    NaN  NaN   \n",
       "2        e4853710290a8409279f3279f8032ae670824bd19aa173...    NaN    NaN  NaN   \n",
       "3        74d811b1dbc28b22b73ba2c79bb6033791d913b6d27a25...    NaN    NaN  NaN   \n",
       "4        68ca182343969d429d79a34e532bc1ca7a3cc032c2ad81...    NaN    NaN  NaN   \n",
       "...                                                    ...    ...    ...  ...   \n",
       "8688521  fe5788aae7affa13a3946608670d7cdb9b4cde44f8f2cf...    NaN    NaN  NaN   \n",
       "8688522  8a2b5b7ba4443c311f06be147e42e7493735ae203c48ba...    NaN    NaN  NaN   \n",
       "8688523  15a9ef847ce3702a176abfaceedf9a22a328e27a0c99a9...    NaN    NaN  NaN   \n",
       "8688524  2ed4454b4fcce6b9f98c3c22a1df941f03beb14bce94ea...    NaN    NaN  NaN   \n",
       "8688525  eb17de9aad63d3baa82eb2c59c3760287a53d7c9a57588...    NaN    NaN  NaN   \n",
       "\n",
       "        cano  contp  etymd mchno acqic  mcc  ...  stocn  scity  stscd  ovrlt  \\\n",
       "0        NaN    NaN    NaN   NaN   NaN  NaN  ...    0.0    NaN    NaN    NaN   \n",
       "1        NaN    NaN    NaN   NaN   NaN  NaN  ...    0.0    NaN    NaN    NaN   \n",
       "2        NaN    NaN    NaN   NaN   NaN  NaN  ...    0.0    NaN    NaN    NaN   \n",
       "3        NaN    NaN    NaN   NaN   NaN  NaN  ...    0.0    NaN    NaN    NaN   \n",
       "4        NaN    NaN    NaN   NaN   NaN  NaN  ...    0.0    NaN    NaN    NaN   \n",
       "...      ...    ...    ...   ...   ...  ...  ...    ...    ...    ...    ...   \n",
       "8688521  NaN    NaN    NaN   NaN   NaN  NaN  ...    0.0    NaN    NaN    NaN   \n",
       "8688522  NaN    NaN    NaN   NaN   NaN  NaN  ...    0.0    NaN    NaN    NaN   \n",
       "8688523  NaN    NaN    NaN   NaN   NaN  NaN  ...    0.0    NaN    NaN    NaN   \n",
       "8688524  NaN    NaN    NaN   NaN   NaN  NaN  ...    0.0    NaN    NaN    NaN   \n",
       "8688525  NaN    NaN    NaN   NaN   NaN  NaN  ...    0.0    NaN    NaN    NaN   \n",
       "\n",
       "         flbmk  hcefg  csmcu  csmam  flg_3dsmk  label  \n",
       "0          NaN    NaN    NaN    NaN        NaN    NaN  \n",
       "1          NaN    NaN    NaN    NaN        NaN    NaN  \n",
       "2          NaN    NaN    NaN    NaN        NaN    NaN  \n",
       "3          NaN    NaN    NaN    NaN        NaN    NaN  \n",
       "4          NaN    NaN    NaN    NaN        NaN    NaN  \n",
       "...        ...    ...    ...    ...        ...    ...  \n",
       "8688521    NaN    NaN    NaN    NaN        NaN    NaN  \n",
       "8688522    NaN    NaN    NaN    NaN        NaN    NaN  \n",
       "8688523    NaN    NaN    NaN    NaN        NaN    NaN  \n",
       "8688524    NaN    NaN    NaN    NaN        NaN    NaN  \n",
       "8688525    NaN    NaN    NaN    NaN        NaN    NaN  \n",
       "\n",
       "[8688526 rows x 26 columns]"
      ]
     },
     "execution_count": 90,
     "metadata": {},
     "output_type": "execute_result"
    }
   ],
   "source": [
    "a = ['stocn', 'txkey']\n",
    "df[df[['stocn', 'txkey']].notnull()]"
   ]
  },
  {
   "cell_type": "code",
   "execution_count": 91,
   "metadata": {},
   "outputs": [
    {
     "data": {
      "text/html": [
       "<div>\n",
       "<style scoped>\n",
       "    .dataframe tbody tr th:only-of-type {\n",
       "        vertical-align: middle;\n",
       "    }\n",
       "\n",
       "    .dataframe tbody tr th {\n",
       "        vertical-align: top;\n",
       "    }\n",
       "\n",
       "    .dataframe thead th {\n",
       "        text-align: right;\n",
       "    }\n",
       "</style>\n",
       "<table border=\"1\" class=\"dataframe\">\n",
       "  <thead>\n",
       "    <tr style=\"text-align: right;\">\n",
       "      <th></th>\n",
       "      <th>txkey</th>\n",
       "      <th>locdt</th>\n",
       "      <th>loctm</th>\n",
       "      <th>chid</th>\n",
       "      <th>cano</th>\n",
       "      <th>contp</th>\n",
       "      <th>etymd</th>\n",
       "      <th>mchno</th>\n",
       "      <th>acqic</th>\n",
       "      <th>mcc</th>\n",
       "      <th>...</th>\n",
       "      <th>stocn</th>\n",
       "      <th>scity</th>\n",
       "      <th>stscd</th>\n",
       "      <th>ovrlt</th>\n",
       "      <th>flbmk</th>\n",
       "      <th>hcefg</th>\n",
       "      <th>csmcu</th>\n",
       "      <th>csmam</th>\n",
       "      <th>flg_3dsmk</th>\n",
       "      <th>label</th>\n",
       "    </tr>\n",
       "  </thead>\n",
       "  <tbody>\n",
       "    <tr>\n",
       "      <th>0</th>\n",
       "      <td>1c09727c939eb69ead2a4ce4072b8aa18992a64f01fcb4...</td>\n",
       "      <td>46</td>\n",
       "      <td>101812</td>\n",
       "      <td>84d2dc85d4da6a7fa284a11a4290d7e9a969163dcb4d82...</td>\n",
       "      <td>3dd5bf1e29e5e0baa789ce692fe5dbd34ff05173acf351...</td>\n",
       "      <td>5</td>\n",
       "      <td>1.0</td>\n",
       "      <td>cad752c5d05d2bdcc30d64fa4e68404c2d1f7be5d14d52...</td>\n",
       "      <td>8f6b3ff512a001e0d1988c6cd888ef8c74112fb71117e5...</td>\n",
       "      <td>375.0</td>\n",
       "      <td>...</td>\n",
       "      <td>0.0</td>\n",
       "      <td>15759.0</td>\n",
       "      <td>NaN</td>\n",
       "      <td>0</td>\n",
       "      <td>0</td>\n",
       "      <td>6.0</td>\n",
       "      <td>70.0</td>\n",
       "      <td>1529</td>\n",
       "      <td>0</td>\n",
       "      <td>0</td>\n",
       "    </tr>\n",
       "    <tr>\n",
       "      <th>1</th>\n",
       "      <td>2043f245a93bc6328dac964d6dbc89f13a0346062c194d...</td>\n",
       "      <td>17</td>\n",
       "      <td>85509</td>\n",
       "      <td>9a8cf5d0afd729cb7876f6b3172152c7c9c6fabd40515c...</td>\n",
       "      <td>8cb13f9b38c7bbc02d210e580dcbbcbb6c95bf18bc3320...</td>\n",
       "      <td>5</td>\n",
       "      <td>8.0</td>\n",
       "      <td>4356c6642ef6e837543b577c7ee3ffa92b4b8fcfb57254...</td>\n",
       "      <td>379166ff4a62dac343b4b734188aa618716cc496e48b65...</td>\n",
       "      <td>282.0</td>\n",
       "      <td>...</td>\n",
       "      <td>0.0</td>\n",
       "      <td>15759.0</td>\n",
       "      <td>NaN</td>\n",
       "      <td>0</td>\n",
       "      <td>0</td>\n",
       "      <td>8.0</td>\n",
       "      <td>70.0</td>\n",
       "      <td>101</td>\n",
       "      <td>0</td>\n",
       "      <td>0</td>\n",
       "    </tr>\n",
       "    <tr>\n",
       "      <th>2</th>\n",
       "      <td>e4853710290a8409279f3279f8032ae670824bd19aa173...</td>\n",
       "      <td>44</td>\n",
       "      <td>212641</td>\n",
       "      <td>dcc1389a5765d6f53152cf85970fbe78a83fd3d1c299b0...</td>\n",
       "      <td>1ec32868e5e1d5ff8df56737c2a91326cbfe3364382de6...</td>\n",
       "      <td>5</td>\n",
       "      <td>4.0</td>\n",
       "      <td>5b7eff061f8896aac4339ea35c25f8bb956a43bc486460...</td>\n",
       "      <td>8f6b3ff512a001e0d1988c6cd888ef8c74112fb71117e5...</td>\n",
       "      <td>288.0</td>\n",
       "      <td>...</td>\n",
       "      <td>0.0</td>\n",
       "      <td>15759.0</td>\n",
       "      <td>NaN</td>\n",
       "      <td>0</td>\n",
       "      <td>0</td>\n",
       "      <td>6.0</td>\n",
       "      <td>70.0</td>\n",
       "      <td>116</td>\n",
       "      <td>0</td>\n",
       "      <td>0</td>\n",
       "    </tr>\n",
       "    <tr>\n",
       "      <th>3</th>\n",
       "      <td>74d811b1dbc28b22b73ba2c79bb6033791d913b6d27a25...</td>\n",
       "      <td>42</td>\n",
       "      <td>102702</td>\n",
       "      <td>577f2329d1eccd59ba0abaf6113bb78dcd575badcbc57f...</td>\n",
       "      <td>4359dca1ac6a835eceb2bc0dd6b0b710f030c3499126e9...</td>\n",
       "      <td>5</td>\n",
       "      <td>1.0</td>\n",
       "      <td>cad752c5d05d2bdcc30d64fa4e68404c2d1f7be5d14d52...</td>\n",
       "      <td>36684976be1f529e6e2a32c9edab4cf8e364b2b916ae2c...</td>\n",
       "      <td>375.0</td>\n",
       "      <td>...</td>\n",
       "      <td>0.0</td>\n",
       "      <td>15759.0</td>\n",
       "      <td>NaN</td>\n",
       "      <td>0</td>\n",
       "      <td>0</td>\n",
       "      <td>6.0</td>\n",
       "      <td>70.0</td>\n",
       "      <td>1683</td>\n",
       "      <td>0</td>\n",
       "      <td>0</td>\n",
       "    </tr>\n",
       "    <tr>\n",
       "      <th>4</th>\n",
       "      <td>68ca182343969d429d79a34e532bc1ca7a3cc032c2ad81...</td>\n",
       "      <td>31</td>\n",
       "      <td>185737</td>\n",
       "      <td>fff6b4126c40620b1fbb11d4de02cd67b9e95071caa40b...</td>\n",
       "      <td>a3837f2905383f235a72679482c5f02e40f2a8ca29750d...</td>\n",
       "      <td>5</td>\n",
       "      <td>5.0</td>\n",
       "      <td>50d5b02ce3fc88723438c2a29cfdb04be4a1a11280ddb6...</td>\n",
       "      <td>379166ff4a62dac343b4b734188aa618716cc496e48b65...</td>\n",
       "      <td>406.0</td>\n",
       "      <td>...</td>\n",
       "      <td>0.0</td>\n",
       "      <td>15759.0</td>\n",
       "      <td>NaN</td>\n",
       "      <td>0</td>\n",
       "      <td>0</td>\n",
       "      <td>6.0</td>\n",
       "      <td>70.0</td>\n",
       "      <td>14</td>\n",
       "      <td>0</td>\n",
       "      <td>0</td>\n",
       "    </tr>\n",
       "    <tr>\n",
       "      <th>...</th>\n",
       "      <td>...</td>\n",
       "      <td>...</td>\n",
       "      <td>...</td>\n",
       "      <td>...</td>\n",
       "      <td>...</td>\n",
       "      <td>...</td>\n",
       "      <td>...</td>\n",
       "      <td>...</td>\n",
       "      <td>...</td>\n",
       "      <td>...</td>\n",
       "      <td>...</td>\n",
       "      <td>...</td>\n",
       "      <td>...</td>\n",
       "      <td>...</td>\n",
       "      <td>...</td>\n",
       "      <td>...</td>\n",
       "      <td>...</td>\n",
       "      <td>...</td>\n",
       "      <td>...</td>\n",
       "      <td>...</td>\n",
       "      <td>...</td>\n",
       "    </tr>\n",
       "    <tr>\n",
       "      <th>8688521</th>\n",
       "      <td>fe5788aae7affa13a3946608670d7cdb9b4cde44f8f2cf...</td>\n",
       "      <td>14</td>\n",
       "      <td>84737</td>\n",
       "      <td>a894ea5eaf2c114231806da124f9d422b2c74653f071ec...</td>\n",
       "      <td>4616fbb5e28fbf86012461fc98652f51af00d2226aa634...</td>\n",
       "      <td>5</td>\n",
       "      <td>4.0</td>\n",
       "      <td>3c31ae50e4d36fe64a518a2c8109d14dd8d6b3a08edc92...</td>\n",
       "      <td>5f9c23caf7da7e1cf1e53ff9eab71dde3cfd72819e5210...</td>\n",
       "      <td>282.0</td>\n",
       "      <td>...</td>\n",
       "      <td>0.0</td>\n",
       "      <td>15759.0</td>\n",
       "      <td>NaN</td>\n",
       "      <td>0</td>\n",
       "      <td>0</td>\n",
       "      <td>0.0</td>\n",
       "      <td>70.0</td>\n",
       "      <td>49</td>\n",
       "      <td>0</td>\n",
       "      <td>0</td>\n",
       "    </tr>\n",
       "    <tr>\n",
       "      <th>8688522</th>\n",
       "      <td>8a2b5b7ba4443c311f06be147e42e7493735ae203c48ba...</td>\n",
       "      <td>23</td>\n",
       "      <td>105923</td>\n",
       "      <td>e3ee9fcf2bbabdfb2a4e6a7dfca046f1597888a8ebc3d2...</td>\n",
       "      <td>29e5be6d2bc0f3e539f13675c3faada5f07afb6f6df40a...</td>\n",
       "      <td>5</td>\n",
       "      <td>4.0</td>\n",
       "      <td>f56737b0e28217d7958e7ef135df60a5a02451c61596ef...</td>\n",
       "      <td>8f6b3ff512a001e0d1988c6cd888ef8c74112fb71117e5...</td>\n",
       "      <td>276.0</td>\n",
       "      <td>...</td>\n",
       "      <td>0.0</td>\n",
       "      <td>15759.0</td>\n",
       "      <td>NaN</td>\n",
       "      <td>0</td>\n",
       "      <td>0</td>\n",
       "      <td>6.0</td>\n",
       "      <td>70.0</td>\n",
       "      <td>4018</td>\n",
       "      <td>0</td>\n",
       "      <td>0</td>\n",
       "    </tr>\n",
       "    <tr>\n",
       "      <th>8688523</th>\n",
       "      <td>15a9ef847ce3702a176abfaceedf9a22a328e27a0c99a9...</td>\n",
       "      <td>23</td>\n",
       "      <td>141030</td>\n",
       "      <td>85a538fe0cb00a82ebdb948f1a8b45bfea5005dfcf7dcb...</td>\n",
       "      <td>2990660b8172986c57c793f16bb565ae29cd7572b50f05...</td>\n",
       "      <td>5</td>\n",
       "      <td>4.0</td>\n",
       "      <td>5f5906af767850a3d99fee5fc7ec9025467c4f9d9c8070...</td>\n",
       "      <td>2fea345d14a69774026f3de93f5e3313219363d54e07b1...</td>\n",
       "      <td>272.0</td>\n",
       "      <td>...</td>\n",
       "      <td>0.0</td>\n",
       "      <td>11380.0</td>\n",
       "      <td>NaN</td>\n",
       "      <td>0</td>\n",
       "      <td>0</td>\n",
       "      <td>6.0</td>\n",
       "      <td>70.0</td>\n",
       "      <td>314</td>\n",
       "      <td>0</td>\n",
       "      <td>0</td>\n",
       "    </tr>\n",
       "    <tr>\n",
       "      <th>8688524</th>\n",
       "      <td>2ed4454b4fcce6b9f98c3c22a1df941f03beb14bce94ea...</td>\n",
       "      <td>10</td>\n",
       "      <td>120209</td>\n",
       "      <td>1dd744fc7ca8249f3eb54514530bd9c242d338421ef819...</td>\n",
       "      <td>fca665553fe576b40984abe18261056736b923c3310f1d...</td>\n",
       "      <td>5</td>\n",
       "      <td>5.0</td>\n",
       "      <td>c795cb82dae8d6605d4856d4f2fa58cf1b0e158457fab8...</td>\n",
       "      <td>379166ff4a62dac343b4b734188aa618716cc496e48b65...</td>\n",
       "      <td>272.0</td>\n",
       "      <td>...</td>\n",
       "      <td>0.0</td>\n",
       "      <td>15759.0</td>\n",
       "      <td>NaN</td>\n",
       "      <td>0</td>\n",
       "      <td>0</td>\n",
       "      <td>6.0</td>\n",
       "      <td>70.0</td>\n",
       "      <td>225</td>\n",
       "      <td>0</td>\n",
       "      <td>0</td>\n",
       "    </tr>\n",
       "    <tr>\n",
       "      <th>8688525</th>\n",
       "      <td>eb17de9aad63d3baa82eb2c59c3760287a53d7c9a57588...</td>\n",
       "      <td>4</td>\n",
       "      <td>15317</td>\n",
       "      <td>b03f85ac9d0571375e245a609c062100e9caa5a5619d9f...</td>\n",
       "      <td>062a52ca16c65c39f3f4f42d6f006f14cd2f6530379f2a...</td>\n",
       "      <td>5</td>\n",
       "      <td>8.0</td>\n",
       "      <td>bbc76c23062521522aa53f2e9b710a92ed4a694019003f...</td>\n",
       "      <td>5d2fbec5d1f0d08c596cbfb0a295c4832a7eb859f295b8...</td>\n",
       "      <td>309.0</td>\n",
       "      <td>...</td>\n",
       "      <td>0.0</td>\n",
       "      <td>15759.0</td>\n",
       "      <td>NaN</td>\n",
       "      <td>0</td>\n",
       "      <td>0</td>\n",
       "      <td>6.0</td>\n",
       "      <td>70.0</td>\n",
       "      <td>166</td>\n",
       "      <td>0</td>\n",
       "      <td>0</td>\n",
       "    </tr>\n",
       "  </tbody>\n",
       "</table>\n",
       "<p>8688526 rows × 26 columns</p>\n",
       "</div>"
      ],
      "text/plain": [
       "                                                     txkey  locdt   loctm  \\\n",
       "0        1c09727c939eb69ead2a4ce4072b8aa18992a64f01fcb4...     46  101812   \n",
       "1        2043f245a93bc6328dac964d6dbc89f13a0346062c194d...     17   85509   \n",
       "2        e4853710290a8409279f3279f8032ae670824bd19aa173...     44  212641   \n",
       "3        74d811b1dbc28b22b73ba2c79bb6033791d913b6d27a25...     42  102702   \n",
       "4        68ca182343969d429d79a34e532bc1ca7a3cc032c2ad81...     31  185737   \n",
       "...                                                    ...    ...     ...   \n",
       "8688521  fe5788aae7affa13a3946608670d7cdb9b4cde44f8f2cf...     14   84737   \n",
       "8688522  8a2b5b7ba4443c311f06be147e42e7493735ae203c48ba...     23  105923   \n",
       "8688523  15a9ef847ce3702a176abfaceedf9a22a328e27a0c99a9...     23  141030   \n",
       "8688524  2ed4454b4fcce6b9f98c3c22a1df941f03beb14bce94ea...     10  120209   \n",
       "8688525  eb17de9aad63d3baa82eb2c59c3760287a53d7c9a57588...      4   15317   \n",
       "\n",
       "                                                      chid  \\\n",
       "0        84d2dc85d4da6a7fa284a11a4290d7e9a969163dcb4d82...   \n",
       "1        9a8cf5d0afd729cb7876f6b3172152c7c9c6fabd40515c...   \n",
       "2        dcc1389a5765d6f53152cf85970fbe78a83fd3d1c299b0...   \n",
       "3        577f2329d1eccd59ba0abaf6113bb78dcd575badcbc57f...   \n",
       "4        fff6b4126c40620b1fbb11d4de02cd67b9e95071caa40b...   \n",
       "...                                                    ...   \n",
       "8688521  a894ea5eaf2c114231806da124f9d422b2c74653f071ec...   \n",
       "8688522  e3ee9fcf2bbabdfb2a4e6a7dfca046f1597888a8ebc3d2...   \n",
       "8688523  85a538fe0cb00a82ebdb948f1a8b45bfea5005dfcf7dcb...   \n",
       "8688524  1dd744fc7ca8249f3eb54514530bd9c242d338421ef819...   \n",
       "8688525  b03f85ac9d0571375e245a609c062100e9caa5a5619d9f...   \n",
       "\n",
       "                                                      cano  contp  etymd  \\\n",
       "0        3dd5bf1e29e5e0baa789ce692fe5dbd34ff05173acf351...      5    1.0   \n",
       "1        8cb13f9b38c7bbc02d210e580dcbbcbb6c95bf18bc3320...      5    8.0   \n",
       "2        1ec32868e5e1d5ff8df56737c2a91326cbfe3364382de6...      5    4.0   \n",
       "3        4359dca1ac6a835eceb2bc0dd6b0b710f030c3499126e9...      5    1.0   \n",
       "4        a3837f2905383f235a72679482c5f02e40f2a8ca29750d...      5    5.0   \n",
       "...                                                    ...    ...    ...   \n",
       "8688521  4616fbb5e28fbf86012461fc98652f51af00d2226aa634...      5    4.0   \n",
       "8688522  29e5be6d2bc0f3e539f13675c3faada5f07afb6f6df40a...      5    4.0   \n",
       "8688523  2990660b8172986c57c793f16bb565ae29cd7572b50f05...      5    4.0   \n",
       "8688524  fca665553fe576b40984abe18261056736b923c3310f1d...      5    5.0   \n",
       "8688525  062a52ca16c65c39f3f4f42d6f006f14cd2f6530379f2a...      5    8.0   \n",
       "\n",
       "                                                     mchno  \\\n",
       "0        cad752c5d05d2bdcc30d64fa4e68404c2d1f7be5d14d52...   \n",
       "1        4356c6642ef6e837543b577c7ee3ffa92b4b8fcfb57254...   \n",
       "2        5b7eff061f8896aac4339ea35c25f8bb956a43bc486460...   \n",
       "3        cad752c5d05d2bdcc30d64fa4e68404c2d1f7be5d14d52...   \n",
       "4        50d5b02ce3fc88723438c2a29cfdb04be4a1a11280ddb6...   \n",
       "...                                                    ...   \n",
       "8688521  3c31ae50e4d36fe64a518a2c8109d14dd8d6b3a08edc92...   \n",
       "8688522  f56737b0e28217d7958e7ef135df60a5a02451c61596ef...   \n",
       "8688523  5f5906af767850a3d99fee5fc7ec9025467c4f9d9c8070...   \n",
       "8688524  c795cb82dae8d6605d4856d4f2fa58cf1b0e158457fab8...   \n",
       "8688525  bbc76c23062521522aa53f2e9b710a92ed4a694019003f...   \n",
       "\n",
       "                                                     acqic    mcc  ...  stocn  \\\n",
       "0        8f6b3ff512a001e0d1988c6cd888ef8c74112fb71117e5...  375.0  ...    0.0   \n",
       "1        379166ff4a62dac343b4b734188aa618716cc496e48b65...  282.0  ...    0.0   \n",
       "2        8f6b3ff512a001e0d1988c6cd888ef8c74112fb71117e5...  288.0  ...    0.0   \n",
       "3        36684976be1f529e6e2a32c9edab4cf8e364b2b916ae2c...  375.0  ...    0.0   \n",
       "4        379166ff4a62dac343b4b734188aa618716cc496e48b65...  406.0  ...    0.0   \n",
       "...                                                    ...    ...  ...    ...   \n",
       "8688521  5f9c23caf7da7e1cf1e53ff9eab71dde3cfd72819e5210...  282.0  ...    0.0   \n",
       "8688522  8f6b3ff512a001e0d1988c6cd888ef8c74112fb71117e5...  276.0  ...    0.0   \n",
       "8688523  2fea345d14a69774026f3de93f5e3313219363d54e07b1...  272.0  ...    0.0   \n",
       "8688524  379166ff4a62dac343b4b734188aa618716cc496e48b65...  272.0  ...    0.0   \n",
       "8688525  5d2fbec5d1f0d08c596cbfb0a295c4832a7eb859f295b8...  309.0  ...    0.0   \n",
       "\n",
       "           scity  stscd  ovrlt  flbmk  hcefg  csmcu  csmam  flg_3dsmk  label  \n",
       "0        15759.0    NaN      0      0    6.0   70.0   1529          0      0  \n",
       "1        15759.0    NaN      0      0    8.0   70.0    101          0      0  \n",
       "2        15759.0    NaN      0      0    6.0   70.0    116          0      0  \n",
       "3        15759.0    NaN      0      0    6.0   70.0   1683          0      0  \n",
       "4        15759.0    NaN      0      0    6.0   70.0     14          0      0  \n",
       "...          ...    ...    ...    ...    ...    ...    ...        ...    ...  \n",
       "8688521  15759.0    NaN      0      0    0.0   70.0     49          0      0  \n",
       "8688522  15759.0    NaN      0      0    6.0   70.0   4018          0      0  \n",
       "8688523  11380.0    NaN      0      0    6.0   70.0    314          0      0  \n",
       "8688524  15759.0    NaN      0      0    6.0   70.0    225          0      0  \n",
       "8688525  15759.0    NaN      0      0    6.0   70.0    166          0      0  \n",
       "\n",
       "[8688526 rows x 26 columns]"
      ]
     },
     "execution_count": 91,
     "metadata": {},
     "output_type": "execute_result"
    }
   ],
   "source": [
    "df"
   ]
  },
  {
   "cell_type": "code",
   "execution_count": 92,
   "metadata": {},
   "outputs": [
    {
     "data": {
      "text/plain": [
       "txkey             0\n",
       "locdt             0\n",
       "loctm             0\n",
       "chid              0\n",
       "cano              0\n",
       "contp             0\n",
       "etymd         13826\n",
       "mchno             0\n",
       "acqic             0\n",
       "mcc             354\n",
       "conam             0\n",
       "ecfg              0\n",
       "insfg             0\n",
       "iterm             0\n",
       "bnsfg             0\n",
       "flam1             0\n",
       "stocn            70\n",
       "scity         18430\n",
       "stscd        598703\n",
       "ovrlt             0\n",
       "flbmk             0\n",
       "hcefg         19703\n",
       "csmcu         33882\n",
       "csmam             0\n",
       "flg_3dsmk         0\n",
       "dtype: int64"
      ]
     },
     "execution_count": 92,
     "metadata": {},
     "output_type": "execute_result"
    }
   ],
   "source": [
    "public.isnull().sum()"
   ]
  },
  {
   "cell_type": "code",
   "execution_count": 93,
   "metadata": {},
   "outputs": [
    {
     "name": "stderr",
     "output_type": "stream",
     "text": [
      "/home/developer/.venv/lib/python3.10/site-packages/pandas/core/internals/blocks.py:2323: RuntimeWarning: invalid value encountered in cast\n",
      "  values = values.astype(str)\n"
     ]
    }
   ],
   "source": [
    "df['stscd_na'] = np.where(df['stscd'].isnull(), 1, 0)\n",
    "df.to_csv('data/training_na.csv', index=False)"
   ]
  },
  {
   "cell_type": "code",
   "execution_count": 94,
   "metadata": {},
   "outputs": [
    {
     "data": {
      "text/plain": [
       "5"
      ]
     },
     "execution_count": 94,
     "metadata": {},
     "output_type": "execute_result"
    }
   ],
   "source": [
    "df['stscd'].nunique()"
   ]
  },
  {
   "cell_type": "code",
   "execution_count": 95,
   "metadata": {},
   "outputs": [
    {
     "name": "stderr",
     "output_type": "stream",
     "text": [
      "/tmp/ipykernel_88589/4053893560.py:2: SettingWithCopyWarning: \n",
      "A value is trying to be set on a copy of a slice from a DataFrame\n",
      "\n",
      "See the caveats in the documentation: https://pandas.pydata.org/pandas-docs/stable/user_guide/indexing.html#returning-a-view-versus-a-copy\n",
      "  df1[df1['stscd'].isnull()].loc['stscd'] = df['stscd'].nunique()\n"
     ]
    }
   ],
   "source": [
    "df1 = df.copy()\n",
    "df1[df1['stscd'].isnull()].loc['stscd'] = df['stscd'].nunique()"
   ]
  },
  {
   "cell_type": "code",
   "execution_count": 96,
   "metadata": {},
   "outputs": [
    {
     "data": {
      "text/html": [
       "<div>\n",
       "<style scoped>\n",
       "    .dataframe tbody tr th:only-of-type {\n",
       "        vertical-align: middle;\n",
       "    }\n",
       "\n",
       "    .dataframe tbody tr th {\n",
       "        vertical-align: top;\n",
       "    }\n",
       "\n",
       "    .dataframe thead th {\n",
       "        text-align: right;\n",
       "    }\n",
       "</style>\n",
       "<table border=\"1\" class=\"dataframe\">\n",
       "  <thead>\n",
       "    <tr style=\"text-align: right;\">\n",
       "      <th></th>\n",
       "      <th>txkey</th>\n",
       "      <th>locdt</th>\n",
       "      <th>loctm</th>\n",
       "      <th>chid</th>\n",
       "      <th>cano</th>\n",
       "      <th>contp</th>\n",
       "      <th>etymd</th>\n",
       "      <th>mchno</th>\n",
       "      <th>acqic</th>\n",
       "      <th>mcc</th>\n",
       "      <th>...</th>\n",
       "      <th>scity</th>\n",
       "      <th>stscd</th>\n",
       "      <th>ovrlt</th>\n",
       "      <th>flbmk</th>\n",
       "      <th>hcefg</th>\n",
       "      <th>csmcu</th>\n",
       "      <th>csmam</th>\n",
       "      <th>flg_3dsmk</th>\n",
       "      <th>label</th>\n",
       "      <th>stscd_na</th>\n",
       "    </tr>\n",
       "  </thead>\n",
       "  <tbody>\n",
       "    <tr>\n",
       "      <th>0</th>\n",
       "      <td>1c09727c939eb69ead2a4ce4072b8aa18992a64f01fcb4...</td>\n",
       "      <td>46</td>\n",
       "      <td>101812</td>\n",
       "      <td>84d2dc85d4da6a7fa284a11a4290d7e9a969163dcb4d82...</td>\n",
       "      <td>3dd5bf1e29e5e0baa789ce692fe5dbd34ff05173acf351...</td>\n",
       "      <td>5</td>\n",
       "      <td>1.0</td>\n",
       "      <td>cad752c5d05d2bdcc30d64fa4e68404c2d1f7be5d14d52...</td>\n",
       "      <td>8f6b3ff512a001e0d1988c6cd888ef8c74112fb71117e5...</td>\n",
       "      <td>375.0</td>\n",
       "      <td>...</td>\n",
       "      <td>15759.0</td>\n",
       "      <td>NaN</td>\n",
       "      <td>0</td>\n",
       "      <td>0</td>\n",
       "      <td>6.0</td>\n",
       "      <td>70.0</td>\n",
       "      <td>1529</td>\n",
       "      <td>0</td>\n",
       "      <td>0</td>\n",
       "      <td>1</td>\n",
       "    </tr>\n",
       "    <tr>\n",
       "      <th>1</th>\n",
       "      <td>2043f245a93bc6328dac964d6dbc89f13a0346062c194d...</td>\n",
       "      <td>17</td>\n",
       "      <td>85509</td>\n",
       "      <td>9a8cf5d0afd729cb7876f6b3172152c7c9c6fabd40515c...</td>\n",
       "      <td>8cb13f9b38c7bbc02d210e580dcbbcbb6c95bf18bc3320...</td>\n",
       "      <td>5</td>\n",
       "      <td>8.0</td>\n",
       "      <td>4356c6642ef6e837543b577c7ee3ffa92b4b8fcfb57254...</td>\n",
       "      <td>379166ff4a62dac343b4b734188aa618716cc496e48b65...</td>\n",
       "      <td>282.0</td>\n",
       "      <td>...</td>\n",
       "      <td>15759.0</td>\n",
       "      <td>NaN</td>\n",
       "      <td>0</td>\n",
       "      <td>0</td>\n",
       "      <td>8.0</td>\n",
       "      <td>70.0</td>\n",
       "      <td>101</td>\n",
       "      <td>0</td>\n",
       "      <td>0</td>\n",
       "      <td>1</td>\n",
       "    </tr>\n",
       "    <tr>\n",
       "      <th>2</th>\n",
       "      <td>e4853710290a8409279f3279f8032ae670824bd19aa173...</td>\n",
       "      <td>44</td>\n",
       "      <td>212641</td>\n",
       "      <td>dcc1389a5765d6f53152cf85970fbe78a83fd3d1c299b0...</td>\n",
       "      <td>1ec32868e5e1d5ff8df56737c2a91326cbfe3364382de6...</td>\n",
       "      <td>5</td>\n",
       "      <td>4.0</td>\n",
       "      <td>5b7eff061f8896aac4339ea35c25f8bb956a43bc486460...</td>\n",
       "      <td>8f6b3ff512a001e0d1988c6cd888ef8c74112fb71117e5...</td>\n",
       "      <td>288.0</td>\n",
       "      <td>...</td>\n",
       "      <td>15759.0</td>\n",
       "      <td>NaN</td>\n",
       "      <td>0</td>\n",
       "      <td>0</td>\n",
       "      <td>6.0</td>\n",
       "      <td>70.0</td>\n",
       "      <td>116</td>\n",
       "      <td>0</td>\n",
       "      <td>0</td>\n",
       "      <td>1</td>\n",
       "    </tr>\n",
       "    <tr>\n",
       "      <th>3</th>\n",
       "      <td>74d811b1dbc28b22b73ba2c79bb6033791d913b6d27a25...</td>\n",
       "      <td>42</td>\n",
       "      <td>102702</td>\n",
       "      <td>577f2329d1eccd59ba0abaf6113bb78dcd575badcbc57f...</td>\n",
       "      <td>4359dca1ac6a835eceb2bc0dd6b0b710f030c3499126e9...</td>\n",
       "      <td>5</td>\n",
       "      <td>1.0</td>\n",
       "      <td>cad752c5d05d2bdcc30d64fa4e68404c2d1f7be5d14d52...</td>\n",
       "      <td>36684976be1f529e6e2a32c9edab4cf8e364b2b916ae2c...</td>\n",
       "      <td>375.0</td>\n",
       "      <td>...</td>\n",
       "      <td>15759.0</td>\n",
       "      <td>NaN</td>\n",
       "      <td>0</td>\n",
       "      <td>0</td>\n",
       "      <td>6.0</td>\n",
       "      <td>70.0</td>\n",
       "      <td>1683</td>\n",
       "      <td>0</td>\n",
       "      <td>0</td>\n",
       "      <td>1</td>\n",
       "    </tr>\n",
       "    <tr>\n",
       "      <th>4</th>\n",
       "      <td>68ca182343969d429d79a34e532bc1ca7a3cc032c2ad81...</td>\n",
       "      <td>31</td>\n",
       "      <td>185737</td>\n",
       "      <td>fff6b4126c40620b1fbb11d4de02cd67b9e95071caa40b...</td>\n",
       "      <td>a3837f2905383f235a72679482c5f02e40f2a8ca29750d...</td>\n",
       "      <td>5</td>\n",
       "      <td>5.0</td>\n",
       "      <td>50d5b02ce3fc88723438c2a29cfdb04be4a1a11280ddb6...</td>\n",
       "      <td>379166ff4a62dac343b4b734188aa618716cc496e48b65...</td>\n",
       "      <td>406.0</td>\n",
       "      <td>...</td>\n",
       "      <td>15759.0</td>\n",
       "      <td>NaN</td>\n",
       "      <td>0</td>\n",
       "      <td>0</td>\n",
       "      <td>6.0</td>\n",
       "      <td>70.0</td>\n",
       "      <td>14</td>\n",
       "      <td>0</td>\n",
       "      <td>0</td>\n",
       "      <td>1</td>\n",
       "    </tr>\n",
       "    <tr>\n",
       "      <th>...</th>\n",
       "      <td>...</td>\n",
       "      <td>...</td>\n",
       "      <td>...</td>\n",
       "      <td>...</td>\n",
       "      <td>...</td>\n",
       "      <td>...</td>\n",
       "      <td>...</td>\n",
       "      <td>...</td>\n",
       "      <td>...</td>\n",
       "      <td>...</td>\n",
       "      <td>...</td>\n",
       "      <td>...</td>\n",
       "      <td>...</td>\n",
       "      <td>...</td>\n",
       "      <td>...</td>\n",
       "      <td>...</td>\n",
       "      <td>...</td>\n",
       "      <td>...</td>\n",
       "      <td>...</td>\n",
       "      <td>...</td>\n",
       "      <td>...</td>\n",
       "    </tr>\n",
       "    <tr>\n",
       "      <th>8688521</th>\n",
       "      <td>fe5788aae7affa13a3946608670d7cdb9b4cde44f8f2cf...</td>\n",
       "      <td>14</td>\n",
       "      <td>84737</td>\n",
       "      <td>a894ea5eaf2c114231806da124f9d422b2c74653f071ec...</td>\n",
       "      <td>4616fbb5e28fbf86012461fc98652f51af00d2226aa634...</td>\n",
       "      <td>5</td>\n",
       "      <td>4.0</td>\n",
       "      <td>3c31ae50e4d36fe64a518a2c8109d14dd8d6b3a08edc92...</td>\n",
       "      <td>5f9c23caf7da7e1cf1e53ff9eab71dde3cfd72819e5210...</td>\n",
       "      <td>282.0</td>\n",
       "      <td>...</td>\n",
       "      <td>15759.0</td>\n",
       "      <td>NaN</td>\n",
       "      <td>0</td>\n",
       "      <td>0</td>\n",
       "      <td>0.0</td>\n",
       "      <td>70.0</td>\n",
       "      <td>49</td>\n",
       "      <td>0</td>\n",
       "      <td>0</td>\n",
       "      <td>1</td>\n",
       "    </tr>\n",
       "    <tr>\n",
       "      <th>8688522</th>\n",
       "      <td>8a2b5b7ba4443c311f06be147e42e7493735ae203c48ba...</td>\n",
       "      <td>23</td>\n",
       "      <td>105923</td>\n",
       "      <td>e3ee9fcf2bbabdfb2a4e6a7dfca046f1597888a8ebc3d2...</td>\n",
       "      <td>29e5be6d2bc0f3e539f13675c3faada5f07afb6f6df40a...</td>\n",
       "      <td>5</td>\n",
       "      <td>4.0</td>\n",
       "      <td>f56737b0e28217d7958e7ef135df60a5a02451c61596ef...</td>\n",
       "      <td>8f6b3ff512a001e0d1988c6cd888ef8c74112fb71117e5...</td>\n",
       "      <td>276.0</td>\n",
       "      <td>...</td>\n",
       "      <td>15759.0</td>\n",
       "      <td>NaN</td>\n",
       "      <td>0</td>\n",
       "      <td>0</td>\n",
       "      <td>6.0</td>\n",
       "      <td>70.0</td>\n",
       "      <td>4018</td>\n",
       "      <td>0</td>\n",
       "      <td>0</td>\n",
       "      <td>1</td>\n",
       "    </tr>\n",
       "    <tr>\n",
       "      <th>8688523</th>\n",
       "      <td>15a9ef847ce3702a176abfaceedf9a22a328e27a0c99a9...</td>\n",
       "      <td>23</td>\n",
       "      <td>141030</td>\n",
       "      <td>85a538fe0cb00a82ebdb948f1a8b45bfea5005dfcf7dcb...</td>\n",
       "      <td>2990660b8172986c57c793f16bb565ae29cd7572b50f05...</td>\n",
       "      <td>5</td>\n",
       "      <td>4.0</td>\n",
       "      <td>5f5906af767850a3d99fee5fc7ec9025467c4f9d9c8070...</td>\n",
       "      <td>2fea345d14a69774026f3de93f5e3313219363d54e07b1...</td>\n",
       "      <td>272.0</td>\n",
       "      <td>...</td>\n",
       "      <td>11380.0</td>\n",
       "      <td>NaN</td>\n",
       "      <td>0</td>\n",
       "      <td>0</td>\n",
       "      <td>6.0</td>\n",
       "      <td>70.0</td>\n",
       "      <td>314</td>\n",
       "      <td>0</td>\n",
       "      <td>0</td>\n",
       "      <td>1</td>\n",
       "    </tr>\n",
       "    <tr>\n",
       "      <th>8688524</th>\n",
       "      <td>2ed4454b4fcce6b9f98c3c22a1df941f03beb14bce94ea...</td>\n",
       "      <td>10</td>\n",
       "      <td>120209</td>\n",
       "      <td>1dd744fc7ca8249f3eb54514530bd9c242d338421ef819...</td>\n",
       "      <td>fca665553fe576b40984abe18261056736b923c3310f1d...</td>\n",
       "      <td>5</td>\n",
       "      <td>5.0</td>\n",
       "      <td>c795cb82dae8d6605d4856d4f2fa58cf1b0e158457fab8...</td>\n",
       "      <td>379166ff4a62dac343b4b734188aa618716cc496e48b65...</td>\n",
       "      <td>272.0</td>\n",
       "      <td>...</td>\n",
       "      <td>15759.0</td>\n",
       "      <td>NaN</td>\n",
       "      <td>0</td>\n",
       "      <td>0</td>\n",
       "      <td>6.0</td>\n",
       "      <td>70.0</td>\n",
       "      <td>225</td>\n",
       "      <td>0</td>\n",
       "      <td>0</td>\n",
       "      <td>1</td>\n",
       "    </tr>\n",
       "    <tr>\n",
       "      <th>8688525</th>\n",
       "      <td>eb17de9aad63d3baa82eb2c59c3760287a53d7c9a57588...</td>\n",
       "      <td>4</td>\n",
       "      <td>15317</td>\n",
       "      <td>b03f85ac9d0571375e245a609c062100e9caa5a5619d9f...</td>\n",
       "      <td>062a52ca16c65c39f3f4f42d6f006f14cd2f6530379f2a...</td>\n",
       "      <td>5</td>\n",
       "      <td>8.0</td>\n",
       "      <td>bbc76c23062521522aa53f2e9b710a92ed4a694019003f...</td>\n",
       "      <td>5d2fbec5d1f0d08c596cbfb0a295c4832a7eb859f295b8...</td>\n",
       "      <td>309.0</td>\n",
       "      <td>...</td>\n",
       "      <td>15759.0</td>\n",
       "      <td>NaN</td>\n",
       "      <td>0</td>\n",
       "      <td>0</td>\n",
       "      <td>6.0</td>\n",
       "      <td>70.0</td>\n",
       "      <td>166</td>\n",
       "      <td>0</td>\n",
       "      <td>0</td>\n",
       "      <td>1</td>\n",
       "    </tr>\n",
       "  </tbody>\n",
       "</table>\n",
       "<p>8665195 rows × 27 columns</p>\n",
       "</div>"
      ],
      "text/plain": [
       "                                                     txkey  locdt   loctm  \\\n",
       "0        1c09727c939eb69ead2a4ce4072b8aa18992a64f01fcb4...     46  101812   \n",
       "1        2043f245a93bc6328dac964d6dbc89f13a0346062c194d...     17   85509   \n",
       "2        e4853710290a8409279f3279f8032ae670824bd19aa173...     44  212641   \n",
       "3        74d811b1dbc28b22b73ba2c79bb6033791d913b6d27a25...     42  102702   \n",
       "4        68ca182343969d429d79a34e532bc1ca7a3cc032c2ad81...     31  185737   \n",
       "...                                                    ...    ...     ...   \n",
       "8688521  fe5788aae7affa13a3946608670d7cdb9b4cde44f8f2cf...     14   84737   \n",
       "8688522  8a2b5b7ba4443c311f06be147e42e7493735ae203c48ba...     23  105923   \n",
       "8688523  15a9ef847ce3702a176abfaceedf9a22a328e27a0c99a9...     23  141030   \n",
       "8688524  2ed4454b4fcce6b9f98c3c22a1df941f03beb14bce94ea...     10  120209   \n",
       "8688525  eb17de9aad63d3baa82eb2c59c3760287a53d7c9a57588...      4   15317   \n",
       "\n",
       "                                                      chid  \\\n",
       "0        84d2dc85d4da6a7fa284a11a4290d7e9a969163dcb4d82...   \n",
       "1        9a8cf5d0afd729cb7876f6b3172152c7c9c6fabd40515c...   \n",
       "2        dcc1389a5765d6f53152cf85970fbe78a83fd3d1c299b0...   \n",
       "3        577f2329d1eccd59ba0abaf6113bb78dcd575badcbc57f...   \n",
       "4        fff6b4126c40620b1fbb11d4de02cd67b9e95071caa40b...   \n",
       "...                                                    ...   \n",
       "8688521  a894ea5eaf2c114231806da124f9d422b2c74653f071ec...   \n",
       "8688522  e3ee9fcf2bbabdfb2a4e6a7dfca046f1597888a8ebc3d2...   \n",
       "8688523  85a538fe0cb00a82ebdb948f1a8b45bfea5005dfcf7dcb...   \n",
       "8688524  1dd744fc7ca8249f3eb54514530bd9c242d338421ef819...   \n",
       "8688525  b03f85ac9d0571375e245a609c062100e9caa5a5619d9f...   \n",
       "\n",
       "                                                      cano  contp  etymd  \\\n",
       "0        3dd5bf1e29e5e0baa789ce692fe5dbd34ff05173acf351...      5    1.0   \n",
       "1        8cb13f9b38c7bbc02d210e580dcbbcbb6c95bf18bc3320...      5    8.0   \n",
       "2        1ec32868e5e1d5ff8df56737c2a91326cbfe3364382de6...      5    4.0   \n",
       "3        4359dca1ac6a835eceb2bc0dd6b0b710f030c3499126e9...      5    1.0   \n",
       "4        a3837f2905383f235a72679482c5f02e40f2a8ca29750d...      5    5.0   \n",
       "...                                                    ...    ...    ...   \n",
       "8688521  4616fbb5e28fbf86012461fc98652f51af00d2226aa634...      5    4.0   \n",
       "8688522  29e5be6d2bc0f3e539f13675c3faada5f07afb6f6df40a...      5    4.0   \n",
       "8688523  2990660b8172986c57c793f16bb565ae29cd7572b50f05...      5    4.0   \n",
       "8688524  fca665553fe576b40984abe18261056736b923c3310f1d...      5    5.0   \n",
       "8688525  062a52ca16c65c39f3f4f42d6f006f14cd2f6530379f2a...      5    8.0   \n",
       "\n",
       "                                                     mchno  \\\n",
       "0        cad752c5d05d2bdcc30d64fa4e68404c2d1f7be5d14d52...   \n",
       "1        4356c6642ef6e837543b577c7ee3ffa92b4b8fcfb57254...   \n",
       "2        5b7eff061f8896aac4339ea35c25f8bb956a43bc486460...   \n",
       "3        cad752c5d05d2bdcc30d64fa4e68404c2d1f7be5d14d52...   \n",
       "4        50d5b02ce3fc88723438c2a29cfdb04be4a1a11280ddb6...   \n",
       "...                                                    ...   \n",
       "8688521  3c31ae50e4d36fe64a518a2c8109d14dd8d6b3a08edc92...   \n",
       "8688522  f56737b0e28217d7958e7ef135df60a5a02451c61596ef...   \n",
       "8688523  5f5906af767850a3d99fee5fc7ec9025467c4f9d9c8070...   \n",
       "8688524  c795cb82dae8d6605d4856d4f2fa58cf1b0e158457fab8...   \n",
       "8688525  bbc76c23062521522aa53f2e9b710a92ed4a694019003f...   \n",
       "\n",
       "                                                     acqic    mcc  ...  \\\n",
       "0        8f6b3ff512a001e0d1988c6cd888ef8c74112fb71117e5...  375.0  ...   \n",
       "1        379166ff4a62dac343b4b734188aa618716cc496e48b65...  282.0  ...   \n",
       "2        8f6b3ff512a001e0d1988c6cd888ef8c74112fb71117e5...  288.0  ...   \n",
       "3        36684976be1f529e6e2a32c9edab4cf8e364b2b916ae2c...  375.0  ...   \n",
       "4        379166ff4a62dac343b4b734188aa618716cc496e48b65...  406.0  ...   \n",
       "...                                                    ...    ...  ...   \n",
       "8688521  5f9c23caf7da7e1cf1e53ff9eab71dde3cfd72819e5210...  282.0  ...   \n",
       "8688522  8f6b3ff512a001e0d1988c6cd888ef8c74112fb71117e5...  276.0  ...   \n",
       "8688523  2fea345d14a69774026f3de93f5e3313219363d54e07b1...  272.0  ...   \n",
       "8688524  379166ff4a62dac343b4b734188aa618716cc496e48b65...  272.0  ...   \n",
       "8688525  5d2fbec5d1f0d08c596cbfb0a295c4832a7eb859f295b8...  309.0  ...   \n",
       "\n",
       "           scity  stscd  ovrlt  flbmk  hcefg  csmcu  csmam  flg_3dsmk  label  \\\n",
       "0        15759.0    NaN      0      0    6.0   70.0   1529          0      0   \n",
       "1        15759.0    NaN      0      0    8.0   70.0    101          0      0   \n",
       "2        15759.0    NaN      0      0    6.0   70.0    116          0      0   \n",
       "3        15759.0    NaN      0      0    6.0   70.0   1683          0      0   \n",
       "4        15759.0    NaN      0      0    6.0   70.0     14          0      0   \n",
       "...          ...    ...    ...    ...    ...    ...    ...        ...    ...   \n",
       "8688521  15759.0    NaN      0      0    0.0   70.0     49          0      0   \n",
       "8688522  15759.0    NaN      0      0    6.0   70.0   4018          0      0   \n",
       "8688523  11380.0    NaN      0      0    6.0   70.0    314          0      0   \n",
       "8688524  15759.0    NaN      0      0    6.0   70.0    225          0      0   \n",
       "8688525  15759.0    NaN      0      0    6.0   70.0    166          0      0   \n",
       "\n",
       "         stscd_na  \n",
       "0               1  \n",
       "1               1  \n",
       "2               1  \n",
       "3               1  \n",
       "4               1  \n",
       "...           ...  \n",
       "8688521         1  \n",
       "8688522         1  \n",
       "8688523         1  \n",
       "8688524         1  \n",
       "8688525         1  \n",
       "\n",
       "[8665195 rows x 27 columns]"
      ]
     },
     "execution_count": 96,
     "metadata": {},
     "output_type": "execute_result"
    }
   ],
   "source": [
    "df1[df1['stscd'].isnull()]"
   ]
  },
  {
   "cell_type": "code",
   "execution_count": 97,
   "metadata": {},
   "outputs": [
    {
     "data": {
      "text/plain": [
       "0          5.0\n",
       "1          5.0\n",
       "2          5.0\n",
       "3          5.0\n",
       "4          5.0\n",
       "          ... \n",
       "8688521    5.0\n",
       "8688522    5.0\n",
       "8688523    5.0\n",
       "8688524    5.0\n",
       "8688525    5.0\n",
       "Name: stscd, Length: 8688526, dtype: float64"
      ]
     },
     "execution_count": 97,
     "metadata": {},
     "output_type": "execute_result"
    }
   ],
   "source": [
    "df1['stscd'].fillna(df1['stscd'].nunique())"
   ]
  },
  {
   "cell_type": "code",
   "execution_count": null,
   "metadata": {},
   "outputs": [],
   "source": []
  }
 ],
 "metadata": {
  "kernelspec": {
   "display_name": ".venv",
   "language": "python",
   "name": "python3"
  },
  "language_info": {
   "codemirror_mode": {
    "name": "ipython",
    "version": 3
   },
   "file_extension": ".py",
   "mimetype": "text/x-python",
   "name": "python",
   "nbconvert_exporter": "python",
   "pygments_lexer": "ipython3",
   "version": "3.10.12"
  }
 },
 "nbformat": 4,
 "nbformat_minor": 4
}
