{
 "cells": [
  {
   "cell_type": "code",
   "execution_count": 2,
   "metadata": {
    "editable": true,
    "slideshow": {
     "slide_type": ""
    },
    "tags": []
   },
   "outputs": [],
   "source": [
    "import pandas as pd\n",
    "import numpy as np\n",
    "import seaborn as sns\n",
    "import matplotlib.pyplot as plt\n",
    "\n",
    "from sklearn.pipeline import Pipeline\n",
    "from sklearn.impute import SimpleImputer\n",
    "from sklearn.preprocessing import StandardScaler, RobustScaler, OrdinalEncoder, MinMaxScaler\n",
    "from sklearn.compose import ColumnTransformer\n",
    "from sklearn.model_selection import train_test_split"
   ]
  },
  {
   "cell_type": "code",
   "execution_count": 3,
   "metadata": {},
   "outputs": [
    {
     "data": {
      "text/html": [
       "<div>\n",
       "<style scoped>\n",
       "    .dataframe tbody tr th:only-of-type {\n",
       "        vertical-align: middle;\n",
       "    }\n",
       "\n",
       "    .dataframe tbody tr th {\n",
       "        vertical-align: top;\n",
       "    }\n",
       "\n",
       "    .dataframe thead th {\n",
       "        text-align: right;\n",
       "    }\n",
       "</style>\n",
       "<table border=\"1\" class=\"dataframe\">\n",
       "  <thead>\n",
       "    <tr style=\"text-align: right;\">\n",
       "      <th></th>\n",
       "      <th>txkey</th>\n",
       "      <th>locdt</th>\n",
       "      <th>loctm</th>\n",
       "      <th>chid</th>\n",
       "      <th>cano</th>\n",
       "      <th>contp</th>\n",
       "      <th>etymd</th>\n",
       "      <th>mchno</th>\n",
       "      <th>acqic</th>\n",
       "      <th>mcc</th>\n",
       "      <th>...</th>\n",
       "      <th>stocn</th>\n",
       "      <th>scity</th>\n",
       "      <th>stscd</th>\n",
       "      <th>ovrlt</th>\n",
       "      <th>flbmk</th>\n",
       "      <th>hcefg</th>\n",
       "      <th>csmcu</th>\n",
       "      <th>csmam</th>\n",
       "      <th>flg_3dsmk</th>\n",
       "      <th>label</th>\n",
       "    </tr>\n",
       "  </thead>\n",
       "  <tbody>\n",
       "    <tr>\n",
       "      <th>0</th>\n",
       "      <td>1c09727c939eb69ead2a4ce4072b8aa18992a64f01fcb4...</td>\n",
       "      <td>46</td>\n",
       "      <td>101812</td>\n",
       "      <td>84d2dc85d4da6a7fa284a11a4290d7e9a969163dcb4d82...</td>\n",
       "      <td>3dd5bf1e29e5e0baa789ce692fe5dbd34ff05173acf351...</td>\n",
       "      <td>5</td>\n",
       "      <td>1.0</td>\n",
       "      <td>cad752c5d05d2bdcc30d64fa4e68404c2d1f7be5d14d52...</td>\n",
       "      <td>8f6b3ff512a001e0d1988c6cd888ef8c74112fb71117e5...</td>\n",
       "      <td>375.0</td>\n",
       "      <td>...</td>\n",
       "      <td>0.0</td>\n",
       "      <td>15759.0</td>\n",
       "      <td>NaN</td>\n",
       "      <td>0</td>\n",
       "      <td>0</td>\n",
       "      <td>6.0</td>\n",
       "      <td>70.0</td>\n",
       "      <td>1529</td>\n",
       "      <td>0</td>\n",
       "      <td>0</td>\n",
       "    </tr>\n",
       "    <tr>\n",
       "      <th>1</th>\n",
       "      <td>2043f245a93bc6328dac964d6dbc89f13a0346062c194d...</td>\n",
       "      <td>17</td>\n",
       "      <td>85509</td>\n",
       "      <td>9a8cf5d0afd729cb7876f6b3172152c7c9c6fabd40515c...</td>\n",
       "      <td>8cb13f9b38c7bbc02d210e580dcbbcbb6c95bf18bc3320...</td>\n",
       "      <td>5</td>\n",
       "      <td>8.0</td>\n",
       "      <td>4356c6642ef6e837543b577c7ee3ffa92b4b8fcfb57254...</td>\n",
       "      <td>379166ff4a62dac343b4b734188aa618716cc496e48b65...</td>\n",
       "      <td>282.0</td>\n",
       "      <td>...</td>\n",
       "      <td>0.0</td>\n",
       "      <td>15759.0</td>\n",
       "      <td>NaN</td>\n",
       "      <td>0</td>\n",
       "      <td>0</td>\n",
       "      <td>8.0</td>\n",
       "      <td>70.0</td>\n",
       "      <td>101</td>\n",
       "      <td>0</td>\n",
       "      <td>0</td>\n",
       "    </tr>\n",
       "    <tr>\n",
       "      <th>2</th>\n",
       "      <td>e4853710290a8409279f3279f8032ae670824bd19aa173...</td>\n",
       "      <td>44</td>\n",
       "      <td>212641</td>\n",
       "      <td>dcc1389a5765d6f53152cf85970fbe78a83fd3d1c299b0...</td>\n",
       "      <td>1ec32868e5e1d5ff8df56737c2a91326cbfe3364382de6...</td>\n",
       "      <td>5</td>\n",
       "      <td>4.0</td>\n",
       "      <td>5b7eff061f8896aac4339ea35c25f8bb956a43bc486460...</td>\n",
       "      <td>8f6b3ff512a001e0d1988c6cd888ef8c74112fb71117e5...</td>\n",
       "      <td>288.0</td>\n",
       "      <td>...</td>\n",
       "      <td>0.0</td>\n",
       "      <td>15759.0</td>\n",
       "      <td>NaN</td>\n",
       "      <td>0</td>\n",
       "      <td>0</td>\n",
       "      <td>6.0</td>\n",
       "      <td>70.0</td>\n",
       "      <td>116</td>\n",
       "      <td>0</td>\n",
       "      <td>0</td>\n",
       "    </tr>\n",
       "    <tr>\n",
       "      <th>3</th>\n",
       "      <td>74d811b1dbc28b22b73ba2c79bb6033791d913b6d27a25...</td>\n",
       "      <td>42</td>\n",
       "      <td>102702</td>\n",
       "      <td>577f2329d1eccd59ba0abaf6113bb78dcd575badcbc57f...</td>\n",
       "      <td>4359dca1ac6a835eceb2bc0dd6b0b710f030c3499126e9...</td>\n",
       "      <td>5</td>\n",
       "      <td>1.0</td>\n",
       "      <td>cad752c5d05d2bdcc30d64fa4e68404c2d1f7be5d14d52...</td>\n",
       "      <td>36684976be1f529e6e2a32c9edab4cf8e364b2b916ae2c...</td>\n",
       "      <td>375.0</td>\n",
       "      <td>...</td>\n",
       "      <td>0.0</td>\n",
       "      <td>15759.0</td>\n",
       "      <td>NaN</td>\n",
       "      <td>0</td>\n",
       "      <td>0</td>\n",
       "      <td>6.0</td>\n",
       "      <td>70.0</td>\n",
       "      <td>1683</td>\n",
       "      <td>0</td>\n",
       "      <td>0</td>\n",
       "    </tr>\n",
       "    <tr>\n",
       "      <th>4</th>\n",
       "      <td>68ca182343969d429d79a34e532bc1ca7a3cc032c2ad81...</td>\n",
       "      <td>31</td>\n",
       "      <td>185737</td>\n",
       "      <td>fff6b4126c40620b1fbb11d4de02cd67b9e95071caa40b...</td>\n",
       "      <td>a3837f2905383f235a72679482c5f02e40f2a8ca29750d...</td>\n",
       "      <td>5</td>\n",
       "      <td>5.0</td>\n",
       "      <td>50d5b02ce3fc88723438c2a29cfdb04be4a1a11280ddb6...</td>\n",
       "      <td>379166ff4a62dac343b4b734188aa618716cc496e48b65...</td>\n",
       "      <td>406.0</td>\n",
       "      <td>...</td>\n",
       "      <td>0.0</td>\n",
       "      <td>15759.0</td>\n",
       "      <td>NaN</td>\n",
       "      <td>0</td>\n",
       "      <td>0</td>\n",
       "      <td>6.0</td>\n",
       "      <td>70.0</td>\n",
       "      <td>14</td>\n",
       "      <td>0</td>\n",
       "      <td>0</td>\n",
       "    </tr>\n",
       "  </tbody>\n",
       "</table>\n",
       "<p>5 rows × 26 columns</p>\n",
       "</div>"
      ],
      "text/plain": [
       "                                               txkey  locdt   loctm  \\\n",
       "0  1c09727c939eb69ead2a4ce4072b8aa18992a64f01fcb4...     46  101812   \n",
       "1  2043f245a93bc6328dac964d6dbc89f13a0346062c194d...     17   85509   \n",
       "2  e4853710290a8409279f3279f8032ae670824bd19aa173...     44  212641   \n",
       "3  74d811b1dbc28b22b73ba2c79bb6033791d913b6d27a25...     42  102702   \n",
       "4  68ca182343969d429d79a34e532bc1ca7a3cc032c2ad81...     31  185737   \n",
       "\n",
       "                                                chid  \\\n",
       "0  84d2dc85d4da6a7fa284a11a4290d7e9a969163dcb4d82...   \n",
       "1  9a8cf5d0afd729cb7876f6b3172152c7c9c6fabd40515c...   \n",
       "2  dcc1389a5765d6f53152cf85970fbe78a83fd3d1c299b0...   \n",
       "3  577f2329d1eccd59ba0abaf6113bb78dcd575badcbc57f...   \n",
       "4  fff6b4126c40620b1fbb11d4de02cd67b9e95071caa40b...   \n",
       "\n",
       "                                                cano  contp  etymd  \\\n",
       "0  3dd5bf1e29e5e0baa789ce692fe5dbd34ff05173acf351...      5    1.0   \n",
       "1  8cb13f9b38c7bbc02d210e580dcbbcbb6c95bf18bc3320...      5    8.0   \n",
       "2  1ec32868e5e1d5ff8df56737c2a91326cbfe3364382de6...      5    4.0   \n",
       "3  4359dca1ac6a835eceb2bc0dd6b0b710f030c3499126e9...      5    1.0   \n",
       "4  a3837f2905383f235a72679482c5f02e40f2a8ca29750d...      5    5.0   \n",
       "\n",
       "                                               mchno  \\\n",
       "0  cad752c5d05d2bdcc30d64fa4e68404c2d1f7be5d14d52...   \n",
       "1  4356c6642ef6e837543b577c7ee3ffa92b4b8fcfb57254...   \n",
       "2  5b7eff061f8896aac4339ea35c25f8bb956a43bc486460...   \n",
       "3  cad752c5d05d2bdcc30d64fa4e68404c2d1f7be5d14d52...   \n",
       "4  50d5b02ce3fc88723438c2a29cfdb04be4a1a11280ddb6...   \n",
       "\n",
       "                                               acqic    mcc  ...  stocn  \\\n",
       "0  8f6b3ff512a001e0d1988c6cd888ef8c74112fb71117e5...  375.0  ...    0.0   \n",
       "1  379166ff4a62dac343b4b734188aa618716cc496e48b65...  282.0  ...    0.0   \n",
       "2  8f6b3ff512a001e0d1988c6cd888ef8c74112fb71117e5...  288.0  ...    0.0   \n",
       "3  36684976be1f529e6e2a32c9edab4cf8e364b2b916ae2c...  375.0  ...    0.0   \n",
       "4  379166ff4a62dac343b4b734188aa618716cc496e48b65...  406.0  ...    0.0   \n",
       "\n",
       "     scity  stscd  ovrlt  flbmk  hcefg  csmcu  csmam  flg_3dsmk  label  \n",
       "0  15759.0    NaN      0      0    6.0   70.0   1529          0      0  \n",
       "1  15759.0    NaN      0      0    8.0   70.0    101          0      0  \n",
       "2  15759.0    NaN      0      0    6.0   70.0    116          0      0  \n",
       "3  15759.0    NaN      0      0    6.0   70.0   1683          0      0  \n",
       "4  15759.0    NaN      0      0    6.0   70.0     14          0      0  \n",
       "\n",
       "[5 rows x 26 columns]"
      ]
     },
     "execution_count": 3,
     "metadata": {},
     "output_type": "execute_result"
    }
   ],
   "source": [
    "df = pd.read_csv('../../data/training.csv')\n",
    "df.head()"
   ]
  },
  {
   "cell_type": "code",
   "execution_count": 4,
   "metadata": {},
   "outputs": [
    {
     "data": {
      "text/plain": [
       "label\n",
       "0    8656497\n",
       "1      32029\n",
       "Name: count, dtype: int64"
      ]
     },
     "execution_count": 4,
     "metadata": {},
     "output_type": "execute_result"
    }
   ],
   "source": [
    "df['label'].value_counts()"
   ]
  },
  {
   "cell_type": "markdown",
   "metadata": {},
   "source": [
    "# locdt loctm\n",
    "Normalize loctm, for example 120000 => 0.5"
   ]
  },
  {
   "cell_type": "code",
   "execution_count": 5,
   "metadata": {},
   "outputs": [],
   "source": [
    "df['normalized_loctm'] = df['loctm'] // 10000 * 3600 + (df['loctm'] % 10000)//100 * 60 + df['loctm'] % 100\n",
    "scaler = MinMaxScaler()\n",
    "df['normalized_loctm'] = scaler.fit_transform(df['normalized_loctm'].values.reshape(-1, 1))\n",
    "#df['normalized_loctm']=(df['normalized_loctm']-df['normalized_loctm'].min())/(df['normalized_loctm'].max()-df['normalized_loctm'].min())"
   ]
  },
  {
   "cell_type": "code",
   "execution_count": 6,
   "metadata": {},
   "outputs": [
    {
     "data": {
      "text/plain": [
       "159903     0.300374\n",
       "280986     0.300374\n",
       "796157     0.300374\n",
       "842496     0.300374\n",
       "929400     0.300374\n",
       "1008015    0.300374\n",
       "1095361    0.300374\n",
       "1119909    0.300374\n",
       "1245997    0.300374\n",
       "1473137    0.300374\n",
       "2045789    0.300374\n",
       "2152061    0.300374\n",
       "2336443    0.300374\n",
       "2493239    0.300374\n",
       "2750654    0.300374\n",
       "2775286    0.300374\n",
       "3011176    0.300374\n",
       "3041116    0.300374\n",
       "3049547    0.300374\n",
       "3078384    0.300374\n",
       "3167224    0.300374\n",
       "3181486    0.300374\n",
       "3239197    0.300374\n",
       "3528567    0.300374\n",
       "3607408    0.300374\n",
       "3676503    0.300374\n",
       "4203422    0.300374\n",
       "4222355    0.300374\n",
       "4384338    0.300374\n",
       "4660831    0.300374\n",
       "5134638    0.300374\n",
       "5247071    0.300374\n",
       "5583921    0.300374\n",
       "5648670    0.300374\n",
       "5798173    0.300374\n",
       "5835314    0.300374\n",
       "5852533    0.300374\n",
       "6060409    0.300374\n",
       "6079382    0.300374\n",
       "6158772    0.300374\n",
       "6246404    0.300374\n",
       "6443213    0.300374\n",
       "6446069    0.300374\n",
       "6493078    0.300374\n",
       "6763543    0.300374\n",
       "7133801    0.300374\n",
       "7720996    0.300374\n",
       "7913468    0.300374\n",
       "8297658    0.300374\n",
       "8379551    0.300374\n",
       "8627783    0.300374\n",
       "Name: normalized_loctm, dtype: float64"
      ]
     },
     "execution_count": 6,
     "metadata": {},
     "output_type": "execute_result"
    }
   ],
   "source": [
    "df[df['loctm']==71232]['normalized_loctm']"
   ]
  },
  {
   "cell_type": "code",
   "execution_count": 7,
   "metadata": {},
   "outputs": [
    {
     "data": {
      "text/html": [
       "<div>\n",
       "<style scoped>\n",
       "    .dataframe tbody tr th:only-of-type {\n",
       "        vertical-align: middle;\n",
       "    }\n",
       "\n",
       "    .dataframe tbody tr th {\n",
       "        vertical-align: top;\n",
       "    }\n",
       "\n",
       "    .dataframe thead th {\n",
       "        text-align: right;\n",
       "    }\n",
       "</style>\n",
       "<table border=\"1\" class=\"dataframe\">\n",
       "  <thead>\n",
       "    <tr style=\"text-align: right;\">\n",
       "      <th></th>\n",
       "      <th>txkey</th>\n",
       "      <th>loctm</th>\n",
       "      <th>locdt</th>\n",
       "      <th>chid</th>\n",
       "      <th>cano</th>\n",
       "      <th>contp</th>\n",
       "      <th>etymd</th>\n",
       "      <th>mchno</th>\n",
       "      <th>acqic</th>\n",
       "      <th>mcc</th>\n",
       "      <th>...</th>\n",
       "      <th>stocn</th>\n",
       "      <th>scity</th>\n",
       "      <th>stscd</th>\n",
       "      <th>ovrlt</th>\n",
       "      <th>flbmk</th>\n",
       "      <th>hcefg</th>\n",
       "      <th>csmcu</th>\n",
       "      <th>csmam</th>\n",
       "      <th>flg_3dsmk</th>\n",
       "      <th>label</th>\n",
       "    </tr>\n",
       "  </thead>\n",
       "  <tbody>\n",
       "    <tr>\n",
       "      <th>0</th>\n",
       "      <td>1c09727c939eb69ead2a4ce4072b8aa18992a64f01fcb4...</td>\n",
       "      <td>0.429311</td>\n",
       "      <td>46</td>\n",
       "      <td>84d2dc85d4da6a7fa284a11a4290d7e9a969163dcb4d82...</td>\n",
       "      <td>3dd5bf1e29e5e0baa789ce692fe5dbd34ff05173acf351...</td>\n",
       "      <td>5</td>\n",
       "      <td>1.0</td>\n",
       "      <td>cad752c5d05d2bdcc30d64fa4e68404c2d1f7be5d14d52...</td>\n",
       "      <td>8f6b3ff512a001e0d1988c6cd888ef8c74112fb71117e5...</td>\n",
       "      <td>375.0</td>\n",
       "      <td>...</td>\n",
       "      <td>0.0</td>\n",
       "      <td>15759.0</td>\n",
       "      <td>NaN</td>\n",
       "      <td>0</td>\n",
       "      <td>0</td>\n",
       "      <td>6.0</td>\n",
       "      <td>70.0</td>\n",
       "      <td>1529</td>\n",
       "      <td>0</td>\n",
       "      <td>0</td>\n",
       "    </tr>\n",
       "    <tr>\n",
       "      <th>1</th>\n",
       "      <td>2043f245a93bc6328dac964d6dbc89f13a0346062c194d...</td>\n",
       "      <td>0.371636</td>\n",
       "      <td>17</td>\n",
       "      <td>9a8cf5d0afd729cb7876f6b3172152c7c9c6fabd40515c...</td>\n",
       "      <td>8cb13f9b38c7bbc02d210e580dcbbcbb6c95bf18bc3320...</td>\n",
       "      <td>5</td>\n",
       "      <td>8.0</td>\n",
       "      <td>4356c6642ef6e837543b577c7ee3ffa92b4b8fcfb57254...</td>\n",
       "      <td>379166ff4a62dac343b4b734188aa618716cc496e48b65...</td>\n",
       "      <td>282.0</td>\n",
       "      <td>...</td>\n",
       "      <td>0.0</td>\n",
       "      <td>15759.0</td>\n",
       "      <td>NaN</td>\n",
       "      <td>0</td>\n",
       "      <td>0</td>\n",
       "      <td>8.0</td>\n",
       "      <td>70.0</td>\n",
       "      <td>101</td>\n",
       "      <td>0</td>\n",
       "      <td>0</td>\n",
       "    </tr>\n",
       "    <tr>\n",
       "      <th>2</th>\n",
       "      <td>e4853710290a8409279f3279f8032ae670824bd19aa173...</td>\n",
       "      <td>0.893540</td>\n",
       "      <td>44</td>\n",
       "      <td>dcc1389a5765d6f53152cf85970fbe78a83fd3d1c299b0...</td>\n",
       "      <td>1ec32868e5e1d5ff8df56737c2a91326cbfe3364382de6...</td>\n",
       "      <td>5</td>\n",
       "      <td>4.0</td>\n",
       "      <td>5b7eff061f8896aac4339ea35c25f8bb956a43bc486460...</td>\n",
       "      <td>8f6b3ff512a001e0d1988c6cd888ef8c74112fb71117e5...</td>\n",
       "      <td>288.0</td>\n",
       "      <td>...</td>\n",
       "      <td>0.0</td>\n",
       "      <td>15759.0</td>\n",
       "      <td>NaN</td>\n",
       "      <td>0</td>\n",
       "      <td>0</td>\n",
       "      <td>6.0</td>\n",
       "      <td>70.0</td>\n",
       "      <td>116</td>\n",
       "      <td>0</td>\n",
       "      <td>0</td>\n",
       "    </tr>\n",
       "    <tr>\n",
       "      <th>3</th>\n",
       "      <td>74d811b1dbc28b22b73ba2c79bb6033791d913b6d27a25...</td>\n",
       "      <td>0.435445</td>\n",
       "      <td>42</td>\n",
       "      <td>577f2329d1eccd59ba0abaf6113bb78dcd575badcbc57f...</td>\n",
       "      <td>4359dca1ac6a835eceb2bc0dd6b0b710f030c3499126e9...</td>\n",
       "      <td>5</td>\n",
       "      <td>1.0</td>\n",
       "      <td>cad752c5d05d2bdcc30d64fa4e68404c2d1f7be5d14d52...</td>\n",
       "      <td>36684976be1f529e6e2a32c9edab4cf8e364b2b916ae2c...</td>\n",
       "      <td>375.0</td>\n",
       "      <td>...</td>\n",
       "      <td>0.0</td>\n",
       "      <td>15759.0</td>\n",
       "      <td>NaN</td>\n",
       "      <td>0</td>\n",
       "      <td>0</td>\n",
       "      <td>6.0</td>\n",
       "      <td>70.0</td>\n",
       "      <td>1683</td>\n",
       "      <td>0</td>\n",
       "      <td>0</td>\n",
       "    </tr>\n",
       "    <tr>\n",
       "      <th>4</th>\n",
       "      <td>68ca182343969d429d79a34e532bc1ca7a3cc032c2ad81...</td>\n",
       "      <td>0.790021</td>\n",
       "      <td>31</td>\n",
       "      <td>fff6b4126c40620b1fbb11d4de02cd67b9e95071caa40b...</td>\n",
       "      <td>a3837f2905383f235a72679482c5f02e40f2a8ca29750d...</td>\n",
       "      <td>5</td>\n",
       "      <td>5.0</td>\n",
       "      <td>50d5b02ce3fc88723438c2a29cfdb04be4a1a11280ddb6...</td>\n",
       "      <td>379166ff4a62dac343b4b734188aa618716cc496e48b65...</td>\n",
       "      <td>406.0</td>\n",
       "      <td>...</td>\n",
       "      <td>0.0</td>\n",
       "      <td>15759.0</td>\n",
       "      <td>NaN</td>\n",
       "      <td>0</td>\n",
       "      <td>0</td>\n",
       "      <td>6.0</td>\n",
       "      <td>70.0</td>\n",
       "      <td>14</td>\n",
       "      <td>0</td>\n",
       "      <td>0</td>\n",
       "    </tr>\n",
       "  </tbody>\n",
       "</table>\n",
       "<p>5 rows × 26 columns</p>\n",
       "</div>"
      ],
      "text/plain": [
       "                                               txkey     loctm  locdt  \\\n",
       "0  1c09727c939eb69ead2a4ce4072b8aa18992a64f01fcb4...  0.429311     46   \n",
       "1  2043f245a93bc6328dac964d6dbc89f13a0346062c194d...  0.371636     17   \n",
       "2  e4853710290a8409279f3279f8032ae670824bd19aa173...  0.893540     44   \n",
       "3  74d811b1dbc28b22b73ba2c79bb6033791d913b6d27a25...  0.435445     42   \n",
       "4  68ca182343969d429d79a34e532bc1ca7a3cc032c2ad81...  0.790021     31   \n",
       "\n",
       "                                                chid  \\\n",
       "0  84d2dc85d4da6a7fa284a11a4290d7e9a969163dcb4d82...   \n",
       "1  9a8cf5d0afd729cb7876f6b3172152c7c9c6fabd40515c...   \n",
       "2  dcc1389a5765d6f53152cf85970fbe78a83fd3d1c299b0...   \n",
       "3  577f2329d1eccd59ba0abaf6113bb78dcd575badcbc57f...   \n",
       "4  fff6b4126c40620b1fbb11d4de02cd67b9e95071caa40b...   \n",
       "\n",
       "                                                cano  contp  etymd  \\\n",
       "0  3dd5bf1e29e5e0baa789ce692fe5dbd34ff05173acf351...      5    1.0   \n",
       "1  8cb13f9b38c7bbc02d210e580dcbbcbb6c95bf18bc3320...      5    8.0   \n",
       "2  1ec32868e5e1d5ff8df56737c2a91326cbfe3364382de6...      5    4.0   \n",
       "3  4359dca1ac6a835eceb2bc0dd6b0b710f030c3499126e9...      5    1.0   \n",
       "4  a3837f2905383f235a72679482c5f02e40f2a8ca29750d...      5    5.0   \n",
       "\n",
       "                                               mchno  \\\n",
       "0  cad752c5d05d2bdcc30d64fa4e68404c2d1f7be5d14d52...   \n",
       "1  4356c6642ef6e837543b577c7ee3ffa92b4b8fcfb57254...   \n",
       "2  5b7eff061f8896aac4339ea35c25f8bb956a43bc486460...   \n",
       "3  cad752c5d05d2bdcc30d64fa4e68404c2d1f7be5d14d52...   \n",
       "4  50d5b02ce3fc88723438c2a29cfdb04be4a1a11280ddb6...   \n",
       "\n",
       "                                               acqic    mcc  ...  stocn  \\\n",
       "0  8f6b3ff512a001e0d1988c6cd888ef8c74112fb71117e5...  375.0  ...    0.0   \n",
       "1  379166ff4a62dac343b4b734188aa618716cc496e48b65...  282.0  ...    0.0   \n",
       "2  8f6b3ff512a001e0d1988c6cd888ef8c74112fb71117e5...  288.0  ...    0.0   \n",
       "3  36684976be1f529e6e2a32c9edab4cf8e364b2b916ae2c...  375.0  ...    0.0   \n",
       "4  379166ff4a62dac343b4b734188aa618716cc496e48b65...  406.0  ...    0.0   \n",
       "\n",
       "     scity  stscd  ovrlt  flbmk  hcefg  csmcu  csmam  flg_3dsmk  label  \n",
       "0  15759.0    NaN      0      0    6.0   70.0   1529          0      0  \n",
       "1  15759.0    NaN      0      0    8.0   70.0    101          0      0  \n",
       "2  15759.0    NaN      0      0    6.0   70.0    116          0      0  \n",
       "3  15759.0    NaN      0      0    6.0   70.0   1683          0      0  \n",
       "4  15759.0    NaN      0      0    6.0   70.0     14          0      0  \n",
       "\n",
       "[5 rows x 26 columns]"
      ]
     },
     "execution_count": 7,
     "metadata": {},
     "output_type": "execute_result"
    }
   ],
   "source": [
    "normalized_loctm = df['normalized_loctm']\n",
    "df.drop(['loctm', 'normalized_loctm'], axis=1, inplace=True)\n",
    "df.insert(1, 'loctm', normalized_loctm)\n",
    "df.head()"
   ]
  },
  {
   "cell_type": "markdown",
   "metadata": {},
   "source": [
    "# Original"
   ]
  },
  {
   "cell_type": "code",
   "execution_count": 8,
   "metadata": {},
   "outputs": [
    {
     "name": "stdout",
     "output_type": "stream",
     "text": [
      "No Frauds 99.63 % of the dataset\n",
      "Frauds 0.37 % of the dataset\n",
      "Train: [1722669 1722851 1722891 ... 8688523 8688524 8688525] Test: [      0       1       2 ... 1737758 1737759 1737760]\n",
      "Train: [      0       1       2 ... 8688523 8688524 8688525] Test: [1722669 1722851 1722891 ... 3475467 3475468 3475469]\n",
      "Train: [      0       1       2 ... 8688523 8688524 8688525] Test: [3461625 3461631 3461936 ... 5213249 5213250 5213251]\n",
      "Train: [      0       1       2 ... 8688523 8688524 8688525] Test: [5175924 5176029 5176360 ... 6950945 6950946 6950947]\n",
      "Train: [      0       1       2 ... 6950945 6950946 6950947] Test: [6919499 6919679 6919898 ... 8688523 8688524 8688525]\n"
     ]
    }
   ],
   "source": [
    "from sklearn.model_selection import train_test_split\n",
    "from sklearn.model_selection import StratifiedShuffleSplit, StratifiedKFold\n",
    "\n",
    "\n",
    "print('No Frauds', round(df['label'].value_counts()[0]/len(df) * 100,2), '% of the dataset')\n",
    "print('Frauds', round(df['label'].value_counts()[1]/len(df) * 100,2), '% of the dataset')\n",
    "\n",
    "X = df.drop('label', axis=1)\n",
    "y = df['label']\n",
    "\n",
    "sss = StratifiedKFold(n_splits=5, random_state=None, shuffle=False)\n",
    "\n",
    "for train_index, test_index in sss.split(X, y):\n",
    "    print(\"Train:\", train_index, \"Test:\", test_index)\n",
    "    original_Xtrain, original_Xtest = X.iloc[train_index], X.iloc[test_index]\n",
    "    original_ytrain, original_ytest = y.iloc[train_index], y.iloc[test_index]\n",
    "\n",
    "\n",
    "\n",
    "# See if both the train and test label distribution are similarly distributed\n",
    "# train_unique_label, train_counts_label = np.unique(original_ytrain, return_counts=True)\n",
    "# test_unique_label, test_counts_label = np.unique(original_ytest, return_counts=True)\n",
    "# print('-' * 100)\n",
    "\n",
    "# print('Label Distributions: \\n')\n",
    "# print(train_counts_label/ len(original_ytrain))\n",
    "# print(test_counts_label/ len(original_ytest))"
   ]
  },
  {
   "cell_type": "code",
   "execution_count": 9,
   "metadata": {},
   "outputs": [],
   "source": [
    "# from sklearn.utils import resample\n",
    "\n",
    "# original_data = pd.concat([original_Xtrain,  original_ytrain], axis=1)\n",
    "# min_class_size = len(original_data[original_data['label']==1])\n",
    "\n",
    "# maj_class = original_data[original_data['label']==0]\n",
    "# min_class = original_data[original_data['label']==1]\n",
    "\n",
    "# min_samples = int(1000000 * (min_class_size/len(original_data)))\n",
    "# maj_samples = 1000000 - min_samples\n",
    "\n",
    "# maj = resample(maj_class, replace=False, n_samples=maj_samples, random_state=42)\n",
    "# min = resample(min_class, replace=False, n_samples=min_samples, random_state=42)\n",
    "\n",
    "# stratified = pd.concat([maj, min])\n",
    "# original_Xtrain = stratified.drop('label', axis=1)\n",
    "# original_ytrain = stratified['label']\n"
   ]
  },
  {
   "cell_type": "markdown",
   "metadata": {},
   "source": [
    "# Transform object values"
   ]
  },
  {
   "cell_type": "code",
   "execution_count": 10,
   "metadata": {},
   "outputs": [
    {
     "name": "stderr",
     "output_type": "stream",
     "text": [
      "/tmp/ipykernel_13174/199024846.py:6: SettingWithCopyWarning: \n",
      "A value is trying to be set on a copy of a slice from a DataFrame.\n",
      "Try using .loc[row_indexer,col_indexer] = value instead\n",
      "\n",
      "See the caveats in the documentation: https://pandas.pydata.org/pandas-docs/stable/user_guide/indexing.html#returning-a-view-versus-a-copy\n",
      "  original_Xtrain[cats] = encoded_data\n"
     ]
    }
   ],
   "source": [
    "cats = ['txkey', 'chid', 'cano', 'mchno', 'acqic']\n",
    "\n",
    "ord_encoder = OrdinalEncoder(handle_unknown='use_encoded_value', unknown_value=-1)\n",
    "encoded_data = ord_encoder.fit_transform(original_Xtrain[cats])\n",
    "\n",
    "original_Xtrain[cats] = encoded_data"
   ]
  },
  {
   "cell_type": "code",
   "execution_count": 11,
   "metadata": {},
   "outputs": [
    {
     "data": {
      "text/plain": [
       "txkey        float64\n",
       "loctm        float64\n",
       "locdt          int64\n",
       "chid         float64\n",
       "cano         float64\n",
       "contp          int64\n",
       "etymd        float64\n",
       "mchno        float64\n",
       "acqic        float64\n",
       "mcc          float64\n",
       "conam        float64\n",
       "ecfg           int64\n",
       "insfg          int64\n",
       "iterm        float64\n",
       "bnsfg          int64\n",
       "flam1          int64\n",
       "stocn        float64\n",
       "scity        float64\n",
       "stscd        float64\n",
       "ovrlt          int64\n",
       "flbmk          int64\n",
       "hcefg        float64\n",
       "csmcu        float64\n",
       "csmam          int64\n",
       "flg_3dsmk      int64\n",
       "dtype: object"
      ]
     },
     "execution_count": 11,
     "metadata": {},
     "output_type": "execute_result"
    }
   ],
   "source": [
    "original_Xtrain.dtypes"
   ]
  },
  {
   "cell_type": "markdown",
   "metadata": {},
   "source": [
    "# Fill nan values"
   ]
  },
  {
   "cell_type": "code",
   "execution_count": 12,
   "metadata": {},
   "outputs": [
    {
     "name": "stderr",
     "output_type": "stream",
     "text": [
      "/tmp/ipykernel_13174/3629092023.py:6: SettingWithCopyWarning: \n",
      "A value is trying to be set on a copy of a slice from a DataFrame.\n",
      "Try using .loc[row_indexer,col_indexer] = value instead\n",
      "\n",
      "See the caveats in the documentation: https://pandas.pydata.org/pandas-docs/stable/user_guide/indexing.html#returning-a-view-versus-a-copy\n",
      "  original_Xtrain[na] = imputed_data\n"
     ]
    }
   ],
   "source": [
    "na = ['etymd', 'mcc', 'stocn', 'scity', 'stscd', 'hcefg', 'csmcu']\n",
    "\n",
    "simple_imputer = SimpleImputer(strategy=\"most_frequent\")\n",
    "imputed_data = simple_imputer.fit_transform(original_Xtrain[na])\n",
    "\n",
    "original_Xtrain[na] = imputed_data"
   ]
  },
  {
   "cell_type": "code",
   "execution_count": 13,
   "metadata": {},
   "outputs": [
    {
     "data": {
      "text/plain": [
       "txkey        0\n",
       "loctm        0\n",
       "locdt        0\n",
       "chid         0\n",
       "cano         0\n",
       "contp        0\n",
       "etymd        0\n",
       "mchno        0\n",
       "acqic        0\n",
       "mcc          0\n",
       "conam        0\n",
       "ecfg         0\n",
       "insfg        0\n",
       "iterm        0\n",
       "bnsfg        0\n",
       "flam1        0\n",
       "stocn        0\n",
       "scity        0\n",
       "stscd        0\n",
       "ovrlt        0\n",
       "flbmk        0\n",
       "hcefg        0\n",
       "csmcu        0\n",
       "csmam        0\n",
       "flg_3dsmk    0\n",
       "dtype: int64"
      ]
     },
     "execution_count": 13,
     "metadata": {},
     "output_type": "execute_result"
    }
   ],
   "source": [
    "original_Xtrain.isna().sum()"
   ]
  },
  {
   "cell_type": "markdown",
   "metadata": {},
   "source": [
    "# Feature selection\n",
    "### numeric features: \n",
    "locdt, loctm, conam, iterm, flam1, csmam"
   ]
  },
  {
   "cell_type": "markdown",
   "metadata": {},
   "source": [
    "## First see the relationship between 3 money-related features\n",
    "\n",
    "## Summary\n",
    "* conma and flam1 are highly correlated so we choose one"
   ]
  },
  {
   "cell_type": "code",
   "execution_count": 14,
   "metadata": {},
   "outputs": [
    {
     "data": {
      "text/html": [
       "<div>\n",
       "<style scoped>\n",
       "    .dataframe tbody tr th:only-of-type {\n",
       "        vertical-align: middle;\n",
       "    }\n",
       "\n",
       "    .dataframe tbody tr th {\n",
       "        vertical-align: top;\n",
       "    }\n",
       "\n",
       "    .dataframe thead th {\n",
       "        text-align: right;\n",
       "    }\n",
       "</style>\n",
       "<table border=\"1\" class=\"dataframe\">\n",
       "  <thead>\n",
       "    <tr style=\"text-align: right;\">\n",
       "      <th></th>\n",
       "      <th>conam</th>\n",
       "      <th>flam1</th>\n",
       "      <th>csmam</th>\n",
       "    </tr>\n",
       "  </thead>\n",
       "  <tbody>\n",
       "    <tr>\n",
       "      <th>conam</th>\n",
       "      <td>1.000000</td>\n",
       "      <td>0.999967</td>\n",
       "      <td>0.099667</td>\n",
       "    </tr>\n",
       "    <tr>\n",
       "      <th>flam1</th>\n",
       "      <td>0.999967</td>\n",
       "      <td>1.000000</td>\n",
       "      <td>0.099666</td>\n",
       "    </tr>\n",
       "    <tr>\n",
       "      <th>csmam</th>\n",
       "      <td>0.099667</td>\n",
       "      <td>0.099666</td>\n",
       "      <td>1.000000</td>\n",
       "    </tr>\n",
       "  </tbody>\n",
       "</table>\n",
       "</div>"
      ],
      "text/plain": [
       "          conam     flam1     csmam\n",
       "conam  1.000000  0.999967  0.099667\n",
       "flam1  0.999967  1.000000  0.099666\n",
       "csmam  0.099667  0.099666  1.000000"
      ]
     },
     "execution_count": 14,
     "metadata": {},
     "output_type": "execute_result"
    }
   ],
   "source": [
    "original_Xtrain[['conam', 'flam1', 'csmam']].corr()"
   ]
  },
  {
   "cell_type": "code",
   "execution_count": 15,
   "metadata": {},
   "outputs": [],
   "source": [
    "num_attribs = ['locdt', 'loctm', 'conam', 'iterm', 'csmam']"
   ]
  },
  {
   "cell_type": "markdown",
   "metadata": {},
   "source": [
    "### categorical features\n",
    "chid, cano, contp, etymd, mchno, acqic, mcc, ecfg, insfg, bnsfg, stocn, scity, stscd, ovrlt, flbmk, hcefg, csmcu, flg_3dsmk"
   ]
  },
  {
   "cell_type": "markdown",
   "metadata": {},
   "source": [
    "## See if stocn and scity are correlated\n",
    "### Summary\n",
    "* p-value < 0.05\n",
    "* "
   ]
  },
  {
   "cell_type": "code",
   "execution_count": 16,
   "metadata": {},
   "outputs": [
    {
     "data": {
      "text/plain": [
       "(array([5.77774482e+08]), array([0.]))"
      ]
     },
     "execution_count": 16,
     "metadata": {},
     "output_type": "execute_result"
    }
   ],
   "source": [
    "from sklearn.feature_selection import chi2\n",
    "\n",
    "chi2(original_Xtrain['stocn'].values.reshape(-1, 1), original_Xtrain['scity'])"
   ]
  },
  {
   "cell_type": "code",
   "execution_count": 17,
   "metadata": {},
   "outputs": [],
   "source": [
    "# country_city = pd.crosstab(original_Xtrain['stocn'], original_Xtrain['scity'])\n",
    "\n",
    "# sns.heatmap(country_city, annot=True, fmt='d', cmap='YlGnBu', cbar=False)\n",
    "# plt.xlabel('City')\n",
    "# plt.ylabel('Country')\n",
    "# plt.title('City Distribution by Country')\n",
    "# plt.show()"
   ]
  },
  {
   "cell_type": "code",
   "execution_count": 18,
   "metadata": {},
   "outputs": [
    {
     "data": {
      "text/html": [
       "<style>#sk-container-id-1 {color: black;}#sk-container-id-1 pre{padding: 0;}#sk-container-id-1 div.sk-toggleable {background-color: white;}#sk-container-id-1 label.sk-toggleable__label {cursor: pointer;display: block;width: 100%;margin-bottom: 0;padding: 0.3em;box-sizing: border-box;text-align: center;}#sk-container-id-1 label.sk-toggleable__label-arrow:before {content: \"▸\";float: left;margin-right: 0.25em;color: #696969;}#sk-container-id-1 label.sk-toggleable__label-arrow:hover:before {color: black;}#sk-container-id-1 div.sk-estimator:hover label.sk-toggleable__label-arrow:before {color: black;}#sk-container-id-1 div.sk-toggleable__content {max-height: 0;max-width: 0;overflow: hidden;text-align: left;background-color: #f0f8ff;}#sk-container-id-1 div.sk-toggleable__content pre {margin: 0.2em;color: black;border-radius: 0.25em;background-color: #f0f8ff;}#sk-container-id-1 input.sk-toggleable__control:checked~div.sk-toggleable__content {max-height: 200px;max-width: 100%;overflow: auto;}#sk-container-id-1 input.sk-toggleable__control:checked~label.sk-toggleable__label-arrow:before {content: \"▾\";}#sk-container-id-1 div.sk-estimator input.sk-toggleable__control:checked~label.sk-toggleable__label {background-color: #d4ebff;}#sk-container-id-1 div.sk-label input.sk-toggleable__control:checked~label.sk-toggleable__label {background-color: #d4ebff;}#sk-container-id-1 input.sk-hidden--visually {border: 0;clip: rect(1px 1px 1px 1px);clip: rect(1px, 1px, 1px, 1px);height: 1px;margin: -1px;overflow: hidden;padding: 0;position: absolute;width: 1px;}#sk-container-id-1 div.sk-estimator {font-family: monospace;background-color: #f0f8ff;border: 1px dotted black;border-radius: 0.25em;box-sizing: border-box;margin-bottom: 0.5em;}#sk-container-id-1 div.sk-estimator:hover {background-color: #d4ebff;}#sk-container-id-1 div.sk-parallel-item::after {content: \"\";width: 100%;border-bottom: 1px solid gray;flex-grow: 1;}#sk-container-id-1 div.sk-label:hover label.sk-toggleable__label {background-color: #d4ebff;}#sk-container-id-1 div.sk-serial::before {content: \"\";position: absolute;border-left: 1px solid gray;box-sizing: border-box;top: 0;bottom: 0;left: 50%;z-index: 0;}#sk-container-id-1 div.sk-serial {display: flex;flex-direction: column;align-items: center;background-color: white;padding-right: 0.2em;padding-left: 0.2em;position: relative;}#sk-container-id-1 div.sk-item {position: relative;z-index: 1;}#sk-container-id-1 div.sk-parallel {display: flex;align-items: stretch;justify-content: center;background-color: white;position: relative;}#sk-container-id-1 div.sk-item::before, #sk-container-id-1 div.sk-parallel-item::before {content: \"\";position: absolute;border-left: 1px solid gray;box-sizing: border-box;top: 0;bottom: 0;left: 50%;z-index: -1;}#sk-container-id-1 div.sk-parallel-item {display: flex;flex-direction: column;z-index: 1;position: relative;background-color: white;}#sk-container-id-1 div.sk-parallel-item:first-child::after {align-self: flex-end;width: 50%;}#sk-container-id-1 div.sk-parallel-item:last-child::after {align-self: flex-start;width: 50%;}#sk-container-id-1 div.sk-parallel-item:only-child::after {width: 0;}#sk-container-id-1 div.sk-dashed-wrapped {border: 1px dashed gray;margin: 0 0.4em 0.5em 0.4em;box-sizing: border-box;padding-bottom: 0.4em;background-color: white;}#sk-container-id-1 div.sk-label label {font-family: monospace;font-weight: bold;display: inline-block;line-height: 1.2em;}#sk-container-id-1 div.sk-label-container {text-align: center;}#sk-container-id-1 div.sk-container {/* jupyter's `normalize.less` sets `[hidden] { display: none; }` but bootstrap.min.css set `[hidden] { display: none !important; }` so we also need the `!important` here to be able to override the default hidden behavior on the sphinx rendered scikit-learn.org. See: https://github.com/scikit-learn/scikit-learn/issues/21755 */display: inline-block !important;position: relative;}#sk-container-id-1 div.sk-text-repr-fallback {display: none;}</style><div id=\"sk-container-id-1\" class=\"sk-top-container\"><div class=\"sk-text-repr-fallback\"><pre>SelectKBest(k=8, score_func=&lt;function chi2 at 0x7f3bfc8be200&gt;)</pre><b>In a Jupyter environment, please rerun this cell to show the HTML representation or trust the notebook. <br />On GitHub, the HTML representation is unable to render, please try loading this page with nbviewer.org.</b></div><div class=\"sk-container\" hidden><div class=\"sk-item\"><div class=\"sk-estimator sk-toggleable\"><input class=\"sk-toggleable__control sk-hidden--visually\" id=\"sk-estimator-id-1\" type=\"checkbox\" checked><label for=\"sk-estimator-id-1\" class=\"sk-toggleable__label sk-toggleable__label-arrow\">SelectKBest</label><div class=\"sk-toggleable__content\"><pre>SelectKBest(k=8, score_func=&lt;function chi2 at 0x7f3bfc8be200&gt;)</pre></div></div></div></div></div>"
      ],
      "text/plain": [
       "SelectKBest(k=8, score_func=<function chi2 at 0x7f3bfc8be200>)"
      ]
     },
     "execution_count": 18,
     "metadata": {},
     "output_type": "execute_result"
    }
   ],
   "source": [
    "from sklearn.feature_selection import SelectKBest\n",
    "\n",
    "\n",
    "cat_attribs = ['chid', 'cano', 'contp', 'etymd', 'mchno', 'acqic', 'mcc', 'ecfg', 'insfg', 'bnsfg', 'scity', 'stscd', \n",
    "               'ovrlt', 'flbmk', 'hcefg', 'csmcu', 'flg_3dsmk']\n",
    "cat_original_Xtrain = original_Xtrain[cat_attribs]\n",
    "selector = SelectKBest(chi2, k=len(cat_attribs)//2)\n",
    "selector.fit(cat_original_Xtrain, original_ytrain)"
   ]
  },
  {
   "cell_type": "code",
   "execution_count": 19,
   "metadata": {},
   "outputs": [],
   "source": [
    "cols_idxs = selector.get_support(indices=True)\n",
    "new_cat_original_Xtrain = cat_original_Xtrain.iloc[:,cols_idxs]"
   ]
  },
  {
   "cell_type": "code",
   "execution_count": 20,
   "metadata": {},
   "outputs": [
    {
     "data": {
      "text/plain": [
       "Index(['chid', 'cano', 'mchno', 'acqic', 'mcc', 'ecfg', 'scity', 'csmcu',\n",
       "       'locdt', 'loctm', 'conam', 'iterm', 'csmam'],\n",
       "      dtype='object')"
      ]
     },
     "execution_count": 20,
     "metadata": {},
     "output_type": "execute_result"
    }
   ],
   "source": [
    "selected_original_Xtrain = pd.concat([new_cat_original_Xtrain, original_Xtrain[num_attribs]], axis=1)\n",
    "selected_columns = selected_original_Xtrain.columns\n",
    "selected_columns"
   ]
  },
  {
   "cell_type": "code",
   "execution_count": 22,
   "metadata": {},
   "outputs": [
    {
     "data": {
      "text/plain": [
       "['txkey',\n",
       " 'contp',\n",
       " 'etymd',\n",
       " 'insfg',\n",
       " 'bnsfg',\n",
       " 'flam1',\n",
       " 'stocn',\n",
       " 'stscd',\n",
       " 'ovrlt',\n",
       " 'flbmk',\n",
       " 'hcefg',\n",
       " 'flg_3dsmk',\n",
       " 'label']"
      ]
     },
     "execution_count": 22,
     "metadata": {},
     "output_type": "execute_result"
    }
   ],
   "source": [
    "[col for col in df.columns if col not in selected_columns]"
   ]
  },
  {
   "cell_type": "markdown",
   "metadata": {},
   "source": [
    "# Smote"
   ]
  },
  {
   "cell_type": "code",
   "execution_count": 20,
   "metadata": {},
   "outputs": [
    {
     "name": "stdout",
     "output_type": "stream",
     "text": [
      "Length of X (train): 1000000 | Length of y (train): 1000000\n",
      "Length of X (test): 1737705 | Length of y (test): 1737705\n"
     ]
    }
   ],
   "source": [
    "from imblearn.over_sampling import SMOTE\n",
    "from sklearn.model_selection import train_test_split, RandomizedSearchCV\n",
    "from sklearn.neighbors import KNeighborsClassifier\n",
    "from sklearn.model_selection import StratifiedShuffleSplit\n",
    "from imblearn.pipeline import make_pipeline as imbalanced_make_pipeline\n",
    "from joblib import Parallel, delayed\n",
    "from sklearn.metrics import roc_auc_score\n",
    "from sklearn.metrics import recall_score, precision_score, f1_score, accuracy_score\n",
    "\n",
    "print('Length of X (train): {} | Length of y (train): {}'.format(len(original_Xtrain), len(original_ytrain)))\n",
    "print('Length of X (test): {} | Length of y (test): {}'.format(len(original_Xtest), len(original_ytest)))\n",
    "\n",
    "# List to append the score and then find the average\n",
    "accuracy_lst = []\n",
    "precision_lst = []\n",
    "recall_lst = []\n",
    "f1_lst = []\n",
    "auc_lst = []\n",
    "\n",
    "# Classifier with optimal parameters\n",
    "# log_reg_sm = grid_log_reg.best_estimator_\n",
    "\n",
    "selected_original_Xtrain = selected_original_Xtrain.values\n",
    "selected_original_Xtest = original_Xtest[selected_columns].values\n",
    "original_ytrain = original_ytrain.values\n",
    "original_ytest = original_ytest.values\n",
    "\n"
   ]
  },
  {
   "cell_type": "code",
   "execution_count": null,
   "metadata": {},
   "outputs": [
    {
     "name": "stdout",
     "output_type": "stream",
     "text": [
      "0\n"
     ]
    }
   ],
   "source": [
    "# knears_neighbors_sm = KNeighborsClassifier(n_jobs=-1)\n",
    "# knears_params = {\"n_neighbors\": list(range(2,5,1)), 'algorithm': ['auto', 'ball_tree', 'kd_tree', 'brute']}\n",
    "\n",
    "# rand_knears_neighbors = RandomizedSearchCV(KNeighborsClassifier(), knears_params, n_iter=6)\n",
    "from sklearn.linear_model import LogisticRegression\n",
    "from sklearn.tree import DecisionTreeClassifier\n",
    "\n",
    "log_reg_params = {\"penalty\": ['l2'], 'C': [0.01, 0.1, 1, 10, 100]}\n",
    "\n",
    "# rand_log_reg = RandomizedSearchCV(LogisticRegression(max_iter=1000, solver='saga', n_jobs=-1), log_reg_params, n_iter=3, n_jobs=-1)\n",
    "log_reg = LogisticRegression(max_iter=5000, solver='saga', n_jobs=-1)\n",
    "\n",
    "robust_scaler = RobustScaler()\n",
    "\n",
    "\n",
    "for index, (train, test) in enumerate(sss.split(selected_original_Xtrain, original_ytrain)):\n",
    "    print(index)\n",
    "    pipeline = imbalanced_make_pipeline(SMOTE(sampling_strategy=0.5, k_neighbors=3), log_reg) # SMOTE happens during Cross Validation not before..\n",
    "    X_train = robust_scaler.fit_transform(selected_original_Xtrain[train])\n",
    "    model = pipeline.fit(X_train, original_ytrain[train])\n",
    "\n",
    "    X_test = robust_scaler.transform(selected_original_Xtrain[test])\n",
    "    prediction = log_reg.predict(X_test)\n",
    "    \n",
    "    accuracy_lst.append(pipeline.score(selected_original_Xtrain[test], original_ytrain[test]))\n",
    "    precision_lst.append(precision_score(original_ytrain[test], prediction))\n",
    "    recall_lst.append(recall_score(original_ytrain[test], prediction))\n",
    "    f1_lst.append(f1_score(original_ytrain[test], prediction))\n",
    "    auc_lst.append(roc_auc_score(original_ytrain[test], prediction))\n",
    "\n",
    " "
   ]
  },
  {
   "cell_type": "code",
   "execution_count": 24,
   "metadata": {},
   "outputs": [
    {
     "data": {
      "text/plain": [
       "['log_reg_v1.joblib']"
      ]
     },
     "execution_count": 24,
     "metadata": {},
     "output_type": "execute_result"
    }
   ],
   "source": [
    "from joblib import dump, load\n",
    "dump(log_reg, 'log_reg_v1.joblib') "
   ]
  },
  {
   "cell_type": "code",
   "execution_count": 23,
   "metadata": {},
   "outputs": [
    {
     "name": "stdout",
     "output_type": "stream",
     "text": [
      "accuracy 0.67549\n",
      "precision 0.019879553565530818\n",
      "recall 0.7360257103249459\n",
      "f1 0.038712490710340296\n",
      "auc 0.8008778952180711\n"
     ]
    }
   ],
   "source": [
    "print(f'accuracy {np.mean(accuracy_lst)}')\n",
    "print(f'precision {np.mean(precision_lst)}')\n",
    "print(f'recall {np.mean(recall_lst)}')\n",
    "print(f'f1 {np.mean(f1_lst)}')\n",
    "print(f'auc {np.mean(auc_lst)}')"
   ]
  },
  {
   "cell_type": "code",
   "execution_count": 25,
   "metadata": {},
   "outputs": [],
   "source": [
    "to_write = [f'accuracy {np.mean(accuracy_lst)}', f'precision {np.mean(precision_lst)}', f'recall {np.mean(recall_lst)}', f'f1 {np.mean(f1_lst)}', f'auc {np.mean(auc_lst)}']"
   ]
  },
  {
   "cell_type": "code",
   "execution_count": 26,
   "metadata": {},
   "outputs": [],
   "source": [
    "with open('trained_models/log_reg_v1.txt', 'a') as f:\n",
    "    for w in to_write:\n",
    "        f.write(w+'\\n')\n",
    "    "
   ]
  },
  {
   "cell_type": "code",
   "execution_count": null,
   "metadata": {},
   "outputs": [],
   "source": []
  }
 ],
 "metadata": {
  "kernelspec": {
   "display_name": "nlp",
   "language": "python",
   "name": "nlp"
  },
  "language_info": {
   "codemirror_mode": {
    "name": "ipython",
    "version": 3
   },
   "file_extension": ".py",
   "mimetype": "text/x-python",
   "name": "python",
   "nbconvert_exporter": "python",
   "pygments_lexer": "ipython3",
   "version": "3.10.12"
  }
 },
 "nbformat": 4,
 "nbformat_minor": 4
}
