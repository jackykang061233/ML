{
 "cells": [
  {
   "cell_type": "code",
   "execution_count": 1,
   "id": "3ddf6185-c7df-497c-9db0-fef5076ab0a4",
   "metadata": {},
   "outputs": [],
   "source": [
    "import pandas as pd\n",
    "import numpy as np\n",
    "import seaborn as sns\n",
    "import matplotlib.pyplot as plt\n",
    "\n",
    "from sklearn.pipeline import Pipeline\n",
    "from sklearn.impute import SimpleImputer\n",
    "from sklearn.preprocessing import StandardScaler, RobustScaler, OrdinalEncoder\n",
    "from sklearn.compose import ColumnTransformer\n",
    "from sklearn.model_selection import train_test_split"
   ]
  },
  {
   "cell_type": "code",
   "execution_count": 2,
   "id": "8ee97e82-d3d7-4467-b519-52d1996de46c",
   "metadata": {},
   "outputs": [
    {
     "data": {
      "text/html": [
       "<div>\n",
       "<style scoped>\n",
       "    .dataframe tbody tr th:only-of-type {\n",
       "        vertical-align: middle;\n",
       "    }\n",
       "\n",
       "    .dataframe tbody tr th {\n",
       "        vertical-align: top;\n",
       "    }\n",
       "\n",
       "    .dataframe thead th {\n",
       "        text-align: right;\n",
       "    }\n",
       "</style>\n",
       "<table border=\"1\" class=\"dataframe\">\n",
       "  <thead>\n",
       "    <tr style=\"text-align: right;\">\n",
       "      <th></th>\n",
       "      <th>txkey</th>\n",
       "      <th>locdt</th>\n",
       "      <th>loctm</th>\n",
       "      <th>chid</th>\n",
       "      <th>cano</th>\n",
       "      <th>contp</th>\n",
       "      <th>etymd</th>\n",
       "      <th>mchno</th>\n",
       "      <th>acqic</th>\n",
       "      <th>mcc</th>\n",
       "      <th>...</th>\n",
       "      <th>stocn</th>\n",
       "      <th>scity</th>\n",
       "      <th>stscd</th>\n",
       "      <th>ovrlt</th>\n",
       "      <th>flbmk</th>\n",
       "      <th>hcefg</th>\n",
       "      <th>csmcu</th>\n",
       "      <th>csmam</th>\n",
       "      <th>flg_3dsmk</th>\n",
       "      <th>label</th>\n",
       "    </tr>\n",
       "  </thead>\n",
       "  <tbody>\n",
       "    <tr>\n",
       "      <th>0</th>\n",
       "      <td>1c09727c939eb69ead2a4ce4072b8aa18992a64f01fcb4...</td>\n",
       "      <td>46</td>\n",
       "      <td>101812</td>\n",
       "      <td>84d2dc85d4da6a7fa284a11a4290d7e9a969163dcb4d82...</td>\n",
       "      <td>3dd5bf1e29e5e0baa789ce692fe5dbd34ff05173acf351...</td>\n",
       "      <td>5</td>\n",
       "      <td>1.0</td>\n",
       "      <td>cad752c5d05d2bdcc30d64fa4e68404c2d1f7be5d14d52...</td>\n",
       "      <td>8f6b3ff512a001e0d1988c6cd888ef8c74112fb71117e5...</td>\n",
       "      <td>375.0</td>\n",
       "      <td>...</td>\n",
       "      <td>0.0</td>\n",
       "      <td>15759.0</td>\n",
       "      <td>NaN</td>\n",
       "      <td>0</td>\n",
       "      <td>0</td>\n",
       "      <td>6.0</td>\n",
       "      <td>70.0</td>\n",
       "      <td>1529</td>\n",
       "      <td>0</td>\n",
       "      <td>0</td>\n",
       "    </tr>\n",
       "    <tr>\n",
       "      <th>1</th>\n",
       "      <td>2043f245a93bc6328dac964d6dbc89f13a0346062c194d...</td>\n",
       "      <td>17</td>\n",
       "      <td>85509</td>\n",
       "      <td>9a8cf5d0afd729cb7876f6b3172152c7c9c6fabd40515c...</td>\n",
       "      <td>8cb13f9b38c7bbc02d210e580dcbbcbb6c95bf18bc3320...</td>\n",
       "      <td>5</td>\n",
       "      <td>8.0</td>\n",
       "      <td>4356c6642ef6e837543b577c7ee3ffa92b4b8fcfb57254...</td>\n",
       "      <td>379166ff4a62dac343b4b734188aa618716cc496e48b65...</td>\n",
       "      <td>282.0</td>\n",
       "      <td>...</td>\n",
       "      <td>0.0</td>\n",
       "      <td>15759.0</td>\n",
       "      <td>NaN</td>\n",
       "      <td>0</td>\n",
       "      <td>0</td>\n",
       "      <td>8.0</td>\n",
       "      <td>70.0</td>\n",
       "      <td>101</td>\n",
       "      <td>0</td>\n",
       "      <td>0</td>\n",
       "    </tr>\n",
       "    <tr>\n",
       "      <th>2</th>\n",
       "      <td>e4853710290a8409279f3279f8032ae670824bd19aa173...</td>\n",
       "      <td>44</td>\n",
       "      <td>212641</td>\n",
       "      <td>dcc1389a5765d6f53152cf85970fbe78a83fd3d1c299b0...</td>\n",
       "      <td>1ec32868e5e1d5ff8df56737c2a91326cbfe3364382de6...</td>\n",
       "      <td>5</td>\n",
       "      <td>4.0</td>\n",
       "      <td>5b7eff061f8896aac4339ea35c25f8bb956a43bc486460...</td>\n",
       "      <td>8f6b3ff512a001e0d1988c6cd888ef8c74112fb71117e5...</td>\n",
       "      <td>288.0</td>\n",
       "      <td>...</td>\n",
       "      <td>0.0</td>\n",
       "      <td>15759.0</td>\n",
       "      <td>NaN</td>\n",
       "      <td>0</td>\n",
       "      <td>0</td>\n",
       "      <td>6.0</td>\n",
       "      <td>70.0</td>\n",
       "      <td>116</td>\n",
       "      <td>0</td>\n",
       "      <td>0</td>\n",
       "    </tr>\n",
       "    <tr>\n",
       "      <th>3</th>\n",
       "      <td>74d811b1dbc28b22b73ba2c79bb6033791d913b6d27a25...</td>\n",
       "      <td>42</td>\n",
       "      <td>102702</td>\n",
       "      <td>577f2329d1eccd59ba0abaf6113bb78dcd575badcbc57f...</td>\n",
       "      <td>4359dca1ac6a835eceb2bc0dd6b0b710f030c3499126e9...</td>\n",
       "      <td>5</td>\n",
       "      <td>1.0</td>\n",
       "      <td>cad752c5d05d2bdcc30d64fa4e68404c2d1f7be5d14d52...</td>\n",
       "      <td>36684976be1f529e6e2a32c9edab4cf8e364b2b916ae2c...</td>\n",
       "      <td>375.0</td>\n",
       "      <td>...</td>\n",
       "      <td>0.0</td>\n",
       "      <td>15759.0</td>\n",
       "      <td>NaN</td>\n",
       "      <td>0</td>\n",
       "      <td>0</td>\n",
       "      <td>6.0</td>\n",
       "      <td>70.0</td>\n",
       "      <td>1683</td>\n",
       "      <td>0</td>\n",
       "      <td>0</td>\n",
       "    </tr>\n",
       "    <tr>\n",
       "      <th>4</th>\n",
       "      <td>68ca182343969d429d79a34e532bc1ca7a3cc032c2ad81...</td>\n",
       "      <td>31</td>\n",
       "      <td>185737</td>\n",
       "      <td>fff6b4126c40620b1fbb11d4de02cd67b9e95071caa40b...</td>\n",
       "      <td>a3837f2905383f235a72679482c5f02e40f2a8ca29750d...</td>\n",
       "      <td>5</td>\n",
       "      <td>5.0</td>\n",
       "      <td>50d5b02ce3fc88723438c2a29cfdb04be4a1a11280ddb6...</td>\n",
       "      <td>379166ff4a62dac343b4b734188aa618716cc496e48b65...</td>\n",
       "      <td>406.0</td>\n",
       "      <td>...</td>\n",
       "      <td>0.0</td>\n",
       "      <td>15759.0</td>\n",
       "      <td>NaN</td>\n",
       "      <td>0</td>\n",
       "      <td>0</td>\n",
       "      <td>6.0</td>\n",
       "      <td>70.0</td>\n",
       "      <td>14</td>\n",
       "      <td>0</td>\n",
       "      <td>0</td>\n",
       "    </tr>\n",
       "  </tbody>\n",
       "</table>\n",
       "<p>5 rows × 26 columns</p>\n",
       "</div>"
      ],
      "text/plain": [
       "                                               txkey  locdt   loctm  \\\n",
       "0  1c09727c939eb69ead2a4ce4072b8aa18992a64f01fcb4...     46  101812   \n",
       "1  2043f245a93bc6328dac964d6dbc89f13a0346062c194d...     17   85509   \n",
       "2  e4853710290a8409279f3279f8032ae670824bd19aa173...     44  212641   \n",
       "3  74d811b1dbc28b22b73ba2c79bb6033791d913b6d27a25...     42  102702   \n",
       "4  68ca182343969d429d79a34e532bc1ca7a3cc032c2ad81...     31  185737   \n",
       "\n",
       "                                                chid  \\\n",
       "0  84d2dc85d4da6a7fa284a11a4290d7e9a969163dcb4d82...   \n",
       "1  9a8cf5d0afd729cb7876f6b3172152c7c9c6fabd40515c...   \n",
       "2  dcc1389a5765d6f53152cf85970fbe78a83fd3d1c299b0...   \n",
       "3  577f2329d1eccd59ba0abaf6113bb78dcd575badcbc57f...   \n",
       "4  fff6b4126c40620b1fbb11d4de02cd67b9e95071caa40b...   \n",
       "\n",
       "                                                cano  contp  etymd  \\\n",
       "0  3dd5bf1e29e5e0baa789ce692fe5dbd34ff05173acf351...      5    1.0   \n",
       "1  8cb13f9b38c7bbc02d210e580dcbbcbb6c95bf18bc3320...      5    8.0   \n",
       "2  1ec32868e5e1d5ff8df56737c2a91326cbfe3364382de6...      5    4.0   \n",
       "3  4359dca1ac6a835eceb2bc0dd6b0b710f030c3499126e9...      5    1.0   \n",
       "4  a3837f2905383f235a72679482c5f02e40f2a8ca29750d...      5    5.0   \n",
       "\n",
       "                                               mchno  \\\n",
       "0  cad752c5d05d2bdcc30d64fa4e68404c2d1f7be5d14d52...   \n",
       "1  4356c6642ef6e837543b577c7ee3ffa92b4b8fcfb57254...   \n",
       "2  5b7eff061f8896aac4339ea35c25f8bb956a43bc486460...   \n",
       "3  cad752c5d05d2bdcc30d64fa4e68404c2d1f7be5d14d52...   \n",
       "4  50d5b02ce3fc88723438c2a29cfdb04be4a1a11280ddb6...   \n",
       "\n",
       "                                               acqic    mcc  ...  stocn  \\\n",
       "0  8f6b3ff512a001e0d1988c6cd888ef8c74112fb71117e5...  375.0  ...    0.0   \n",
       "1  379166ff4a62dac343b4b734188aa618716cc496e48b65...  282.0  ...    0.0   \n",
       "2  8f6b3ff512a001e0d1988c6cd888ef8c74112fb71117e5...  288.0  ...    0.0   \n",
       "3  36684976be1f529e6e2a32c9edab4cf8e364b2b916ae2c...  375.0  ...    0.0   \n",
       "4  379166ff4a62dac343b4b734188aa618716cc496e48b65...  406.0  ...    0.0   \n",
       "\n",
       "     scity  stscd  ovrlt  flbmk  hcefg  csmcu  csmam  flg_3dsmk  label  \n",
       "0  15759.0    NaN      0      0    6.0   70.0   1529          0      0  \n",
       "1  15759.0    NaN      0      0    8.0   70.0    101          0      0  \n",
       "2  15759.0    NaN      0      0    6.0   70.0    116          0      0  \n",
       "3  15759.0    NaN      0      0    6.0   70.0   1683          0      0  \n",
       "4  15759.0    NaN      0      0    6.0   70.0     14          0      0  \n",
       "\n",
       "[5 rows x 26 columns]"
      ]
     },
     "execution_count": 2,
     "metadata": {},
     "output_type": "execute_result"
    }
   ],
   "source": [
    "df = pd.read_csv('data/training.csv')\n",
    "df.head()"
   ]
  },
  {
   "cell_type": "markdown",
   "id": "777a2fa1-3383-4779-8189-776b547eba82",
   "metadata": {},
   "source": [
    "# locdt loctm\n",
    "Normalize loctm, for example 120000 => 0.5"
   ]
  },
  {
   "cell_type": "code",
   "execution_count": 3,
   "id": "368dc188-4664-4455-81c4-dfdf0543713b",
   "metadata": {},
   "outputs": [],
   "source": [
    "df['normalized_loctm'] = df['loctm'] // 10000 * 3600 + (df['loctm'] % 10000)//100 * 60 + df['loctm'] % 100\n",
    "df['normalized_loctm']=(df['normalized_loctm']-df['normalized_loctm'].min())/(df['normalized_loctm'].max()-df['normalized_loctm'].min()+1)"
   ]
  },
  {
   "cell_type": "code",
   "execution_count": 4,
   "id": "b9970907-0686-4e1c-8438-949abddfd4a0",
   "metadata": {},
   "outputs": [
    {
     "data": {
      "text/html": [
       "<div>\n",
       "<style scoped>\n",
       "    .dataframe tbody tr th:only-of-type {\n",
       "        vertical-align: middle;\n",
       "    }\n",
       "\n",
       "    .dataframe tbody tr th {\n",
       "        vertical-align: top;\n",
       "    }\n",
       "\n",
       "    .dataframe thead th {\n",
       "        text-align: right;\n",
       "    }\n",
       "</style>\n",
       "<table border=\"1\" class=\"dataframe\">\n",
       "  <thead>\n",
       "    <tr style=\"text-align: right;\">\n",
       "      <th></th>\n",
       "      <th>txkey</th>\n",
       "      <th>loctm</th>\n",
       "      <th>locdt</th>\n",
       "      <th>chid</th>\n",
       "      <th>cano</th>\n",
       "      <th>contp</th>\n",
       "      <th>etymd</th>\n",
       "      <th>mchno</th>\n",
       "      <th>acqic</th>\n",
       "      <th>mcc</th>\n",
       "      <th>...</th>\n",
       "      <th>stocn</th>\n",
       "      <th>scity</th>\n",
       "      <th>stscd</th>\n",
       "      <th>ovrlt</th>\n",
       "      <th>flbmk</th>\n",
       "      <th>hcefg</th>\n",
       "      <th>csmcu</th>\n",
       "      <th>csmam</th>\n",
       "      <th>flg_3dsmk</th>\n",
       "      <th>label</th>\n",
       "    </tr>\n",
       "  </thead>\n",
       "  <tbody>\n",
       "    <tr>\n",
       "      <th>0</th>\n",
       "      <td>1c09727c939eb69ead2a4ce4072b8aa18992a64f01fcb4...</td>\n",
       "      <td>0.429306</td>\n",
       "      <td>46</td>\n",
       "      <td>84d2dc85d4da6a7fa284a11a4290d7e9a969163dcb4d82...</td>\n",
       "      <td>3dd5bf1e29e5e0baa789ce692fe5dbd34ff05173acf351...</td>\n",
       "      <td>5</td>\n",
       "      <td>1.0</td>\n",
       "      <td>cad752c5d05d2bdcc30d64fa4e68404c2d1f7be5d14d52...</td>\n",
       "      <td>8f6b3ff512a001e0d1988c6cd888ef8c74112fb71117e5...</td>\n",
       "      <td>375.0</td>\n",
       "      <td>...</td>\n",
       "      <td>0.0</td>\n",
       "      <td>15759.0</td>\n",
       "      <td>NaN</td>\n",
       "      <td>0</td>\n",
       "      <td>0</td>\n",
       "      <td>6.0</td>\n",
       "      <td>70.0</td>\n",
       "      <td>1529</td>\n",
       "      <td>0</td>\n",
       "      <td>0</td>\n",
       "    </tr>\n",
       "    <tr>\n",
       "      <th>1</th>\n",
       "      <td>2043f245a93bc6328dac964d6dbc89f13a0346062c194d...</td>\n",
       "      <td>0.371632</td>\n",
       "      <td>17</td>\n",
       "      <td>9a8cf5d0afd729cb7876f6b3172152c7c9c6fabd40515c...</td>\n",
       "      <td>8cb13f9b38c7bbc02d210e580dcbbcbb6c95bf18bc3320...</td>\n",
       "      <td>5</td>\n",
       "      <td>8.0</td>\n",
       "      <td>4356c6642ef6e837543b577c7ee3ffa92b4b8fcfb57254...</td>\n",
       "      <td>379166ff4a62dac343b4b734188aa618716cc496e48b65...</td>\n",
       "      <td>282.0</td>\n",
       "      <td>...</td>\n",
       "      <td>0.0</td>\n",
       "      <td>15759.0</td>\n",
       "      <td>NaN</td>\n",
       "      <td>0</td>\n",
       "      <td>0</td>\n",
       "      <td>8.0</td>\n",
       "      <td>70.0</td>\n",
       "      <td>101</td>\n",
       "      <td>0</td>\n",
       "      <td>0</td>\n",
       "    </tr>\n",
       "    <tr>\n",
       "      <th>2</th>\n",
       "      <td>e4853710290a8409279f3279f8032ae670824bd19aa173...</td>\n",
       "      <td>0.893530</td>\n",
       "      <td>44</td>\n",
       "      <td>dcc1389a5765d6f53152cf85970fbe78a83fd3d1c299b0...</td>\n",
       "      <td>1ec32868e5e1d5ff8df56737c2a91326cbfe3364382de6...</td>\n",
       "      <td>5</td>\n",
       "      <td>4.0</td>\n",
       "      <td>5b7eff061f8896aac4339ea35c25f8bb956a43bc486460...</td>\n",
       "      <td>8f6b3ff512a001e0d1988c6cd888ef8c74112fb71117e5...</td>\n",
       "      <td>288.0</td>\n",
       "      <td>...</td>\n",
       "      <td>0.0</td>\n",
       "      <td>15759.0</td>\n",
       "      <td>NaN</td>\n",
       "      <td>0</td>\n",
       "      <td>0</td>\n",
       "      <td>6.0</td>\n",
       "      <td>70.0</td>\n",
       "      <td>116</td>\n",
       "      <td>0</td>\n",
       "      <td>0</td>\n",
       "    </tr>\n",
       "    <tr>\n",
       "      <th>3</th>\n",
       "      <td>74d811b1dbc28b22b73ba2c79bb6033791d913b6d27a25...</td>\n",
       "      <td>0.435440</td>\n",
       "      <td>42</td>\n",
       "      <td>577f2329d1eccd59ba0abaf6113bb78dcd575badcbc57f...</td>\n",
       "      <td>4359dca1ac6a835eceb2bc0dd6b0b710f030c3499126e9...</td>\n",
       "      <td>5</td>\n",
       "      <td>1.0</td>\n",
       "      <td>cad752c5d05d2bdcc30d64fa4e68404c2d1f7be5d14d52...</td>\n",
       "      <td>36684976be1f529e6e2a32c9edab4cf8e364b2b916ae2c...</td>\n",
       "      <td>375.0</td>\n",
       "      <td>...</td>\n",
       "      <td>0.0</td>\n",
       "      <td>15759.0</td>\n",
       "      <td>NaN</td>\n",
       "      <td>0</td>\n",
       "      <td>0</td>\n",
       "      <td>6.0</td>\n",
       "      <td>70.0</td>\n",
       "      <td>1683</td>\n",
       "      <td>0</td>\n",
       "      <td>0</td>\n",
       "    </tr>\n",
       "    <tr>\n",
       "      <th>4</th>\n",
       "      <td>68ca182343969d429d79a34e532bc1ca7a3cc032c2ad81...</td>\n",
       "      <td>0.790012</td>\n",
       "      <td>31</td>\n",
       "      <td>fff6b4126c40620b1fbb11d4de02cd67b9e95071caa40b...</td>\n",
       "      <td>a3837f2905383f235a72679482c5f02e40f2a8ca29750d...</td>\n",
       "      <td>5</td>\n",
       "      <td>5.0</td>\n",
       "      <td>50d5b02ce3fc88723438c2a29cfdb04be4a1a11280ddb6...</td>\n",
       "      <td>379166ff4a62dac343b4b734188aa618716cc496e48b65...</td>\n",
       "      <td>406.0</td>\n",
       "      <td>...</td>\n",
       "      <td>0.0</td>\n",
       "      <td>15759.0</td>\n",
       "      <td>NaN</td>\n",
       "      <td>0</td>\n",
       "      <td>0</td>\n",
       "      <td>6.0</td>\n",
       "      <td>70.0</td>\n",
       "      <td>14</td>\n",
       "      <td>0</td>\n",
       "      <td>0</td>\n",
       "    </tr>\n",
       "  </tbody>\n",
       "</table>\n",
       "<p>5 rows × 26 columns</p>\n",
       "</div>"
      ],
      "text/plain": [
       "                                               txkey     loctm  locdt  \\\n",
       "0  1c09727c939eb69ead2a4ce4072b8aa18992a64f01fcb4...  0.429306     46   \n",
       "1  2043f245a93bc6328dac964d6dbc89f13a0346062c194d...  0.371632     17   \n",
       "2  e4853710290a8409279f3279f8032ae670824bd19aa173...  0.893530     44   \n",
       "3  74d811b1dbc28b22b73ba2c79bb6033791d913b6d27a25...  0.435440     42   \n",
       "4  68ca182343969d429d79a34e532bc1ca7a3cc032c2ad81...  0.790012     31   \n",
       "\n",
       "                                                chid  \\\n",
       "0  84d2dc85d4da6a7fa284a11a4290d7e9a969163dcb4d82...   \n",
       "1  9a8cf5d0afd729cb7876f6b3172152c7c9c6fabd40515c...   \n",
       "2  dcc1389a5765d6f53152cf85970fbe78a83fd3d1c299b0...   \n",
       "3  577f2329d1eccd59ba0abaf6113bb78dcd575badcbc57f...   \n",
       "4  fff6b4126c40620b1fbb11d4de02cd67b9e95071caa40b...   \n",
       "\n",
       "                                                cano  contp  etymd  \\\n",
       "0  3dd5bf1e29e5e0baa789ce692fe5dbd34ff05173acf351...      5    1.0   \n",
       "1  8cb13f9b38c7bbc02d210e580dcbbcbb6c95bf18bc3320...      5    8.0   \n",
       "2  1ec32868e5e1d5ff8df56737c2a91326cbfe3364382de6...      5    4.0   \n",
       "3  4359dca1ac6a835eceb2bc0dd6b0b710f030c3499126e9...      5    1.0   \n",
       "4  a3837f2905383f235a72679482c5f02e40f2a8ca29750d...      5    5.0   \n",
       "\n",
       "                                               mchno  \\\n",
       "0  cad752c5d05d2bdcc30d64fa4e68404c2d1f7be5d14d52...   \n",
       "1  4356c6642ef6e837543b577c7ee3ffa92b4b8fcfb57254...   \n",
       "2  5b7eff061f8896aac4339ea35c25f8bb956a43bc486460...   \n",
       "3  cad752c5d05d2bdcc30d64fa4e68404c2d1f7be5d14d52...   \n",
       "4  50d5b02ce3fc88723438c2a29cfdb04be4a1a11280ddb6...   \n",
       "\n",
       "                                               acqic    mcc  ...  stocn  \\\n",
       "0  8f6b3ff512a001e0d1988c6cd888ef8c74112fb71117e5...  375.0  ...    0.0   \n",
       "1  379166ff4a62dac343b4b734188aa618716cc496e48b65...  282.0  ...    0.0   \n",
       "2  8f6b3ff512a001e0d1988c6cd888ef8c74112fb71117e5...  288.0  ...    0.0   \n",
       "3  36684976be1f529e6e2a32c9edab4cf8e364b2b916ae2c...  375.0  ...    0.0   \n",
       "4  379166ff4a62dac343b4b734188aa618716cc496e48b65...  406.0  ...    0.0   \n",
       "\n",
       "     scity  stscd  ovrlt  flbmk  hcefg  csmcu  csmam  flg_3dsmk  label  \n",
       "0  15759.0    NaN      0      0    6.0   70.0   1529          0      0  \n",
       "1  15759.0    NaN      0      0    8.0   70.0    101          0      0  \n",
       "2  15759.0    NaN      0      0    6.0   70.0    116          0      0  \n",
       "3  15759.0    NaN      0      0    6.0   70.0   1683          0      0  \n",
       "4  15759.0    NaN      0      0    6.0   70.0     14          0      0  \n",
       "\n",
       "[5 rows x 26 columns]"
      ]
     },
     "execution_count": 4,
     "metadata": {},
     "output_type": "execute_result"
    }
   ],
   "source": [
    "normalized_loctm = df['normalized_loctm']\n",
    "df.drop(['loctm', 'normalized_loctm'], axis=1, inplace=True)\n",
    "df.insert(1, 'loctm', normalized_loctm)\n",
    "df.head()"
   ]
  },
  {
   "cell_type": "markdown",
   "id": "50ccaa53-7b6c-47a8-9c5d-0b291825fc40",
   "metadata": {},
   "source": [
    "# Original"
   ]
  },
  {
   "cell_type": "code",
   "execution_count": 5,
   "id": "29af903b-ea0b-4fe2-939b-4cb65842236c",
   "metadata": {},
   "outputs": [
    {
     "name": "stdout",
     "output_type": "stream",
     "text": [
      "No Frauds 99.63 % of the dataset\n",
      "Frauds 0.37 % of the dataset\n",
      "Train: [1722669 1722851 1722891 ... 8688523 8688524 8688525] Test: [      0       1       2 ... 1737758 1737759 1737760]\n",
      "Train: [      0       1       2 ... 8688523 8688524 8688525] Test: [1722669 1722851 1722891 ... 3475467 3475468 3475469]\n",
      "Train: [      0       1       2 ... 8688523 8688524 8688525] Test: [3461625 3461631 3461936 ... 5213249 5213250 5213251]\n",
      "Train: [      0       1       2 ... 8688523 8688524 8688525] Test: [5175924 5176029 5176360 ... 6950945 6950946 6950947]\n",
      "Train: [      0       1       2 ... 6950945 6950946 6950947] Test: [6919499 6919679 6919898 ... 8688523 8688524 8688525]\n"
     ]
    }
   ],
   "source": [
    "from sklearn.model_selection import train_test_split\n",
    "from sklearn.model_selection import StratifiedShuffleSplit, StratifiedKFold\n",
    "\n",
    "\n",
    "print('No Frauds', round(df['label'].value_counts()[0]/len(df) * 100,2), '% of the dataset')\n",
    "print('Frauds', round(df['label'].value_counts()[1]/len(df) * 100,2), '% of the dataset')\n",
    "\n",
    "X = df.drop('label', axis=1)\n",
    "y = df['label']\n",
    "\n",
    "sss = StratifiedKFold(n_splits=5, random_state=None, shuffle=False)\n",
    "\n",
    "for train_index, test_index in sss.split(X, y):\n",
    "    print(\"Train:\", train_index, \"Test:\", test_index)\n",
    "    original_Xtrain, original_Xtest = X.iloc[train_index], X.iloc[test_index]\n",
    "    original_ytrain, original_ytest = y.iloc[train_index], y.iloc[test_index]\n"
   ]
  },
  {
   "cell_type": "code",
   "execution_count": 6,
   "id": "a4a571b8-e838-48ad-9400-0517e17bbcf1",
   "metadata": {},
   "outputs": [],
   "source": [
    "from sklearn.utils import resample\n",
    "\n",
    "original_data = pd.concat([original_Xtrain,  original_ytrain], axis=1)\n",
    "min_class_size = len(original_data[original_data['label']==1])\n",
    "\n",
    "maj_class = original_data[original_data['label']==0]\n",
    "min_class = original_data[original_data['label']==1]\n",
    "\n",
    "min_samples = int(1000000 * (min_class_size/len(original_data)))\n",
    "maj_samples = 1000000 - min_samples\n",
    "\n",
    "maj = resample(maj_class, replace=False, n_samples=maj_samples, random_state=42)\n",
    "min = resample(min_class, replace=False, n_samples=min_samples, random_state=42)\n",
    "\n",
    "stratified = pd.concat([maj, min])\n",
    "original_Xtrain = stratified.drop('label', axis=1)\n",
    "original_ytrain = stratified['label']"
   ]
  },
  {
   "cell_type": "markdown",
   "id": "bca0e27b-ede9-42d4-947c-aca5b4c39e59",
   "metadata": {},
   "source": [
    "# Transform object values"
   ]
  },
  {
   "cell_type": "code",
   "execution_count": 7,
   "id": "18534ec6-74aa-4344-ac78-bbe2857c52b7",
   "metadata": {},
   "outputs": [],
   "source": [
    "cats = ['txkey', 'chid', 'cano', 'mchno', 'acqic']\n",
    "\n",
    "ord_encoder = OrdinalEncoder(handle_unknown='use_encoded_value', unknown_value=-1)\n",
    "encoded_data = ord_encoder.fit_transform(original_Xtrain[cats])\n",
    "\n",
    "original_Xtrain[cats] = encoded_data"
   ]
  },
  {
   "cell_type": "code",
   "execution_count": 8,
   "id": "93f3fd68-9453-4d81-816e-20c6551e0757",
   "metadata": {},
   "outputs": [
    {
     "data": {
      "text/plain": [
       "txkey        float64\n",
       "loctm        float64\n",
       "locdt          int64\n",
       "chid         float64\n",
       "cano         float64\n",
       "contp          int64\n",
       "etymd        float64\n",
       "mchno        float64\n",
       "acqic        float64\n",
       "mcc          float64\n",
       "conam        float64\n",
       "ecfg           int64\n",
       "insfg          int64\n",
       "iterm        float64\n",
       "bnsfg          int64\n",
       "flam1          int64\n",
       "stocn        float64\n",
       "scity        float64\n",
       "stscd        float64\n",
       "ovrlt          int64\n",
       "flbmk          int64\n",
       "hcefg        float64\n",
       "csmcu        float64\n",
       "csmam          int64\n",
       "flg_3dsmk      int64\n",
       "dtype: object"
      ]
     },
     "execution_count": 8,
     "metadata": {},
     "output_type": "execute_result"
    }
   ],
   "source": [
    "original_Xtrain.dtypes"
   ]
  },
  {
   "cell_type": "markdown",
   "id": "c5a5e11b-bb34-41b3-8be4-132ac7d7d428",
   "metadata": {},
   "source": [
    "# Fill nan values"
   ]
  },
  {
   "cell_type": "code",
   "execution_count": 9,
   "id": "66fc94e9-0f7f-4b67-b432-94cca2860326",
   "metadata": {},
   "outputs": [],
   "source": [
    "na = ['etymd', 'mcc', 'stocn', 'scity', 'stscd', 'hcefg', 'csmcu']\n",
    "\n",
    "simple_imputer = SimpleImputer(strategy=\"most_frequent\")\n",
    "imputed_data = simple_imputer.fit_transform(original_Xtrain[na])\n",
    "\n",
    "original_Xtrain[na] = imputed_data"
   ]
  },
  {
   "cell_type": "code",
   "execution_count": 10,
   "id": "a4ea3e9b-ffed-4ac2-b83e-48e012462cc4",
   "metadata": {},
   "outputs": [
    {
     "data": {
      "text/plain": [
       "txkey        0\n",
       "loctm        0\n",
       "locdt        0\n",
       "chid         0\n",
       "cano         0\n",
       "contp        0\n",
       "etymd        0\n",
       "mchno        0\n",
       "acqic        0\n",
       "mcc          0\n",
       "conam        0\n",
       "ecfg         0\n",
       "insfg        0\n",
       "iterm        0\n",
       "bnsfg        0\n",
       "flam1        0\n",
       "stocn        0\n",
       "scity        0\n",
       "stscd        0\n",
       "ovrlt        0\n",
       "flbmk        0\n",
       "hcefg        0\n",
       "csmcu        0\n",
       "csmam        0\n",
       "flg_3dsmk    0\n",
       "dtype: int64"
      ]
     },
     "execution_count": 10,
     "metadata": {},
     "output_type": "execute_result"
    }
   ],
   "source": [
    "original_Xtrain.isna().sum()"
   ]
  },
  {
   "cell_type": "markdown",
   "id": "3843741c-9033-4813-84b0-268b50c65897",
   "metadata": {},
   "source": [
    "# Feature selection\n",
    "### numeric features: \n",
    "locdt, loctm, conam, iterm, flam1, csmam"
   ]
  },
  {
   "cell_type": "markdown",
   "id": "f6aaf358-8754-4399-b350-7a148f6a46e1",
   "metadata": {},
   "source": [
    "## First see the relationship between 3 money-related features\n",
    "\n",
    "## Summary\n",
    "* conma and flam1 are highly correlated so we choose one"
   ]
  },
  {
   "cell_type": "code",
   "execution_count": 11,
   "id": "a632e398-0f11-4e58-8924-4c2d318476ac",
   "metadata": {},
   "outputs": [
    {
     "data": {
      "text/html": [
       "<div>\n",
       "<style scoped>\n",
       "    .dataframe tbody tr th:only-of-type {\n",
       "        vertical-align: middle;\n",
       "    }\n",
       "\n",
       "    .dataframe tbody tr th {\n",
       "        vertical-align: top;\n",
       "    }\n",
       "\n",
       "    .dataframe thead th {\n",
       "        text-align: right;\n",
       "    }\n",
       "</style>\n",
       "<table border=\"1\" class=\"dataframe\">\n",
       "  <thead>\n",
       "    <tr style=\"text-align: right;\">\n",
       "      <th></th>\n",
       "      <th>conam</th>\n",
       "      <th>flam1</th>\n",
       "      <th>csmam</th>\n",
       "    </tr>\n",
       "  </thead>\n",
       "  <tbody>\n",
       "    <tr>\n",
       "      <th>conam</th>\n",
       "      <td>1.000000</td>\n",
       "      <td>0.999919</td>\n",
       "      <td>0.093605</td>\n",
       "    </tr>\n",
       "    <tr>\n",
       "      <th>flam1</th>\n",
       "      <td>0.999919</td>\n",
       "      <td>1.000000</td>\n",
       "      <td>0.093638</td>\n",
       "    </tr>\n",
       "    <tr>\n",
       "      <th>csmam</th>\n",
       "      <td>0.093605</td>\n",
       "      <td>0.093638</td>\n",
       "      <td>1.000000</td>\n",
       "    </tr>\n",
       "  </tbody>\n",
       "</table>\n",
       "</div>"
      ],
      "text/plain": [
       "          conam     flam1     csmam\n",
       "conam  1.000000  0.999919  0.093605\n",
       "flam1  0.999919  1.000000  0.093638\n",
       "csmam  0.093605  0.093638  1.000000"
      ]
     },
     "execution_count": 11,
     "metadata": {},
     "output_type": "execute_result"
    }
   ],
   "source": [
    "original_Xtrain[['conam', 'flam1', 'csmam']].corr()"
   ]
  },
  {
   "cell_type": "code",
   "execution_count": 12,
   "id": "0a0be6e3-b81b-4367-a163-54a579152702",
   "metadata": {},
   "outputs": [],
   "source": [
    "num_attribs = ['locdt', 'loctm', 'conam', 'iterm', 'csmam']"
   ]
  },
  {
   "cell_type": "markdown",
   "id": "9cdd3432-00c1-43a6-ae31-7b14bb88868c",
   "metadata": {},
   "source": [
    "### categorical features\n",
    "chid, cano, contp, etymd, mchno, acqic, mcc, ecfg, insfg, bnsfg, stocn, scity, stscd, ovrlt, flbmk, hcefg, csmcu, flg_3dsmk"
   ]
  },
  {
   "cell_type": "markdown",
   "id": "2b278f49-f6e7-477b-91cd-b3ba67075703",
   "metadata": {},
   "source": [
    "## See if stocn and scity are correlated\n",
    "### Summary\n",
    "* p-value < 0.05\n",
    "* "
   ]
  },
  {
   "cell_type": "code",
   "execution_count": 13,
   "id": "fa7bef18-3bdf-4b3e-b023-8179d61b77a4",
   "metadata": {},
   "outputs": [
    {
     "data": {
      "text/plain": [
       "(array([83241429.8041404]), array([0.]))"
      ]
     },
     "execution_count": 13,
     "metadata": {},
     "output_type": "execute_result"
    }
   ],
   "source": [
    "from sklearn.feature_selection import chi2\n",
    "\n",
    "chi2(original_Xtrain['stocn'].values.reshape(-1, 1), original_Xtrain['scity'])"
   ]
  },
  {
   "cell_type": "code",
   "execution_count": 14,
   "id": "1e128ddf-a077-441f-9931-9e764b8422d0",
   "metadata": {},
   "outputs": [
    {
     "data": {
      "text/html": [
       "<style>#sk-container-id-1 {color: black;}#sk-container-id-1 pre{padding: 0;}#sk-container-id-1 div.sk-toggleable {background-color: white;}#sk-container-id-1 label.sk-toggleable__label {cursor: pointer;display: block;width: 100%;margin-bottom: 0;padding: 0.3em;box-sizing: border-box;text-align: center;}#sk-container-id-1 label.sk-toggleable__label-arrow:before {content: \"▸\";float: left;margin-right: 0.25em;color: #696969;}#sk-container-id-1 label.sk-toggleable__label-arrow:hover:before {color: black;}#sk-container-id-1 div.sk-estimator:hover label.sk-toggleable__label-arrow:before {color: black;}#sk-container-id-1 div.sk-toggleable__content {max-height: 0;max-width: 0;overflow: hidden;text-align: left;background-color: #f0f8ff;}#sk-container-id-1 div.sk-toggleable__content pre {margin: 0.2em;color: black;border-radius: 0.25em;background-color: #f0f8ff;}#sk-container-id-1 input.sk-toggleable__control:checked~div.sk-toggleable__content {max-height: 200px;max-width: 100%;overflow: auto;}#sk-container-id-1 input.sk-toggleable__control:checked~label.sk-toggleable__label-arrow:before {content: \"▾\";}#sk-container-id-1 div.sk-estimator input.sk-toggleable__control:checked~label.sk-toggleable__label {background-color: #d4ebff;}#sk-container-id-1 div.sk-label input.sk-toggleable__control:checked~label.sk-toggleable__label {background-color: #d4ebff;}#sk-container-id-1 input.sk-hidden--visually {border: 0;clip: rect(1px 1px 1px 1px);clip: rect(1px, 1px, 1px, 1px);height: 1px;margin: -1px;overflow: hidden;padding: 0;position: absolute;width: 1px;}#sk-container-id-1 div.sk-estimator {font-family: monospace;background-color: #f0f8ff;border: 1px dotted black;border-radius: 0.25em;box-sizing: border-box;margin-bottom: 0.5em;}#sk-container-id-1 div.sk-estimator:hover {background-color: #d4ebff;}#sk-container-id-1 div.sk-parallel-item::after {content: \"\";width: 100%;border-bottom: 1px solid gray;flex-grow: 1;}#sk-container-id-1 div.sk-label:hover label.sk-toggleable__label {background-color: #d4ebff;}#sk-container-id-1 div.sk-serial::before {content: \"\";position: absolute;border-left: 1px solid gray;box-sizing: border-box;top: 0;bottom: 0;left: 50%;z-index: 0;}#sk-container-id-1 div.sk-serial {display: flex;flex-direction: column;align-items: center;background-color: white;padding-right: 0.2em;padding-left: 0.2em;position: relative;}#sk-container-id-1 div.sk-item {position: relative;z-index: 1;}#sk-container-id-1 div.sk-parallel {display: flex;align-items: stretch;justify-content: center;background-color: white;position: relative;}#sk-container-id-1 div.sk-item::before, #sk-container-id-1 div.sk-parallel-item::before {content: \"\";position: absolute;border-left: 1px solid gray;box-sizing: border-box;top: 0;bottom: 0;left: 50%;z-index: -1;}#sk-container-id-1 div.sk-parallel-item {display: flex;flex-direction: column;z-index: 1;position: relative;background-color: white;}#sk-container-id-1 div.sk-parallel-item:first-child::after {align-self: flex-end;width: 50%;}#sk-container-id-1 div.sk-parallel-item:last-child::after {align-self: flex-start;width: 50%;}#sk-container-id-1 div.sk-parallel-item:only-child::after {width: 0;}#sk-container-id-1 div.sk-dashed-wrapped {border: 1px dashed gray;margin: 0 0.4em 0.5em 0.4em;box-sizing: border-box;padding-bottom: 0.4em;background-color: white;}#sk-container-id-1 div.sk-label label {font-family: monospace;font-weight: bold;display: inline-block;line-height: 1.2em;}#sk-container-id-1 div.sk-label-container {text-align: center;}#sk-container-id-1 div.sk-container {/* jupyter's `normalize.less` sets `[hidden] { display: none; }` but bootstrap.min.css set `[hidden] { display: none !important; }` so we also need the `!important` here to be able to override the default hidden behavior on the sphinx rendered scikit-learn.org. See: https://github.com/scikit-learn/scikit-learn/issues/21755 */display: inline-block !important;position: relative;}#sk-container-id-1 div.sk-text-repr-fallback {display: none;}</style><div id=\"sk-container-id-1\" class=\"sk-top-container\"><div class=\"sk-text-repr-fallback\"><pre>SelectKBest(k=8, score_func=&lt;function chi2 at 0x7f04c671c940&gt;)</pre><b>In a Jupyter environment, please rerun this cell to show the HTML representation or trust the notebook. <br />On GitHub, the HTML representation is unable to render, please try loading this page with nbviewer.org.</b></div><div class=\"sk-container\" hidden><div class=\"sk-item\"><div class=\"sk-estimator sk-toggleable\"><input class=\"sk-toggleable__control sk-hidden--visually\" id=\"sk-estimator-id-1\" type=\"checkbox\" checked><label for=\"sk-estimator-id-1\" class=\"sk-toggleable__label sk-toggleable__label-arrow\">SelectKBest</label><div class=\"sk-toggleable__content\"><pre>SelectKBest(k=8, score_func=&lt;function chi2 at 0x7f04c671c940&gt;)</pre></div></div></div></div></div>"
      ],
      "text/plain": [
       "SelectKBest(k=8, score_func=<function chi2 at 0x7f04c671c940>)"
      ]
     },
     "execution_count": 14,
     "metadata": {},
     "output_type": "execute_result"
    }
   ],
   "source": [
    "from sklearn.feature_selection import SelectKBest\n",
    "\n",
    "\n",
    "cat_attribs = ['chid', 'cano', 'contp', 'etymd', 'mchno', 'acqic', 'mcc', 'ecfg', 'insfg', 'bnsfg', 'scity', 'stscd', \n",
    "               'ovrlt', 'flbmk', 'hcefg', 'csmcu', 'flg_3dsmk']\n",
    "cat_original_Xtrain = original_Xtrain[cat_attribs]\n",
    "selector = SelectKBest(chi2, k=len(cat_attribs)//2)\n",
    "selector.fit(cat_original_Xtrain, original_ytrain)"
   ]
  },
  {
   "cell_type": "code",
   "execution_count": 15,
   "id": "d7f4d8ce-0c08-420d-8bca-9b559224972b",
   "metadata": {},
   "outputs": [],
   "source": [
    "cols_idxs = selector.get_support(indices=True)\n",
    "new_cat_original_Xtrain = cat_original_Xtrain.iloc[:,cols_idxs]"
   ]
  },
  {
   "cell_type": "code",
   "execution_count": 16,
   "id": "9edf6282-cea7-464c-ad6d-e7204dfab726",
   "metadata": {},
   "outputs": [
    {
     "data": {
      "text/plain": [
       "Index(['chid', 'cano', 'mchno', 'acqic', 'mcc', 'ecfg', 'scity', 'csmcu',\n",
       "       'locdt', 'loctm', 'conam', 'iterm', 'csmam'],\n",
       "      dtype='object')"
      ]
     },
     "execution_count": 16,
     "metadata": {},
     "output_type": "execute_result"
    }
   ],
   "source": [
    "selected_original_Xtrain = pd.concat([new_cat_original_Xtrain, original_Xtrain[num_attribs]], axis=1)\n",
    "selected_columns = selected_original_Xtrain.columns\n",
    "selected_columns"
   ]
  },
  {
   "cell_type": "markdown",
   "id": "e4757466-f4ef-4f7f-bc08-bb86bcd5b9d1",
   "metadata": {},
   "source": [
    "# Smote"
   ]
  },
  {
   "cell_type": "code",
   "execution_count": 17,
   "id": "c2aa4098-fd9e-471d-b172-7c6e35912d44",
   "metadata": {},
   "outputs": [
    {
     "name": "stdout",
     "output_type": "stream",
     "text": [
      "Length of X (train): 1000000 | Length of y (train): 1000000\n",
      "Length of X (test): 1737705 | Length of y (test): 1737705\n"
     ]
    }
   ],
   "source": [
    "from imblearn.over_sampling import SMOTE\n",
    "from sklearn.model_selection import train_test_split, RandomizedSearchCV\n",
    "from sklearn.neighbors import KNeighborsClassifier\n",
    "from sklearn.model_selection import StratifiedShuffleSplit\n",
    "from imblearn.pipeline import make_pipeline as imbalanced_make_pipeline\n",
    "from joblib import Parallel, delayed\n",
    "from sklearn.metrics import roc_auc_score\n",
    "from sklearn.metrics import recall_score, precision_score, f1_score, accuracy_score\n",
    "\n",
    "print('Length of X (train): {} | Length of y (train): {}'.format(len(original_Xtrain), len(original_ytrain)))\n",
    "print('Length of X (test): {} | Length of y (test): {}'.format(len(original_Xtest), len(original_ytest)))\n",
    "\n",
    "# List to append the score and then find the average\n",
    "accuracy_lst = []\n",
    "precision_lst = []\n",
    "recall_lst = []\n",
    "f1_lst = []\n",
    "auc_lst = []\n",
    "\n",
    "# Classifier with optimal parameters\n",
    "# log_reg_sm = grid_log_reg.best_estimator_\n",
    "\n",
    "selected_original_Xtrain = selected_original_Xtrain.values\n",
    "selected_original_Xtest = original_Xtest[selected_columns].values\n",
    "original_ytrain = original_ytrain.values\n",
    "original_ytest = original_ytest.values\n",
    "\n"
   ]
  },
  {
   "cell_type": "code",
   "execution_count": 18,
   "id": "82c735f9-322b-4660-9f8d-f8b45f4a31d4",
   "metadata": {},
   "outputs": [
    {
     "name": "stdout",
     "output_type": "stream",
     "text": [
      "0\n"
     ]
    },
    {
     "name": "stderr",
     "output_type": "stream",
     "text": [
      "/home/jovyan/NLP/nlp/lib/python3.10/site-packages/sklearn/linear_model/_sag.py:350: ConvergenceWarning: The max_iter was reached which means the coef_ did not converge\n",
      "  warnings.warn(\n"
     ]
    },
    {
     "name": "stdout",
     "output_type": "stream",
     "text": [
      "1\n"
     ]
    },
    {
     "name": "stderr",
     "output_type": "stream",
     "text": [
      "/home/jovyan/NLP/nlp/lib/python3.10/site-packages/sklearn/linear_model/_sag.py:350: ConvergenceWarning: The max_iter was reached which means the coef_ did not converge\n",
      "  warnings.warn(\n"
     ]
    },
    {
     "name": "stdout",
     "output_type": "stream",
     "text": [
      "2\n"
     ]
    },
    {
     "name": "stderr",
     "output_type": "stream",
     "text": [
      "/home/jovyan/NLP/nlp/lib/python3.10/site-packages/sklearn/linear_model/_sag.py:350: ConvergenceWarning: The max_iter was reached which means the coef_ did not converge\n",
      "  warnings.warn(\n"
     ]
    },
    {
     "name": "stdout",
     "output_type": "stream",
     "text": [
      "3\n"
     ]
    },
    {
     "name": "stderr",
     "output_type": "stream",
     "text": [
      "/home/jovyan/NLP/nlp/lib/python3.10/site-packages/sklearn/linear_model/_sag.py:350: ConvergenceWarning: The max_iter was reached which means the coef_ did not converge\n",
      "  warnings.warn(\n"
     ]
    },
    {
     "name": "stdout",
     "output_type": "stream",
     "text": [
      "4\n"
     ]
    },
    {
     "name": "stderr",
     "output_type": "stream",
     "text": [
      "/home/jovyan/NLP/nlp/lib/python3.10/site-packages/sklearn/linear_model/_sag.py:350: ConvergenceWarning: The max_iter was reached which means the coef_ did not converge\n",
      "  warnings.warn(\n"
     ]
    }
   ],
   "source": [
    "from sklearn.linear_model import LogisticRegression\n",
    "from sklearn.tree import DecisionTreeClassifier\n",
    "\n",
    "log_reg_params = {\"penalty\": ['l2'], 'C': [0.01, 0.1, 1, 10, 100]}\n",
    "\n",
    "# rand_log_reg = RandomizedSearchCV(LogisticRegression(max_iter=1000, solver='saga', n_jobs=-1), log_reg_params, n_iter=3, n_jobs=-1)\n",
    "log_reg = LogisticRegression(max_iter=5000, solver='saga', n_jobs=-1)\n",
    "\n",
    "robust_scaler = RobustScaler()\n",
    "\n",
    "\n",
    "for index, (train, test) in enumerate(sss.split(selected_original_Xtrain, original_ytrain)):\n",
    "    print(index)\n",
    "    pipeline = imbalanced_make_pipeline(SMOTE(sampling_strategy=0.75, k_neighbors=4), log_reg) # SMOTE happens during Cross Validation not before..\n",
    "    X_train = robust_scaler.fit_transform(selected_original_Xtrain[train])\n",
    "    model = pipeline.fit(X_train, original_ytrain[train])\n",
    "    prediction = log_reg.predict(selected_original_Xtrain[test])\n",
    "    \n",
    "    accuracy_lst.append(pipeline.score(selected_original_Xtrain[test], original_ytrain[test]))\n",
    "    precision_lst.append(precision_score(original_ytrain[test], prediction))\n",
    "    recall_lst.append(recall_score(original_ytrain[test], prediction))\n",
    "    f1_lst.append(f1_score(original_ytrain[test], prediction))\n",
    "    auc_lst.append(roc_auc_score(original_ytrain[test], prediction))"
   ]
  },
  {
   "cell_type": "code",
   "execution_count": 19,
   "id": "ddfe5d51-81ac-41e9-abc7-9f7b3f32dcb8",
   "metadata": {},
   "outputs": [
    {
     "data": {
      "text/plain": [
       "['trained_models/log_reg_v3_smote_0.8_k4.joblib']"
      ]
     },
     "execution_count": 19,
     "metadata": {},
     "output_type": "execute_result"
    }
   ],
   "source": [
    "from joblib import dump, load\n",
    "dump(log_reg, 'trained_models/log_reg_v3_smote_0.8_k4.joblib') "
   ]
  },
  {
   "cell_type": "code",
   "execution_count": 20,
   "id": "38f5138d-241b-46bf-bc7b-68c2e73b01e1",
   "metadata": {},
   "outputs": [
    {
     "name": "stdout",
     "output_type": "stream",
     "text": [
      "accuracy 0.7230889999999999\n",
      "precision 0.005646617196464971\n",
      "recall 0.4167429666155549\n",
      "f1 0.011131395453720374\n",
      "auc 0.5704827764143134\n"
     ]
    }
   ],
   "source": [
    "print(f'accuracy {np.mean(accuracy_lst)}')\n",
    "print(f'precision {np.mean(precision_lst)}')\n",
    "print(f'recall {np.mean(recall_lst)}')\n",
    "print(f'f1 {np.mean(f1_lst)}')\n",
    "print(f'auc {np.mean(auc_lst)}')"
   ]
  },
  {
   "cell_type": "code",
   "execution_count": null,
   "id": "d485034b-2539-4e67-9723-347645b8c32d",
   "metadata": {},
   "outputs": [],
   "source": []
  }
 ],
 "metadata": {
  "kernelspec": {
   "display_name": "nlp",
   "language": "python",
   "name": "nlp"
  },
  "language_info": {
   "codemirror_mode": {
    "name": "ipython",
    "version": 3
   },
   "file_extension": ".py",
   "mimetype": "text/x-python",
   "name": "python",
   "nbconvert_exporter": "python",
   "pygments_lexer": "ipython3",
   "version": "3.10.12"
  }
 },
 "nbformat": 4,
 "nbformat_minor": 5
}
